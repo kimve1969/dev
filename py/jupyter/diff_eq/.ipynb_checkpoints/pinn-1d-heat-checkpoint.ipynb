{
 "cells": [
  {
   "cell_type": "markdown",
   "id": "3b9a4b21-d8d9-46af-bf6f-77c1184a046a",
   "metadata": {},
   "source": [
    "# Physics-Informed Neural Networks (PINNs)\n",
    "\n",
    "Теоретическая основа: универсальная теорема аппроксимации (доказана Джорджем Цибенко в 1989 году и Куртом Хорником в 1991): \\\n",
    "Однослойная нейроная сеть с достаточно большим числом нейронов и нелинейной гладкой функцией \\\n",
    "(например, sigmoid или tanh) может приблизить любую непрерывную функцию на компактном множестве \\\n",
    "с любой заданной точностью. \n",
    "\n",
    "$$\n",
    "sup_{x \\in K}| f(x) - N(x) | < \\epsilon\n",
    "$$"
   ]
  },
  {
   "cell_type": "markdown",
   "id": "5ab0bfc7-18fc-4b56-8e59-37cba3dcd992",
   "metadata": {
    "editable": true,
    "slideshow": {
     "slide_type": ""
    },
    "tags": []
   },
   "source": [
    "# Уравнение теплопроводности\n",
    "\n",
    "$$ \\frac{\\partial u(x,t)}{\\partial t}=\\frac{\\partial}{\\partial x}(k(x)*\\frac{\\partial u(x,t)}{\\partial x})+f(x,t)) $$\n",
    "$$ x \\in (0,L), \\, t \\in (0,T] $$ \\\n",
    "$ u(x,t) $ - температура  \\\n",
    "$ k(x) $ - коэф.теплопроводности \\\n",
    "$ f(x,t) $ - источники \\\\ стоки\n",
    "### Начальные условия:\n",
    "$$ u(x,0)=g_{IC}(x) $$\n",
    "$$ x \\in [0,L], \\, t = 0 $$\n",
    "### Граничные условия (например, первого рода):\n",
    "$$ u(0,t)=g_{LB}(t), u(L,t)=g_{RB}(t) $$\n",
    "$$ x \\in \\{0,L\\}, \\, t \\in (0,T] $$"
   ]
  },
  {
   "cell_type": "markdown",
   "id": "901ae47f-ef7b-4e7b-9b07-5a7d6f99e630",
   "metadata": {
    "editable": true,
    "slideshow": {
     "slide_type": ""
    },
    "tags": []
   },
   "source": [
    "# Аппроксимация дифференциального уравнения нейроной сетью\n",
    "$ N_u(x,t) $ - нейросеть аппроксимирует u(x,t),тогда аппроксимированное ур-ие теплопроводности примет вид:\n",
    "$$\n",
    "\\frac{\\partial N_u(x,t)}{\\partial t}=\\frac{\\partial}{\\partial x}(k(x) \\frac{\\partial N_u(x,t)}{\\partial x})+f(x,t))\n",
    "$$\n",
    "\n",
    "или раскроем производную произведения и перенесем все в левую сторону\n",
    "$$\n",
    "\\frac{\\partial N_u(x,t)}{\\partial t} - \\frac{\\partial k(x)}{\\partial x} \\frac{\\partial N_u(x,t)}{\\partial x} - k(x) \\frac{\\partial^2 N_u(x,t)}{\\partial x^2} -f(x,t)) = 0\n",
    "$$\n",
    "\n",
    "Производная нейросети $ N_u(x,t) $, состоящая, например, из входа -> два внутренних слоя -> выход - \n",
    "это гладкая функция как композиция слоев нейросети \\\n",
    "$$ N_u(x,t) = f_3(f_2(f_1(x,t,\\theta), \\theta), \\theta), $$ \\\n",
    "$ f_1, f_2, f_3 $ - слои нейросети (линейные преобразования + функции активации) \\\n",
    "$ \\theta_i $ - обучаемые параметры (веса и смещения) \\\n",
    "производная $  N_u(x,t) $ вычисляется по цепному правилу:\n",
    "$$\n",
    "\\frac{\\partial N_u}{\\partial x} = \\frac{\\partial f_3}{\\partial f_2} * \\frac{\\partial f_2}{\\partial f_1} * \\frac{\\partial f_1}{\\partial x}\n",
    "$$\n",
    "где каждый член это якобиан (матрица частных производных)"
   ]
  },
  {
   "cell_type": "markdown",
   "id": "ddb32d2a-6e34-4abd-8f53-2740e7ab5440",
   "metadata": {},
   "source": [
    "# Функция потерь (loss function)\n",
    "### 1. Partial Differential Equation loss: ошибка аппроксимации дифф.ур-ия нейронной сетью\n",
    "$$\n",
    "L_{PDE} = \\frac{1}{M} \\sum_{j=1}^M || \\frac{\\partial N_u(x,t)}{\\partial t} - \\frac{\\partial k(x)}{\\partial x} \\frac{\\partial N_u(x,t)}{\\partial x} - k(x) \\frac{\\partial^2 N_u(x,t)}{\\partial x^2} -f(x,t) ||^2\n",
    "$$\n",
    "$$ x \\in (0,L), t \\in (0,T] $$\n",
    "### 2. Initial condition loss: ошибка нейронной сети по начальным условиям\n",
    "$$ L_{IC} = \\frac{1}{K} \\sum_{j=1}^K || N_u(x,0) - g_{IC}(x) ||^2 $$\n",
    "$$ x \\in [0;L], t = 0 $$\n",
    "### 3. Boundary condition loss: ошибка нейронной сети по граничным условиям\n",
    "$$ L_{BC} = \\frac{1}{P} (\\sum_{j=1}^P || N_u(0,t) - g_{LB}(t) ||^2 + \\sum_{j=1}^P || N_u(L,t) - g_{RB}(t) ||^2) $$\n",
    "$$ x \\in \\{0,L\\}, t \\in (0,T] $$\n",
    "### 4. Data loss: ошибка предсказанных и экспериментальных данных\n",
    "$$ L_{data} = \\frac{1}{N} \\sum_{j=1}^N || N_u(x,t) - u_{data}(x,t) ||^2 $$\n",
    "$$ x \\in (0,L), t \\in (0,T] $$\n",
    "### Итоговый лосс:\n",
    "$$ L = \\lambda_{PDE} L_{PDE} + \\lambda_{IC} L_{IC} + \\lambda_{BC} L_{BC} + \\lambda_{data} L_{data} $$\n",
    "пояснение по выбору M,K,P,N пусть \n",
    "K - число пропорциональное кол-ву шагов дискретизации по времени, \n",
    "P - число пропорциональное кол-ву шагов дискретизации по пространству (в данном случае одномерному)\n",
    "тогда \n",
    "M - будет числом пропорциональным K*P кол-ву шагов дискретизации внутренней области определения\n",
    "N - кол-во возможных экспериментальных данных, которые попадают во внутреннюю область \\\n",
    "Таким образом:\n",
    "1. Решаем ПРЯМУЮ ЗАДАЧУ - на выходе получаем PINN физической модели (аппроксимацию дифференциального уравнения в частных производных с учетом нач. и гр. условий)\n",
    "$$ L_{phys} = \\lambda_{PDE} L_{PDE} + \\lambda_{IC} L_{IC} + \\lambda_{BC} L_{BC} $$\n",
    "3. Решаем ОБРАТНУЮ ЗАДАЧУ - дополнительно к аппроксимации физической модели $ N_u(x,t) $ добавляем в уравнение аппроксимацию, например, коэффициента теплопроводности $ N_k(x) $ и решаем задачу оптимизации двух PINN сетей  "
   ]
  },
  {
   "cell_type": "markdown",
   "id": "06ef0923-b2bc-46b2-9468-0dd0a2b254e5",
   "metadata": {},
   "source": [
    "Пояснение по виду лоссов: $ loss = \\frac{1}{N} \\sum_{j=1}^N ||x||^2  $, где ||*|| - Евклидова норма. \\\n",
    "Если x - вектор независимых параметров, т.е. $ x \\in \\{x_1, x_2, ..., x_n\\} $\n",
    "то $ ||x|| = \\sqrt {x_1^2 + x_2^2 + ... x_n^2} $ (длина n-мерного вектора)  или $ ||x||^2 = \\sum_{i=1}^n x_i^2 $, тогда:\n",
    "$ loss =  \\frac{1}{N} \\sum_{j=1}^N (\\sum_{i=1}^n x_i^2) $, где первая сумма (справа) - длина n-мерного вектора в квадрате,\n",
    "а вторая сумма (слева) - среднее значение N длин в квадрате n-мерных векторов \\\n",
    "Если x - это скаляр, тогда: $ loss = \\frac{1}{N} \\sum_{j=1}^N (x^2) $"
   ]
  },
  {
   "cell_type": "markdown",
   "id": "439210de-c544-419e-80c6-99204b2d919e",
   "metadata": {},
   "source": [
    "# ПРИМЕР\n",
    "## 1. ПРЯМАЯ ЗАДАЧА\n",
    "### Пусть исходные данные следующие:\n",
    "$$ x \\in [0,1], \\, t \\in [0,1] $$\n",
    "$$ u(0,t) = u(L,t)=0 $$\n",
    "$$ u(x,0) = sin(\\pi * x) $$\n",
    "$$ k(x) = k_a \\, cos(2 \\pi x) + k_b $$ \n",
    "$$ \\frac{\\partial k(x)}{\\partial x} = - k_a 2 \\pi \\, sin(2 \\pi x) $$\n",
    "$$ f(x,t) = 0 $$\n",
    "Значения $ k_a $ и $ k_b $ такие, что $ k(x) $ положителен на всем интервале x тогда:\n",
    "### Partial Differential Equation loss:\n",
    "$$\n",
    "L_{PDE} = \\frac{1}{M} \\sum_{j=1}^M || \\frac{\\partial N_u(x,t)}{\\partial t} + k_a 2 \\pi \\, sin(2 \\pi x)*\\frac{\\partial N_u(x,t)}{\\partial x} - (k_a \\, cos(2 \\pi x) + k_b) *\\frac{\\partial^2 N_u(x,t)}{\\partial x^2} ||^2\n",
    "$$ \n",
    "$$ x \\in (0;L), t \\in (0;T] $$\n",
    "### Initial condition loss:\n",
    "$$ L_{IC} = \\frac{1}{K} \\sum_{j=1}^K || N_u(x,0) - sin(\\pi * x) ||^2 $$\n",
    "$$ x \\in [0;L], t = 0 $$\n",
    "### Boundary condition loss:\n",
    "$$ L_{BC} = \\frac{1}{P} (\\sum_{j=1}^P || N_u(0,t) ||^2 + \\sum_{j=1}^P || N_u(L,t) ||^2) $$\n",
    "$$ x=\\{0,L\\}, t \\in (0;T] $$"
   ]
  },
  {
   "cell_type": "markdown",
   "id": "8530f509-3f15-4a3d-9bae-797cfe25ea1d",
   "metadata": {
    "editable": true,
    "slideshow": {
     "slide_type": ""
    },
    "tags": []
   },
   "source": [
    "# 1.1 Создаем PDE нейроную сеть\n",
    "### 2 (вход) -> 5 (1-ый внутр.слой) -> 5 (2-ой внутр.слой) -> 1 (выход)"
   ]
  },
  {
   "cell_type": "code",
   "execution_count": 1,
   "id": "1400555e-e269-4529-ba74-bd61586d0133",
   "metadata": {},
   "outputs": [],
   "source": [
    "# Создаем нейросеть 2->5->5->1\n",
    "import torch\n",
    "import torch.nn as nn\n",
    "\n",
    "class Nu( nn.Module ):\n",
    "    def __init__(self):\n",
    "        super().__init__()\n",
    "        self.fc = nn.Sequential(\n",
    "            nn.Linear(2,5),\n",
    "            nn.Sigmoid(),\n",
    "            nn.Linear(5,5),\n",
    "            nn.Sigmoid(),\n",
    "            nn.Linear(5,1)\n",
    "        )\n",
    "\n",
    "    def forward(self, x, t):\n",
    "        return self.fc( torch.cat([x, t], dim=1) ) # self.layers()"
   ]
  },
  {
   "cell_type": "code",
   "execution_count": 2,
   "id": "c315ad1d-bb6e-4542-b529-419f5bd05e65",
   "metadata": {},
   "outputs": [
    {
     "data": {
      "text/plain": [
       "Nu(\n",
       "  (fc): Sequential(\n",
       "    (0): Linear(in_features=2, out_features=5, bias=True)\n",
       "    (1): Sigmoid()\n",
       "    (2): Linear(in_features=5, out_features=5, bias=True)\n",
       "    (3): Sigmoid()\n",
       "    (4): Linear(in_features=5, out_features=1, bias=True)\n",
       "  )\n",
       ")"
      ]
     },
     "execution_count": 2,
     "metadata": {},
     "output_type": "execute_result"
    }
   ],
   "source": [
    "u_net = Nu()\n",
    "u_net"
   ]
  },
  {
   "cell_type": "markdown",
   "id": "0357a30b-c37f-46d1-9940-6f7202b998b7",
   "metadata": {},
   "source": [
    "# 1.2 Проверка работы нейросети (вручную проходим от входа на выход по всем слоям)\n",
    "### 1.2.1 2 нейрона (вход) -> 5 нейронов (1-ый внутр.слой)\n",
    "$$\n",
    "h_i = Sigmoid(\\sum_{j=1}^2 w_{ij}x_j + b_i), i = 1,2,3,4,5\n",
    "$$\n",
    "\n",
    "или в матричном кратком виде: $ h = Sigmoid(W*x+b) $, или в матричном полном виде:\n",
    "$$\n",
    "\\begin{vmatrix}\n",
    "h_1 \\\\\n",
    "h_2 \\\\\n",
    "h_3 \\\\\n",
    "h_4 \\\\\n",
    "h_5\n",
    "\\end{vmatrix} \\quad = \\quad\n",
    "Sigmoid\n",
    "\\begin{pmatrix}\n",
    "\\begin{vmatrix}\n",
    "w_{11} & w_{12} \\\\\n",
    "w_{21} & w_{22} \\\\\n",
    "w_{31} & w_{32} \\\\\n",
    "w_{41} & w_{42} \\\\\n",
    "w_{51} & w_{52}\n",
    "\\end{vmatrix} *\n",
    "\\begin{vmatrix}\n",
    "x_1 \\\\\n",
    "x_2\n",
    "\\end{vmatrix} \\quad + \\quad\n",
    "\\begin{vmatrix}\n",
    "b_1 \\\\\n",
    "b_2 \\\\\n",
    "b_3 \\\\\n",
    "b_4 \\\\\n",
    "b_5\n",
    "\\end{vmatrix}\n",
    "\\end{pmatrix}\n",
    "$$"
   ]
  },
  {
   "cell_type": "code",
   "execution_count": 3,
   "id": "a124f725-7fef-439d-b570-8a853a501c92",
   "metadata": {},
   "outputs": [
    {
     "data": {
      "text/plain": [
       "tensor([[0.1000],\n",
       "        [0.2000]])"
      ]
     },
     "execution_count": 3,
     "metadata": {},
     "output_type": "execute_result"
    }
   ],
   "source": [
    "xt = torch.tensor([0.1, 0.2]).view(-1,1)\n",
    "xt"
   ]
  },
  {
   "cell_type": "code",
   "execution_count": 4,
   "id": "59e928a0-341e-477c-b160-0780c511a2c4",
   "metadata": {},
   "outputs": [
    {
     "name": "stdout",
     "output_type": "stream",
     "text": [
      "Parameter containing:\n",
      "tensor([[-0.4795,  0.3403],\n",
      "        [-0.3763, -0.4927],\n",
      "        [ 0.0390, -0.1309],\n",
      "        [ 0.2942,  0.3787],\n",
      "        [-0.5467, -0.5960]], requires_grad=True)\n",
      "Parameter containing:\n",
      "tensor([-0.4967, -0.5521,  0.1468, -0.1301,  0.6784], requires_grad=True)\n"
     ]
    }
   ],
   "source": [
    "# 2-> 5\n",
    "print(u_net.fc[0].weight)\n",
    "print(u_net.fc[0].bias)"
   ]
  },
  {
   "cell_type": "code",
   "execution_count": 5,
   "id": "9f9d897e-0155-4e36-942d-b3cfe6c99c8d",
   "metadata": {},
   "outputs": [
    {
     "data": {
      "text/plain": [
       "tensor([[0.3831],\n",
       "        [0.3344],\n",
       "        [0.5311],\n",
       "        [0.4938],\n",
       "        [0.6235]], grad_fn=<SigmoidBackward0>)"
      ]
     },
     "execution_count": 5,
     "metadata": {},
     "output_type": "execute_result"
    }
   ],
   "source": [
    "# h = Sigmoid( W(1)x+b(1) )\n",
    "h = torch.sigmoid( u_net.fc[0].weight @ xt + u_net.fc[0].bias.view(-1,1) )\n",
    "h"
   ]
  },
  {
   "cell_type": "markdown",
   "id": "b016ae05-5944-438b-805a-86e530446006",
   "metadata": {},
   "source": [
    "### 1.2.2 5 нейронов (1-ый внутр.слой) -> 5 нейронов (2-ый внутр.слой)\n",
    "$$\n",
    "g_i = Sigmoid(\\sum_{j=1}^5 w_{ij}h_j + b_i), i = 1,2,3,4,5\n",
    "$$\n",
    "\n",
    "или в матричном кратком виде: $ g = Sigmoid(W*h+b) $, или в матричном полном виде:\n",
    "$$\n",
    "\\begin{vmatrix}\n",
    "g_1 \\\\\n",
    "g_2 \\\\\n",
    "g_3 \\\\\n",
    "g_4 \\\\\n",
    "g_5\n",
    "\\end{vmatrix} \\quad = \\quad\n",
    "Sigmoid\n",
    "\\begin{pmatrix}\n",
    "\\begin{vmatrix}\n",
    "w_{11} & w_{12} & w_{13} & w_{14} & w_{15} \\\\\n",
    "w_{21} & w_{22} & w_{23} & w_{24} & w_{25} \\\\\n",
    "w_{31} & w_{32} & w_{33} & w_{34} & w_{35} \\\\\n",
    "w_{41} & w_{42} & w_{43} & w_{44} & w_{45} \\\\\n",
    "w_{51} & w_{52} & w_{53} & w_{54} & w_{55} \n",
    "\\end{vmatrix} *\n",
    "\\begin{vmatrix}\n",
    "h_1 \\\\\n",
    "h_2 \\\\\n",
    "h_3 \\\\\n",
    "h_4 \\\\\n",
    "h_5\n",
    "\\end{vmatrix} \\quad + \\quad\n",
    "\\begin{vmatrix}\n",
    "b_1 \\\\\n",
    "b_2 \\\\\n",
    "b_3 \\\\\n",
    "b_4 \\\\\n",
    "b_5\n",
    "\\end{vmatrix}\n",
    "\\end{pmatrix}\n",
    "$$"
   ]
  },
  {
   "cell_type": "code",
   "execution_count": 6,
   "id": "531df2ed-c8ea-4cf6-9e2c-ba50ed65f3ce",
   "metadata": {},
   "outputs": [
    {
     "name": "stdout",
     "output_type": "stream",
     "text": [
      "Parameter containing:\n",
      "tensor([[ 0.4354, -0.0724,  0.1701, -0.0844,  0.2248],\n",
      "        [ 0.0143,  0.1305, -0.2089, -0.2649, -0.0050],\n",
      "        [ 0.2011,  0.2949, -0.1751, -0.1172,  0.1893],\n",
      "        [-0.3732, -0.1191,  0.0537, -0.1866,  0.3873],\n",
      "        [-0.1094, -0.2626, -0.1889, -0.1121, -0.0229]], requires_grad=True)\n",
      "Parameter containing:\n",
      "tensor([-0.1107,  0.1485, -0.2241, -0.0726, -0.2749], requires_grad=True)\n"
     ]
    }
   ],
   "source": [
    "# 5-> 5\n",
    "print(u_net.fc[2].weight)\n",
    "print(u_net.fc[2].bias)"
   ]
  },
  {
   "cell_type": "code",
   "execution_count": 7,
   "id": "064fbc0d-b338-426d-a6b8-c35ea635bc40",
   "metadata": {},
   "outputs": [
    {
     "data": {
      "text/plain": [
       "tensor([[0.5549],\n",
       "        [0.4882],\n",
       "        [0.4797],\n",
       "        [0.4806],\n",
       "        [0.3602]], grad_fn=<SigmoidBackward0>)"
      ]
     },
     "execution_count": 7,
     "metadata": {},
     "output_type": "execute_result"
    }
   ],
   "source": [
    "# g = Sigmoid( W(2)h+b(2) )\n",
    "g = torch.sigmoid( u_net.fc[2].weight @ h + u_net.fc[2].bias.view(-1,1) )\n",
    "g"
   ]
  },
  {
   "cell_type": "markdown",
   "id": "1a1a980c-b802-43f4-9565-60cd23f43467",
   "metadata": {},
   "source": [
    "### 1.2.3 5 нейронов (2-ый внутр.слой) -> 1 нейрон (выход)\n",
    "$$\n",
    "y_i = \\sum_{j=1}^5 w_{ij}g_j + b_i, i = 1\n",
    "$$\n",
    "\n",
    "или в матричном кратком виде: $ y = W*g+b $, или в матричном полном виде:\n",
    "$$\n",
    "\\begin{vmatrix}\n",
    "y_1\n",
    "\\end{vmatrix} \\quad = \\quad\n",
    "\\begin{vmatrix}\n",
    "w_{11} & w_{12} & w_{13} & w_{14} & w_{15} \\\\\n",
    "\\end{vmatrix} *\n",
    "\\begin{vmatrix}\n",
    "g_1 \\\\\n",
    "g_2 \\\\\n",
    "g_3 \\\\\n",
    "g_4 \\\\\n",
    "g_5\n",
    "\\end{vmatrix} \\quad + \\quad\n",
    "\\begin{vmatrix}\n",
    "b_1\n",
    "\\end{vmatrix}\n",
    "$$\n",
    "\n",
    "Обратите внимание, что функции активации нет, но могла бы быть. "
   ]
  },
  {
   "cell_type": "code",
   "execution_count": 8,
   "id": "8f2edd52-981f-454a-9946-a696514d0ba3",
   "metadata": {},
   "outputs": [
    {
     "name": "stdout",
     "output_type": "stream",
     "text": [
      "Parameter containing:\n",
      "tensor([[-0.3696, -0.1404,  0.4456,  0.3393, -0.0386]], requires_grad=True)\n",
      "Parameter containing:\n",
      "tensor([-0.3989], requires_grad=True)\n"
     ]
    }
   ],
   "source": [
    "# 5 -> 1\n",
    "print(u_net.fc[4].weight)\n",
    "print(u_net.fc[4].bias)"
   ]
  },
  {
   "cell_type": "code",
   "execution_count": 9,
   "id": "a9f51531-2720-4965-a351-2960919620f4",
   "metadata": {},
   "outputs": [
    {
     "data": {
      "text/plain": [
       "tensor([[-0.3097]], grad_fn=<AddBackward0>)"
      ]
     },
     "execution_count": 9,
     "metadata": {},
     "output_type": "execute_result"
    }
   ],
   "source": [
    "# y = W(3)g+b(3)\n",
    "y = u_net.fc[4].weight @ g + u_net.fc[4].bias.view(-1,1)\n",
    "y"
   ]
  },
  {
   "cell_type": "markdown",
   "id": "ce94d001-7036-42db-8e5a-950c88e9539c",
   "metadata": {},
   "source": [
    "# 1.3 Проверка ручных вычислений с автоматическим (передачей параметров в нейроную сеть)"
   ]
  },
  {
   "cell_type": "code",
   "execution_count": 10,
   "id": "e9236b81-59f9-4edb-8fdb-717b29ea9bb9",
   "metadata": {
    "editable": true,
    "slideshow": {
     "slide_type": ""
    },
    "tags": []
   },
   "outputs": [
    {
     "name": "stdout",
     "output_type": "stream",
     "text": [
      "tensor([[0.1000, 0.2000]])\n"
     ]
    },
    {
     "data": {
      "text/plain": [
       "tensor([[-0.3097]], grad_fn=<AddmmBackward0>)"
      ]
     },
     "execution_count": 10,
     "metadata": {},
     "output_type": "execute_result"
    }
   ],
   "source": [
    "# придется входные данные представить немного в ином виде, т.к. в модели нейронки Nu параметры передаются\n",
    "# в пакетном batch режиме\n",
    "x_batch = xt[0].view(-1,1)\n",
    "t_batch = xt[1].view(-1,1)\n",
    "print(torch.cat([x_batch,t_batch], dim=1))\n",
    "# предсказания, на данном этапе нейронка инициализируется каким-то начальными значениями, \n",
    "# соответсвенно предсказание носит некий случайный характер в начале\n",
    "u_pred = u_net(x_batch,t_batch)\n",
    "u_pred"
   ]
  },
  {
   "cell_type": "code",
   "execution_count": 11,
   "id": "a6996b80-5642-444f-9231-93856d75fd1e",
   "metadata": {},
   "outputs": [
    {
     "name": "stdout",
     "output_type": "stream",
     "text": [
      "OK\n"
     ]
    }
   ],
   "source": [
    "if y == u_pred:\n",
    "    print(\"OK\")\n",
    "else:\n",
    "    print(\"FAILED\")"
   ]
  },
  {
   "cell_type": "markdown",
   "id": "955a077f-4f7e-4e66-a1f5-e06f7e83575d",
   "metadata": {},
   "source": [
    "# 1.4 Задаем области определения"
   ]
  },
  {
   "cell_type": "markdown",
   "id": "23ec53b7-c5cd-4a11-a9cb-c6995eb28a08",
   "metadata": {},
   "source": [
    "Пусть вся область будет 10х10, из них:\n",
    "1. внутрення область - 8х9 = 72\n",
    "2. начальные условия - 10х1 = 10\n",
    "3. граничные условия - 9х1х2 = 18"
   ]
  },
  {
   "cell_type": "markdown",
   "id": "9c1785e5-d230-461b-b2c6-e472adbd2b74",
   "metadata": {},
   "source": [
    "### $ x \\in (0,1) \\, , t \\in (0,1] $"
   ]
  },
  {
   "cell_type": "code",
   "execution_count": 2,
   "id": "6898a1c5-5635-4d73-bb3c-8898cc3fcf49",
   "metadata": {},
   "outputs": [
    {
     "data": {
      "text/plain": [
       "tensor([0.1111, 0.2222, 0.3333, 0.4444, 0.5556, 0.6667, 0.7778, 0.8889])"
      ]
     },
     "execution_count": 2,
     "metadata": {},
     "output_type": "execute_result"
    }
   ],
   "source": [
    "temp = torch.linspace(0,1,10)[1:9]\n",
    "temp"
   ]
  },
  {
   "cell_type": "code",
   "execution_count": 3,
   "id": "f12af9f8-23b7-49bd-9836-92aea5c6fc91",
   "metadata": {},
   "outputs": [
    {
     "data": {
      "text/plain": [
       "torch.Size([72, 1])"
      ]
     },
     "execution_count": 3,
     "metadata": {},
     "output_type": "execute_result"
    }
   ],
   "source": [
    "temp = torch.linspace(0,1,10)[1:9]\n",
    "x_batch_pde = torch.empty(0)\n",
    "\n",
    "for x in temp:\n",
    "    x_batch_pde = torch.cat( [x_batch_pde, x * torch.ones(9) ])\n",
    "x_batch_pde = x_batch_pde.view(-1,1)\n",
    "x_batch_pde.requires_grad = True\n",
    "x_batch_pde.size()"
   ]
  },
  {
   "cell_type": "code",
   "execution_count": 4,
   "id": "142f040e-b2e3-45ff-ab63-3833c30905d6",
   "metadata": {},
   "outputs": [
    {
     "data": {
      "text/plain": [
       "torch.Size([72, 1])"
      ]
     },
     "execution_count": 4,
     "metadata": {},
     "output_type": "execute_result"
    }
   ],
   "source": [
    "t_batch_pde = torch.empty(0)\n",
    "\n",
    "for i in temp:\n",
    "    t_batch_pde = torch.cat( [ t_batch_pde, torch.linspace(0,1,10)[1:10] ] )\n",
    "t_batch_pde = t_batch_pde.view(-1,1)\n",
    "t_batch_pde.requires_grad = True\n",
    "t_batch_pde.size()"
   ]
  },
  {
   "cell_type": "code",
   "execution_count": 5,
   "id": "9b26525b-e42e-413d-a973-0968dec87dc0",
   "metadata": {},
   "outputs": [
    {
     "data": {
      "text/plain": [
       "torch.Size([72, 2])"
      ]
     },
     "execution_count": 5,
     "metadata": {},
     "output_type": "execute_result"
    }
   ],
   "source": [
    "torch.cat( [ x_batch_pde, t_batch_pde], dim=1 ).size()"
   ]
  },
  {
   "cell_type": "markdown",
   "id": "9026b1fe-78ad-4dd2-825d-0554d711430b",
   "metadata": {},
   "source": [
    "### $ x \\in [0,1] \\, , t=0 $"
   ]
  },
  {
   "cell_type": "code",
   "execution_count": 6,
   "id": "6bcee84d-36a4-406e-9c99-a385325d77ba",
   "metadata": {},
   "outputs": [
    {
     "data": {
      "text/plain": [
       "torch.Size([10, 2])"
      ]
     },
     "execution_count": 6,
     "metadata": {},
     "output_type": "execute_result"
    }
   ],
   "source": [
    "x_batch_ic = torch.linspace(0,1,10).view(-1,1)\n",
    "t_batch_ic = torch.zeros(10).view(-1,1)\n",
    "\n",
    "x_batch_ic.requires_grad = True\n",
    "t_batch_ic.requires_grad = True\n",
    "\n",
    "torch.cat([x_batch_ic, t_batch_ic], dim=1).size()"
   ]
  },
  {
   "cell_type": "markdown",
   "id": "6726ee59-c60e-4def-b9e5-35895e8ed851",
   "metadata": {},
   "source": [
    "### $ x \\in \\{0,1\\} \\, , t \\in (0,1] $"
   ]
  },
  {
   "cell_type": "code",
   "execution_count": 7,
   "id": "93efde92-c456-423e-9349-025b52eb988b",
   "metadata": {},
   "outputs": [
    {
     "data": {
      "text/plain": [
       "torch.Size([18, 2])"
      ]
     },
     "execution_count": 7,
     "metadata": {},
     "output_type": "execute_result"
    }
   ],
   "source": [
    "x_batch_bc = torch.cat( [torch.zeros(9).view(-1,1), torch.ones(9).view(-1,1)])\n",
    "t_batch_bc = torch.cat( [torch.linspace(0,1,10)[1:10].view(-1,1), torch.linspace(0,1,10)[1:10].view(-1,1)] )\n",
    "\n",
    "x_batch_bc.requires_grad = True\n",
    "t_batch_bc.requires_grad = True\n",
    "\n",
    "torch.cat([x_batch_bc, t_batch_bc], dim=1).size()"
   ]
  },
  {
   "cell_type": "markdown",
   "id": "b41c377a-6b8b-41ff-a51a-0a5852708a4b",
   "metadata": {},
   "source": [
    "### Полная область определения"
   ]
  },
  {
   "cell_type": "code",
   "execution_count": 8,
   "id": "f0bd0de0-5a3f-4862-b613-9caa3a757e9a",
   "metadata": {},
   "outputs": [
    {
     "data": {
      "text/plain": [
       "torch.Size([100, 2])"
      ]
     },
     "execution_count": 8,
     "metadata": {},
     "output_type": "execute_result"
    }
   ],
   "source": [
    "x_batch = torch.cat([x_batch_pde, x_batch_ic, x_batch_bc])\n",
    "t_batch = torch.cat([t_batch_pde, t_batch_ic, t_batch_bc])\n",
    "\n",
    "torch.cat([x_batch, t_batch], dim=1).size()"
   ]
  },
  {
   "cell_type": "code",
   "execution_count": 108,
   "id": "0052955e-17f2-48a2-8655-0289a2bb8e15",
   "metadata": {},
   "outputs": [],
   "source": [
    "u_net = Nu()"
   ]
  },
  {
   "cell_type": "code",
   "execution_count": 109,
   "id": "6a49192b-da82-4586-9c28-8633655bbef8",
   "metadata": {},
   "outputs": [],
   "source": [
    "optimizer = torch.optim.Adam( u_net.parameters(), lr=1e-2 )"
   ]
  },
  {
   "cell_type": "markdown",
   "id": "61f25709-91d1-489f-9c9d-f6ea45a0d88f",
   "metadata": {},
   "source": [
    "# 1.5 Обучение"
   ]
  },
  {
   "cell_type": "code",
   "execution_count": 110,
   "id": "2360e264-e07d-42ee-9ee2-4eacd355045e",
   "metadata": {},
   "outputs": [
    {
     "name": "stdout",
     "output_type": "stream",
     "text": [
      "Epoch [0/10000], Loss: 0.60818, loss pde: 0.00007, loss ic: 0.59557, loss bc: 0.01254\n",
      "Epoch [20/10000], Loss: 0.30854, loss pde: 0.00014, loss ic: 0.16720, loss bc: 0.14120\n",
      "Epoch [40/10000], Loss: 0.28958, loss pde: 0.00000, loss ic: 0.21789, loss bc: 0.07169\n",
      "Epoch [60/10000], Loss: 0.28561, loss pde: 0.00013, loss ic: 0.21085, loss bc: 0.07463\n",
      "Epoch [80/10000], Loss: 0.28108, loss pde: 0.00082, loss ic: 0.20074, loss bc: 0.07951\n",
      "Epoch [100/10000], Loss: 0.27619, loss pde: 0.00276, loss ic: 0.19865, loss bc: 0.07478\n",
      "Epoch [120/10000], Loss: 0.27231, loss pde: 0.00637, loss ic: 0.19539, loss bc: 0.07055\n",
      "Epoch [140/10000], Loss: 0.27000, loss pde: 0.01029, loss ic: 0.19240, loss bc: 0.06730\n",
      "Epoch [160/10000], Loss: 0.26816, loss pde: 0.01230, loss ic: 0.19049, loss bc: 0.06538\n",
      "Epoch [180/10000], Loss: 0.26579, loss pde: 0.01283, loss ic: 0.18882, loss bc: 0.06414\n",
      "Epoch [200/10000], Loss: 0.26246, loss pde: 0.01313, loss ic: 0.18656, loss bc: 0.06277\n",
      "Epoch [220/10000], Loss: 0.25787, loss pde: 0.01342, loss ic: 0.18338, loss bc: 0.06107\n",
      "Epoch [240/10000], Loss: 0.25183, loss pde: 0.01354, loss ic: 0.17916, loss bc: 0.05914\n",
      "Epoch [260/10000], Loss: 0.24441, loss pde: 0.01344, loss ic: 0.17381, loss bc: 0.05717\n",
      "Epoch [280/10000], Loss: 0.23594, loss pde: 0.01310, loss ic: 0.16742, loss bc: 0.05542\n",
      "Epoch [300/10000], Loss: 0.22677, loss pde: 0.01248, loss ic: 0.16027, loss bc: 0.05402\n",
      "Epoch [320/10000], Loss: 0.21660, loss pde: 0.01150, loss ic: 0.15251, loss bc: 0.05259\n",
      "Epoch [340/10000], Loss: 0.20324, loss pde: 0.00960, loss ic: 0.14368, loss bc: 0.04996\n",
      "Epoch [360/10000], Loss: 0.18131, loss pde: 0.00536, loss ic: 0.13157, loss bc: 0.04438\n",
      "Epoch [380/10000], Loss: 0.14816, loss pde: 0.00134, loss ic: 0.11055, loss bc: 0.03627\n",
      "Epoch [400/10000], Loss: 0.11230, loss pde: 0.00121, loss ic: 0.08056, loss bc: 0.03053\n",
      "Epoch [420/10000], Loss: 0.08367, loss pde: 0.00277, loss ic: 0.05254, loss bc: 0.02836\n",
      "Epoch [440/10000], Loss: 0.05989, loss pde: 0.00491, loss ic: 0.03241, loss bc: 0.02257\n",
      "Epoch [460/10000], Loss: 0.03900, loss pde: 0.00748, loss ic: 0.01866, loss bc: 0.01286\n",
      "Epoch [480/10000], Loss: 0.02672, loss pde: 0.01046, loss ic: 0.00955, loss bc: 0.00671\n",
      "Epoch [500/10000], Loss: 0.02182, loss pde: 0.01250, loss ic: 0.00540, loss bc: 0.00392\n",
      "Epoch [520/10000], Loss: 0.02014, loss pde: 0.01327, loss ic: 0.00401, loss bc: 0.00286\n",
      "Epoch [540/10000], Loss: 0.01941, loss pde: 0.01341, loss ic: 0.00351, loss bc: 0.00249\n",
      "Epoch [560/10000], Loss: 0.01895, loss pde: 0.01332, loss ic: 0.00329, loss bc: 0.00234\n",
      "Epoch [580/10000], Loss: 0.01856, loss pde: 0.01312, loss ic: 0.00318, loss bc: 0.00226\n",
      "Epoch [600/10000], Loss: 0.01821, loss pde: 0.01290, loss ic: 0.00311, loss bc: 0.00220\n",
      "Epoch [620/10000], Loss: 0.01789, loss pde: 0.01267, loss ic: 0.00307, loss bc: 0.00215\n",
      "Epoch [640/10000], Loss: 0.01759, loss pde: 0.01246, loss ic: 0.00304, loss bc: 0.00210\n",
      "Epoch [660/10000], Loss: 0.01732, loss pde: 0.01225, loss ic: 0.00302, loss bc: 0.00205\n",
      "Epoch [680/10000], Loss: 0.01706, loss pde: 0.01206, loss ic: 0.00300, loss bc: 0.00200\n",
      "Epoch [700/10000], Loss: 0.01681, loss pde: 0.01187, loss ic: 0.00298, loss bc: 0.00196\n",
      "Epoch [720/10000], Loss: 0.01658, loss pde: 0.01170, loss ic: 0.00297, loss bc: 0.00192\n",
      "Epoch [740/10000], Loss: 0.01637, loss pde: 0.01153, loss ic: 0.00296, loss bc: 0.00188\n",
      "Epoch [760/10000], Loss: 0.01616, loss pde: 0.01138, loss ic: 0.00294, loss bc: 0.00184\n",
      "Epoch [780/10000], Loss: 0.01597, loss pde: 0.01123, loss ic: 0.00293, loss bc: 0.00181\n",
      "Epoch [800/10000], Loss: 0.01578, loss pde: 0.01109, loss ic: 0.00291, loss bc: 0.00178\n",
      "Epoch [820/10000], Loss: 0.01561, loss pde: 0.01096, loss ic: 0.00289, loss bc: 0.00175\n",
      "Epoch [840/10000], Loss: 0.01544, loss pde: 0.01084, loss ic: 0.00287, loss bc: 0.00173\n",
      "Epoch [860/10000], Loss: 0.01528, loss pde: 0.01072, loss ic: 0.00285, loss bc: 0.00171\n",
      "Epoch [880/10000], Loss: 0.01513, loss pde: 0.01061, loss ic: 0.00283, loss bc: 0.00169\n",
      "Epoch [900/10000], Loss: 0.01498, loss pde: 0.01050, loss ic: 0.00280, loss bc: 0.00168\n",
      "Epoch [920/10000], Loss: 0.01484, loss pde: 0.01040, loss ic: 0.00277, loss bc: 0.00167\n",
      "Epoch [940/10000], Loss: 0.01470, loss pde: 0.01030, loss ic: 0.00274, loss bc: 0.00165\n",
      "Epoch [960/10000], Loss: 0.01456, loss pde: 0.01021, loss ic: 0.00271, loss bc: 0.00164\n",
      "Epoch [980/10000], Loss: 0.01443, loss pde: 0.01011, loss ic: 0.00268, loss bc: 0.00163\n",
      "Epoch [1000/10000], Loss: 0.01429, loss pde: 0.01002, loss ic: 0.00265, loss bc: 0.00162\n",
      "Epoch [1020/10000], Loss: 0.01416, loss pde: 0.00993, loss ic: 0.00261, loss bc: 0.00162\n",
      "Epoch [1040/10000], Loss: 0.01403, loss pde: 0.00984, loss ic: 0.00258, loss bc: 0.00161\n",
      "Epoch [1060/10000], Loss: 0.01390, loss pde: 0.00975, loss ic: 0.00254, loss bc: 0.00161\n",
      "Epoch [1080/10000], Loss: 0.01378, loss pde: 0.00966, loss ic: 0.00251, loss bc: 0.00161\n",
      "Epoch [1100/10000], Loss: 0.01365, loss pde: 0.00957, loss ic: 0.00247, loss bc: 0.00161\n",
      "Epoch [1120/10000], Loss: 0.01353, loss pde: 0.00947, loss ic: 0.00243, loss bc: 0.00162\n",
      "Epoch [1140/10000], Loss: 0.01340, loss pde: 0.00937, loss ic: 0.00240, loss bc: 0.00163\n",
      "Epoch [1160/10000], Loss: 0.01328, loss pde: 0.00927, loss ic: 0.00236, loss bc: 0.00165\n",
      "Epoch [1180/10000], Loss: 0.01316, loss pde: 0.00917, loss ic: 0.00233, loss bc: 0.00167\n",
      "Epoch [1200/10000], Loss: 0.01304, loss pde: 0.00906, loss ic: 0.00229, loss bc: 0.00169\n",
      "Epoch [1220/10000], Loss: 0.01292, loss pde: 0.00895, loss ic: 0.00226, loss bc: 0.00171\n",
      "Epoch [1240/10000], Loss: 0.01281, loss pde: 0.00884, loss ic: 0.00222, loss bc: 0.00174\n",
      "Epoch [1260/10000], Loss: 0.01269, loss pde: 0.00873, loss ic: 0.00218, loss bc: 0.00177\n",
      "Epoch [1280/10000], Loss: 0.01257, loss pde: 0.00861, loss ic: 0.00215, loss bc: 0.00181\n",
      "Epoch [1300/10000], Loss: 0.01246, loss pde: 0.00850, loss ic: 0.00211, loss bc: 0.00185\n",
      "Epoch [1320/10000], Loss: 0.01234, loss pde: 0.00838, loss ic: 0.00208, loss bc: 0.00188\n",
      "Epoch [1340/10000], Loss: 0.01223, loss pde: 0.00826, loss ic: 0.00204, loss bc: 0.00192\n",
      "Epoch [1360/10000], Loss: 0.01212, loss pde: 0.00814, loss ic: 0.00201, loss bc: 0.00196\n",
      "Epoch [1380/10000], Loss: 0.01201, loss pde: 0.00803, loss ic: 0.00197, loss bc: 0.00201\n",
      "Epoch [1400/10000], Loss: 0.01190, loss pde: 0.00791, loss ic: 0.00194, loss bc: 0.00205\n",
      "Epoch [1420/10000], Loss: 0.01179, loss pde: 0.00779, loss ic: 0.00191, loss bc: 0.00209\n",
      "Epoch [1440/10000], Loss: 0.01169, loss pde: 0.00768, loss ic: 0.00188, loss bc: 0.00214\n",
      "Epoch [1460/10000], Loss: 0.01159, loss pde: 0.00757, loss ic: 0.00185, loss bc: 0.00218\n",
      "Epoch [1480/10000], Loss: 0.01150, loss pde: 0.00746, loss ic: 0.00182, loss bc: 0.00222\n",
      "Epoch [1500/10000], Loss: 0.01141, loss pde: 0.00735, loss ic: 0.00179, loss bc: 0.00226\n",
      "Epoch [1520/10000], Loss: 0.01132, loss pde: 0.00725, loss ic: 0.00176, loss bc: 0.00231\n",
      "Epoch [1540/10000], Loss: 0.01123, loss pde: 0.00714, loss ic: 0.00174, loss bc: 0.00235\n",
      "Epoch [1560/10000], Loss: 0.01115, loss pde: 0.00705, loss ic: 0.00170, loss bc: 0.00240\n",
      "Epoch [1580/10000], Loss: 0.01108, loss pde: 0.00695, loss ic: 0.00174, loss bc: 0.00240\n",
      "Epoch [1600/10000], Loss: 0.01100, loss pde: 0.00688, loss ic: 0.00165, loss bc: 0.00247\n",
      "Epoch [1620/10000], Loss: 0.01093, loss pde: 0.00679, loss ic: 0.00164, loss bc: 0.00250\n",
      "Epoch [1640/10000], Loss: 0.01086, loss pde: 0.00671, loss ic: 0.00163, loss bc: 0.00252\n",
      "Epoch [1660/10000], Loss: 0.01080, loss pde: 0.00663, loss ic: 0.00161, loss bc: 0.00255\n",
      "Epoch [1680/10000], Loss: 0.01073, loss pde: 0.00656, loss ic: 0.00159, loss bc: 0.00258\n",
      "Epoch [1700/10000], Loss: 0.01068, loss pde: 0.00652, loss ic: 0.00152, loss bc: 0.00264\n",
      "Epoch [1720/10000], Loss: 0.01061, loss pde: 0.00641, loss ic: 0.00162, loss bc: 0.00258\n",
      "Epoch [1740/10000], Loss: 0.01054, loss pde: 0.00635, loss ic: 0.00157, loss bc: 0.00262\n",
      "Epoch [1760/10000], Loss: 0.01048, loss pde: 0.00629, loss ic: 0.00153, loss bc: 0.00265\n",
      "Epoch [1780/10000], Loss: 0.01042, loss pde: 0.00623, loss ic: 0.00153, loss bc: 0.00266\n",
      "Epoch [1800/10000], Loss: 0.01035, loss pde: 0.00617, loss ic: 0.00152, loss bc: 0.00267\n",
      "Epoch [1820/10000], Loss: 0.01029, loss pde: 0.00611, loss ic: 0.00151, loss bc: 0.00267\n",
      "Epoch [1840/10000], Loss: 0.01022, loss pde: 0.00606, loss ic: 0.00147, loss bc: 0.00269\n",
      "Epoch [1860/10000], Loss: 0.01016, loss pde: 0.00601, loss ic: 0.00144, loss bc: 0.00271\n",
      "Epoch [1880/10000], Loss: 0.01009, loss pde: 0.00594, loss ic: 0.00147, loss bc: 0.00268\n",
      "Epoch [1900/10000], Loss: 0.01002, loss pde: 0.00588, loss ic: 0.00147, loss bc: 0.00267\n",
      "Epoch [1920/10000], Loss: 0.00995, loss pde: 0.00582, loss ic: 0.00147, loss bc: 0.00266\n",
      "Epoch [1940/10000], Loss: 0.00988, loss pde: 0.00576, loss ic: 0.00147, loss bc: 0.00265\n",
      "Epoch [1960/10000], Loss: 0.00981, loss pde: 0.00570, loss ic: 0.00147, loss bc: 0.00264\n",
      "Epoch [1980/10000], Loss: 0.00973, loss pde: 0.00564, loss ic: 0.00146, loss bc: 0.00262\n",
      "Epoch [2000/10000], Loss: 0.00966, loss pde: 0.00559, loss ic: 0.00146, loss bc: 0.00261\n",
      "Epoch [2020/10000], Loss: 0.00962, loss pde: 0.00560, loss ic: 0.00134, loss bc: 0.00268\n",
      "Epoch [2040/10000], Loss: 0.00951, loss pde: 0.00549, loss ic: 0.00141, loss bc: 0.00261\n",
      "Epoch [2060/10000], Loss: 0.00943, loss pde: 0.00542, loss ic: 0.00144, loss bc: 0.00257\n",
      "Epoch [2080/10000], Loss: 0.00935, loss pde: 0.00536, loss ic: 0.00145, loss bc: 0.00254\n",
      "Epoch [2100/10000], Loss: 0.00927, loss pde: 0.00529, loss ic: 0.00146, loss bc: 0.00251\n",
      "Epoch [2120/10000], Loss: 0.00918, loss pde: 0.00523, loss ic: 0.00146, loss bc: 0.00249\n",
      "Epoch [2140/10000], Loss: 0.00910, loss pde: 0.00517, loss ic: 0.00146, loss bc: 0.00247\n",
      "Epoch [2160/10000], Loss: 0.00901, loss pde: 0.00510, loss ic: 0.00147, loss bc: 0.00244\n",
      "Epoch [2180/10000], Loss: 0.00892, loss pde: 0.00504, loss ic: 0.00147, loss bc: 0.00242\n",
      "Epoch [2200/10000], Loss: 0.00885, loss pde: 0.00500, loss ic: 0.00141, loss bc: 0.00243\n",
      "Epoch [2220/10000], Loss: 0.00876, loss pde: 0.00491, loss ic: 0.00154, loss bc: 0.00231\n",
      "Epoch [2240/10000], Loss: 0.00866, loss pde: 0.00485, loss ic: 0.00149, loss bc: 0.00232\n",
      "Epoch [2260/10000], Loss: 0.00857, loss pde: 0.00479, loss ic: 0.00148, loss bc: 0.00230\n",
      "Epoch [2280/10000], Loss: 0.00849, loss pde: 0.00472, loss ic: 0.00149, loss bc: 0.00227\n",
      "Epoch [2300/10000], Loss: 0.00839, loss pde: 0.00465, loss ic: 0.00150, loss bc: 0.00224\n",
      "Epoch [2320/10000], Loss: 0.00830, loss pde: 0.00459, loss ic: 0.00151, loss bc: 0.00221\n",
      "Epoch [2340/10000], Loss: 0.00821, loss pde: 0.00452, loss ic: 0.00152, loss bc: 0.00218\n",
      "Epoch [2360/10000], Loss: 0.00812, loss pde: 0.00445, loss ic: 0.00153, loss bc: 0.00215\n",
      "Epoch [2380/10000], Loss: 0.00803, loss pde: 0.00438, loss ic: 0.00154, loss bc: 0.00211\n",
      "Epoch [2400/10000], Loss: 0.00797, loss pde: 0.00430, loss ic: 0.00165, loss bc: 0.00201\n",
      "Epoch [2420/10000], Loss: 0.00787, loss pde: 0.00429, loss ic: 0.00147, loss bc: 0.00211\n",
      "Epoch [2440/10000], Loss: 0.00777, loss pde: 0.00418, loss ic: 0.00160, loss bc: 0.00199\n",
      "Epoch [2460/10000], Loss: 0.00768, loss pde: 0.00412, loss ic: 0.00158, loss bc: 0.00198\n",
      "Epoch [2480/10000], Loss: 0.00760, loss pde: 0.00406, loss ic: 0.00158, loss bc: 0.00196\n",
      "Epoch [2500/10000], Loss: 0.00751, loss pde: 0.00399, loss ic: 0.00159, loss bc: 0.00192\n",
      "Epoch [2520/10000], Loss: 0.00743, loss pde: 0.00393, loss ic: 0.00160, loss bc: 0.00189\n",
      "Epoch [2540/10000], Loss: 0.00735, loss pde: 0.00387, loss ic: 0.00161, loss bc: 0.00186\n",
      "Epoch [2560/10000], Loss: 0.00726, loss pde: 0.00381, loss ic: 0.00162, loss bc: 0.00183\n",
      "Epoch [2580/10000], Loss: 0.00718, loss pde: 0.00375, loss ic: 0.00163, loss bc: 0.00180\n",
      "Epoch [2600/10000], Loss: 0.00710, loss pde: 0.00369, loss ic: 0.00164, loss bc: 0.00177\n",
      "Epoch [2620/10000], Loss: 0.00703, loss pde: 0.00363, loss ic: 0.00168, loss bc: 0.00172\n",
      "Epoch [2640/10000], Loss: 0.00695, loss pde: 0.00360, loss ic: 0.00161, loss bc: 0.00175\n",
      "Epoch [2660/10000], Loss: 0.00687, loss pde: 0.00353, loss ic: 0.00167, loss bc: 0.00167\n",
      "Epoch [2680/10000], Loss: 0.00680, loss pde: 0.00348, loss ic: 0.00167, loss bc: 0.00165\n",
      "Epoch [2700/10000], Loss: 0.00673, loss pde: 0.00343, loss ic: 0.00166, loss bc: 0.00164\n",
      "Epoch [2720/10000], Loss: 0.00666, loss pde: 0.00338, loss ic: 0.00167, loss bc: 0.00161\n",
      "Epoch [2740/10000], Loss: 0.00659, loss pde: 0.00333, loss ic: 0.00167, loss bc: 0.00158\n",
      "Epoch [2760/10000], Loss: 0.00651, loss pde: 0.00329, loss ic: 0.00168, loss bc: 0.00155\n",
      "Epoch [2780/10000], Loss: 0.00644, loss pde: 0.00324, loss ic: 0.00168, loss bc: 0.00153\n",
      "Epoch [2800/10000], Loss: 0.00637, loss pde: 0.00319, loss ic: 0.00168, loss bc: 0.00150\n",
      "Epoch [2820/10000], Loss: 0.00630, loss pde: 0.00314, loss ic: 0.00168, loss bc: 0.00148\n",
      "Epoch [2840/10000], Loss: 0.00623, loss pde: 0.00310, loss ic: 0.00168, loss bc: 0.00145\n",
      "Epoch [2860/10000], Loss: 0.00615, loss pde: 0.00305, loss ic: 0.00167, loss bc: 0.00143\n",
      "Epoch [2880/10000], Loss: 0.00618, loss pde: 0.00302, loss ic: 0.00186, loss bc: 0.00130\n",
      "Epoch [2900/10000], Loss: 0.00603, loss pde: 0.00296, loss ic: 0.00174, loss bc: 0.00133\n",
      "Epoch [2920/10000], Loss: 0.00594, loss pde: 0.00292, loss ic: 0.00169, loss bc: 0.00133\n",
      "Epoch [2940/10000], Loss: 0.00587, loss pde: 0.00288, loss ic: 0.00166, loss bc: 0.00133\n",
      "Epoch [2960/10000], Loss: 0.00579, loss pde: 0.00283, loss ic: 0.00165, loss bc: 0.00131\n",
      "Epoch [2980/10000], Loss: 0.00572, loss pde: 0.00279, loss ic: 0.00164, loss bc: 0.00129\n",
      "Epoch [3000/10000], Loss: 0.00564, loss pde: 0.00274, loss ic: 0.00163, loss bc: 0.00127\n",
      "Epoch [3020/10000], Loss: 0.00556, loss pde: 0.00269, loss ic: 0.00162, loss bc: 0.00124\n",
      "Epoch [3040/10000], Loss: 0.00548, loss pde: 0.00264, loss ic: 0.00161, loss bc: 0.00122\n",
      "Epoch [3060/10000], Loss: 0.00566, loss pde: 0.00276, loss ic: 0.00146, loss bc: 0.00144\n",
      "Epoch [3080/10000], Loss: 0.00531, loss pde: 0.00255, loss ic: 0.00161, loss bc: 0.00115\n",
      "Epoch [3100/10000], Loss: 0.00523, loss pde: 0.00250, loss ic: 0.00159, loss bc: 0.00113\n",
      "Epoch [3120/10000], Loss: 0.00513, loss pde: 0.00245, loss ic: 0.00155, loss bc: 0.00113\n",
      "Epoch [3140/10000], Loss: 0.00503, loss pde: 0.00239, loss ic: 0.00152, loss bc: 0.00111\n",
      "Epoch [3160/10000], Loss: 0.00493, loss pde: 0.00234, loss ic: 0.00150, loss bc: 0.00109\n",
      "Epoch [3180/10000], Loss: 0.00481, loss pde: 0.00227, loss ic: 0.00147, loss bc: 0.00107\n",
      "Epoch [3200/10000], Loss: 0.00469, loss pde: 0.00220, loss ic: 0.00144, loss bc: 0.00104\n",
      "Epoch [3220/10000], Loss: 0.00455, loss pde: 0.00213, loss ic: 0.00140, loss bc: 0.00102\n",
      "Epoch [3240/10000], Loss: 0.00449, loss pde: 0.00210, loss ic: 0.00130, loss bc: 0.00109\n",
      "Epoch [3260/10000], Loss: 0.00427, loss pde: 0.00197, loss ic: 0.00135, loss bc: 0.00095\n",
      "Epoch [3280/10000], Loss: 0.00411, loss pde: 0.00188, loss ic: 0.00133, loss bc: 0.00090\n",
      "Epoch [3300/10000], Loss: 0.00394, loss pde: 0.00178, loss ic: 0.00128, loss bc: 0.00088\n",
      "Epoch [3320/10000], Loss: 0.00375, loss pde: 0.00168, loss ic: 0.00124, loss bc: 0.00083\n",
      "Epoch [3340/10000], Loss: 0.00356, loss pde: 0.00157, loss ic: 0.00121, loss bc: 0.00078\n",
      "Epoch [3360/10000], Loss: 0.00337, loss pde: 0.00145, loss ic: 0.00119, loss bc: 0.00073\n",
      "Epoch [3380/10000], Loss: 0.00331, loss pde: 0.00138, loss ic: 0.00132, loss bc: 0.00061\n",
      "Epoch [3400/10000], Loss: 0.00302, loss pde: 0.00122, loss ic: 0.00114, loss bc: 0.00066\n",
      "Epoch [3420/10000], Loss: 0.00286, loss pde: 0.00111, loss ic: 0.00120, loss bc: 0.00055\n",
      "Epoch [3440/10000], Loss: 0.00270, loss pde: 0.00101, loss ic: 0.00116, loss bc: 0.00053\n",
      "Epoch [3460/10000], Loss: 0.00256, loss pde: 0.00091, loss ic: 0.00117, loss bc: 0.00049\n",
      "Epoch [3480/10000], Loss: 0.00244, loss pde: 0.00082, loss ic: 0.00117, loss bc: 0.00046\n",
      "Epoch [3500/10000], Loss: 0.00233, loss pde: 0.00073, loss ic: 0.00117, loss bc: 0.00043\n",
      "Epoch [3520/10000], Loss: 0.00223, loss pde: 0.00065, loss ic: 0.00118, loss bc: 0.00040\n",
      "Epoch [3540/10000], Loss: 0.00216, loss pde: 0.00059, loss ic: 0.00117, loss bc: 0.00040\n",
      "Epoch [3560/10000], Loss: 0.00224, loss pde: 0.00061, loss ic: 0.00117, loss bc: 0.00046\n",
      "Epoch [3580/10000], Loss: 0.00201, loss pde: 0.00047, loss ic: 0.00120, loss bc: 0.00035\n",
      "Epoch [3600/10000], Loss: 0.00196, loss pde: 0.00042, loss ic: 0.00121, loss bc: 0.00033\n",
      "Epoch [3620/10000], Loss: 0.00191, loss pde: 0.00038, loss ic: 0.00120, loss bc: 0.00033\n",
      "Epoch [3640/10000], Loss: 0.00186, loss pde: 0.00034, loss ic: 0.00121, loss bc: 0.00032\n",
      "Epoch [3660/10000], Loss: 0.00182, loss pde: 0.00031, loss ic: 0.00121, loss bc: 0.00031\n",
      "Epoch [3680/10000], Loss: 0.00179, loss pde: 0.00028, loss ic: 0.00121, loss bc: 0.00030\n",
      "Epoch [3700/10000], Loss: 0.00176, loss pde: 0.00026, loss ic: 0.00121, loss bc: 0.00029\n",
      "Epoch [3720/10000], Loss: 0.00173, loss pde: 0.00023, loss ic: 0.00121, loss bc: 0.00028\n",
      "Epoch [3740/10000], Loss: 0.00171, loss pde: 0.00022, loss ic: 0.00121, loss bc: 0.00028\n",
      "Epoch [3760/10000], Loss: 0.00169, loss pde: 0.00020, loss ic: 0.00121, loss bc: 0.00028\n",
      "Epoch [3780/10000], Loss: 0.00170, loss pde: 0.00020, loss ic: 0.00124, loss bc: 0.00026\n",
      "Epoch [3800/10000], Loss: 0.00167, loss pde: 0.00019, loss ic: 0.00120, loss bc: 0.00028\n",
      "Epoch [3820/10000], Loss: 0.00164, loss pde: 0.00017, loss ic: 0.00120, loss bc: 0.00027\n",
      "Epoch [3840/10000], Loss: 0.00162, loss pde: 0.00016, loss ic: 0.00121, loss bc: 0.00026\n",
      "Epoch [3860/10000], Loss: 0.00161, loss pde: 0.00015, loss ic: 0.00120, loss bc: 0.00025\n",
      "Epoch [3880/10000], Loss: 0.00159, loss pde: 0.00014, loss ic: 0.00120, loss bc: 0.00025\n",
      "Epoch [3900/10000], Loss: 0.00158, loss pde: 0.00013, loss ic: 0.00120, loss bc: 0.00025\n",
      "Epoch [3920/10000], Loss: 0.00157, loss pde: 0.00013, loss ic: 0.00120, loss bc: 0.00024\n",
      "Epoch [3940/10000], Loss: 0.00156, loss pde: 0.00012, loss ic: 0.00119, loss bc: 0.00024\n",
      "Epoch [3960/10000], Loss: 0.00155, loss pde: 0.00012, loss ic: 0.00119, loss bc: 0.00024\n",
      "Epoch [3980/10000], Loss: 0.00154, loss pde: 0.00012, loss ic: 0.00119, loss bc: 0.00023\n",
      "Epoch [4000/10000], Loss: 0.00153, loss pde: 0.00011, loss ic: 0.00118, loss bc: 0.00023\n",
      "Epoch [4020/10000], Loss: 0.00152, loss pde: 0.00011, loss ic: 0.00118, loss bc: 0.00023\n",
      "Epoch [4040/10000], Loss: 0.00156, loss pde: 0.00013, loss ic: 0.00121, loss bc: 0.00022\n",
      "Epoch [4060/10000], Loss: 0.00155, loss pde: 0.00013, loss ic: 0.00120, loss bc: 0.00022\n",
      "Epoch [4080/10000], Loss: 0.00150, loss pde: 0.00011, loss ic: 0.00116, loss bc: 0.00023\n",
      "Epoch [4100/10000], Loss: 0.00148, loss pde: 0.00010, loss ic: 0.00117, loss bc: 0.00022\n",
      "Epoch [4120/10000], Loss: 0.00147, loss pde: 0.00010, loss ic: 0.00116, loss bc: 0.00022\n",
      "Epoch [4140/10000], Loss: 0.00146, loss pde: 0.00009, loss ic: 0.00116, loss bc: 0.00021\n",
      "Epoch [4160/10000], Loss: 0.00145, loss pde: 0.00009, loss ic: 0.00115, loss bc: 0.00021\n",
      "Epoch [4180/10000], Loss: 0.00145, loss pde: 0.00009, loss ic: 0.00115, loss bc: 0.00021\n",
      "Epoch [4200/10000], Loss: 0.00144, loss pde: 0.00009, loss ic: 0.00114, loss bc: 0.00021\n",
      "Epoch [4220/10000], Loss: 0.00143, loss pde: 0.00009, loss ic: 0.00114, loss bc: 0.00020\n",
      "Epoch [4240/10000], Loss: 0.00142, loss pde: 0.00009, loss ic: 0.00114, loss bc: 0.00020\n",
      "Epoch [4260/10000], Loss: 0.00141, loss pde: 0.00008, loss ic: 0.00113, loss bc: 0.00020\n",
      "Epoch [4280/10000], Loss: 0.00141, loss pde: 0.00008, loss ic: 0.00113, loss bc: 0.00020\n",
      "Epoch [4300/10000], Loss: 0.00172, loss pde: 0.00024, loss ic: 0.00118, loss bc: 0.00030\n",
      "Epoch [4320/10000], Loss: 0.00142, loss pde: 0.00009, loss ic: 0.00114, loss bc: 0.00019\n",
      "Epoch [4340/10000], Loss: 0.00139, loss pde: 0.00008, loss ic: 0.00111, loss bc: 0.00020\n",
      "Epoch [4360/10000], Loss: 0.00138, loss pde: 0.00008, loss ic: 0.00111, loss bc: 0.00019\n",
      "Epoch [4380/10000], Loss: 0.00137, loss pde: 0.00008, loss ic: 0.00111, loss bc: 0.00019\n",
      "Epoch [4400/10000], Loss: 0.00136, loss pde: 0.00008, loss ic: 0.00110, loss bc: 0.00019\n",
      "Epoch [4420/10000], Loss: 0.00136, loss pde: 0.00007, loss ic: 0.00110, loss bc: 0.00018\n",
      "Epoch [4440/10000], Loss: 0.00135, loss pde: 0.00007, loss ic: 0.00109, loss bc: 0.00018\n",
      "Epoch [4460/10000], Loss: 0.00134, loss pde: 0.00007, loss ic: 0.00109, loss bc: 0.00018\n",
      "Epoch [4480/10000], Loss: 0.00133, loss pde: 0.00007, loss ic: 0.00109, loss bc: 0.00018\n",
      "Epoch [4500/10000], Loss: 0.00133, loss pde: 0.00007, loss ic: 0.00108, loss bc: 0.00018\n",
      "Epoch [4520/10000], Loss: 0.00132, loss pde: 0.00007, loss ic: 0.00108, loss bc: 0.00017\n",
      "Epoch [4540/10000], Loss: 0.00134, loss pde: 0.00008, loss ic: 0.00107, loss bc: 0.00019\n",
      "Epoch [4560/10000], Loss: 0.00131, loss pde: 0.00007, loss ic: 0.00107, loss bc: 0.00017\n",
      "Epoch [4580/10000], Loss: 0.00130, loss pde: 0.00007, loss ic: 0.00106, loss bc: 0.00017\n",
      "Epoch [4600/10000], Loss: 0.00129, loss pde: 0.00007, loss ic: 0.00106, loss bc: 0.00017\n",
      "Epoch [4620/10000], Loss: 0.00129, loss pde: 0.00007, loss ic: 0.00105, loss bc: 0.00017\n",
      "Epoch [4640/10000], Loss: 0.00128, loss pde: 0.00007, loss ic: 0.00105, loss bc: 0.00016\n",
      "Epoch [4660/10000], Loss: 0.00127, loss pde: 0.00006, loss ic: 0.00105, loss bc: 0.00016\n",
      "Epoch [4680/10000], Loss: 0.00127, loss pde: 0.00006, loss ic: 0.00104, loss bc: 0.00016\n",
      "Epoch [4700/10000], Loss: 0.00126, loss pde: 0.00006, loss ic: 0.00104, loss bc: 0.00016\n",
      "Epoch [4720/10000], Loss: 0.00125, loss pde: 0.00006, loss ic: 0.00103, loss bc: 0.00016\n",
      "Epoch [4740/10000], Loss: 0.00125, loss pde: 0.00006, loss ic: 0.00103, loss bc: 0.00015\n",
      "Epoch [4760/10000], Loss: 0.00124, loss pde: 0.00006, loss ic: 0.00103, loss bc: 0.00015\n",
      "Epoch [4780/10000], Loss: 0.00128, loss pde: 0.00008, loss ic: 0.00103, loss bc: 0.00017\n",
      "Epoch [4800/10000], Loss: 0.00124, loss pde: 0.00007, loss ic: 0.00101, loss bc: 0.00016\n",
      "Epoch [4820/10000], Loss: 0.00122, loss pde: 0.00006, loss ic: 0.00101, loss bc: 0.00015\n",
      "Epoch [4840/10000], Loss: 0.00121, loss pde: 0.00006, loss ic: 0.00101, loss bc: 0.00015\n",
      "Epoch [4860/10000], Loss: 0.00121, loss pde: 0.00006, loss ic: 0.00100, loss bc: 0.00015\n",
      "Epoch [4880/10000], Loss: 0.00120, loss pde: 0.00006, loss ic: 0.00100, loss bc: 0.00014\n",
      "Epoch [4900/10000], Loss: 0.00120, loss pde: 0.00006, loss ic: 0.00099, loss bc: 0.00014\n",
      "Epoch [4920/10000], Loss: 0.00119, loss pde: 0.00006, loss ic: 0.00099, loss bc: 0.00014\n",
      "Epoch [4940/10000], Loss: 0.00118, loss pde: 0.00006, loss ic: 0.00099, loss bc: 0.00014\n",
      "Epoch [4960/10000], Loss: 0.00118, loss pde: 0.00006, loss ic: 0.00098, loss bc: 0.00014\n",
      "Epoch [4980/10000], Loss: 0.00117, loss pde: 0.00006, loss ic: 0.00098, loss bc: 0.00014\n",
      "Epoch [5000/10000], Loss: 0.00116, loss pde: 0.00006, loss ic: 0.00097, loss bc: 0.00014\n",
      "Epoch [5020/10000], Loss: 0.00126, loss pde: 0.00009, loss ic: 0.00102, loss bc: 0.00015\n",
      "Epoch [5040/10000], Loss: 0.00117, loss pde: 0.00007, loss ic: 0.00096, loss bc: 0.00015\n",
      "Epoch [5060/10000], Loss: 0.00115, loss pde: 0.00006, loss ic: 0.00096, loss bc: 0.00013\n",
      "Epoch [5080/10000], Loss: 0.00114, loss pde: 0.00005, loss ic: 0.00095, loss bc: 0.00013\n",
      "Epoch [5100/10000], Loss: 0.00113, loss pde: 0.00005, loss ic: 0.00095, loss bc: 0.00013\n",
      "Epoch [5120/10000], Loss: 0.00112, loss pde: 0.00005, loss ic: 0.00094, loss bc: 0.00013\n",
      "Epoch [5140/10000], Loss: 0.00112, loss pde: 0.00005, loss ic: 0.00094, loss bc: 0.00013\n",
      "Epoch [5160/10000], Loss: 0.00111, loss pde: 0.00005, loss ic: 0.00093, loss bc: 0.00013\n",
      "Epoch [5180/10000], Loss: 0.00110, loss pde: 0.00005, loss ic: 0.00093, loss bc: 0.00013\n",
      "Epoch [5200/10000], Loss: 0.00110, loss pde: 0.00005, loss ic: 0.00092, loss bc: 0.00012\n",
      "Epoch [5220/10000], Loss: 0.00109, loss pde: 0.00005, loss ic: 0.00092, loss bc: 0.00012\n",
      "Epoch [5240/10000], Loss: 0.00110, loss pde: 0.00006, loss ic: 0.00093, loss bc: 0.00012\n",
      "Epoch [5260/10000], Loss: 0.00108, loss pde: 0.00005, loss ic: 0.00090, loss bc: 0.00013\n",
      "Epoch [5280/10000], Loss: 0.00107, loss pde: 0.00005, loss ic: 0.00090, loss bc: 0.00012\n",
      "Epoch [5300/10000], Loss: 0.00106, loss pde: 0.00005, loss ic: 0.00089, loss bc: 0.00012\n",
      "Epoch [5320/10000], Loss: 0.00106, loss pde: 0.00005, loss ic: 0.00089, loss bc: 0.00012\n",
      "Epoch [5340/10000], Loss: 0.00105, loss pde: 0.00005, loss ic: 0.00088, loss bc: 0.00012\n",
      "Epoch [5360/10000], Loss: 0.00104, loss pde: 0.00005, loss ic: 0.00088, loss bc: 0.00012\n",
      "Epoch [5380/10000], Loss: 0.00104, loss pde: 0.00005, loss ic: 0.00087, loss bc: 0.00012\n",
      "Epoch [5400/10000], Loss: 0.00103, loss pde: 0.00005, loss ic: 0.00087, loss bc: 0.00011\n",
      "Epoch [5420/10000], Loss: 0.00102, loss pde: 0.00005, loss ic: 0.00086, loss bc: 0.00011\n",
      "Epoch [5440/10000], Loss: 0.00101, loss pde: 0.00005, loss ic: 0.00085, loss bc: 0.00011\n",
      "Epoch [5460/10000], Loss: 0.00101, loss pde: 0.00005, loss ic: 0.00085, loss bc: 0.00011\n",
      "Epoch [5480/10000], Loss: 0.00100, loss pde: 0.00005, loss ic: 0.00084, loss bc: 0.00011\n",
      "Epoch [5500/10000], Loss: 0.00102, loss pde: 0.00005, loss ic: 0.00085, loss bc: 0.00011\n",
      "Epoch [5520/10000], Loss: 0.00099, loss pde: 0.00005, loss ic: 0.00083, loss bc: 0.00011\n",
      "Epoch [5540/10000], Loss: 0.00098, loss pde: 0.00005, loss ic: 0.00082, loss bc: 0.00011\n",
      "Epoch [5560/10000], Loss: 0.00097, loss pde: 0.00005, loss ic: 0.00082, loss bc: 0.00011\n",
      "Epoch [5580/10000], Loss: 0.00096, loss pde: 0.00005, loss ic: 0.00081, loss bc: 0.00011\n",
      "Epoch [5600/10000], Loss: 0.00096, loss pde: 0.00004, loss ic: 0.00080, loss bc: 0.00011\n",
      "Epoch [5620/10000], Loss: 0.00095, loss pde: 0.00004, loss ic: 0.00080, loss bc: 0.00010\n",
      "Epoch [5640/10000], Loss: 0.00094, loss pde: 0.00004, loss ic: 0.00079, loss bc: 0.00010\n",
      "Epoch [5660/10000], Loss: 0.00093, loss pde: 0.00004, loss ic: 0.00078, loss bc: 0.00010\n",
      "Epoch [5680/10000], Loss: 0.00092, loss pde: 0.00004, loss ic: 0.00078, loss bc: 0.00010\n",
      "Epoch [5700/10000], Loss: 0.00092, loss pde: 0.00004, loss ic: 0.00077, loss bc: 0.00010\n",
      "Epoch [5720/10000], Loss: 0.00091, loss pde: 0.00004, loss ic: 0.00077, loss bc: 0.00010\n",
      "Epoch [5740/10000], Loss: 0.00096, loss pde: 0.00006, loss ic: 0.00077, loss bc: 0.00013\n",
      "Epoch [5760/10000], Loss: 0.00089, loss pde: 0.00004, loss ic: 0.00075, loss bc: 0.00010\n",
      "Epoch [5780/10000], Loss: 0.00088, loss pde: 0.00004, loss ic: 0.00074, loss bc: 0.00010\n",
      "Epoch [5800/10000], Loss: 0.00088, loss pde: 0.00004, loss ic: 0.00073, loss bc: 0.00010\n",
      "Epoch [5820/10000], Loss: 0.00087, loss pde: 0.00004, loss ic: 0.00073, loss bc: 0.00010\n",
      "Epoch [5840/10000], Loss: 0.00086, loss pde: 0.00004, loss ic: 0.00072, loss bc: 0.00010\n",
      "Epoch [5860/10000], Loss: 0.00085, loss pde: 0.00004, loss ic: 0.00071, loss bc: 0.00009\n",
      "Epoch [5880/10000], Loss: 0.00084, loss pde: 0.00004, loss ic: 0.00071, loss bc: 0.00009\n",
      "Epoch [5900/10000], Loss: 0.00083, loss pde: 0.00004, loss ic: 0.00070, loss bc: 0.00009\n",
      "Epoch [5920/10000], Loss: 0.00082, loss pde: 0.00004, loss ic: 0.00069, loss bc: 0.00009\n",
      "Epoch [5940/10000], Loss: 0.00082, loss pde: 0.00004, loss ic: 0.00068, loss bc: 0.00009\n",
      "Epoch [5960/10000], Loss: 0.00081, loss pde: 0.00004, loss ic: 0.00068, loss bc: 0.00009\n",
      "Epoch [5980/10000], Loss: 0.00100, loss pde: 0.00010, loss ic: 0.00077, loss bc: 0.00013\n",
      "Epoch [6000/10000], Loss: 0.00080, loss pde: 0.00004, loss ic: 0.00067, loss bc: 0.00009\n",
      "Epoch [6020/10000], Loss: 0.00079, loss pde: 0.00004, loss ic: 0.00065, loss bc: 0.00009\n",
      "Epoch [6040/10000], Loss: 0.00077, loss pde: 0.00004, loss ic: 0.00065, loss bc: 0.00009\n",
      "Epoch [6060/10000], Loss: 0.00076, loss pde: 0.00004, loss ic: 0.00064, loss bc: 0.00009\n",
      "Epoch [6080/10000], Loss: 0.00076, loss pde: 0.00004, loss ic: 0.00063, loss bc: 0.00009\n",
      "Epoch [6100/10000], Loss: 0.00075, loss pde: 0.00004, loss ic: 0.00063, loss bc: 0.00008\n",
      "Epoch [6120/10000], Loss: 0.00074, loss pde: 0.00004, loss ic: 0.00062, loss bc: 0.00008\n",
      "Epoch [6140/10000], Loss: 0.00073, loss pde: 0.00004, loss ic: 0.00061, loss bc: 0.00008\n",
      "Epoch [6160/10000], Loss: 0.00072, loss pde: 0.00004, loss ic: 0.00060, loss bc: 0.00008\n",
      "Epoch [6180/10000], Loss: 0.00071, loss pde: 0.00004, loss ic: 0.00060, loss bc: 0.00008\n",
      "Epoch [6200/10000], Loss: 0.00071, loss pde: 0.00004, loss ic: 0.00059, loss bc: 0.00008\n",
      "Epoch [6220/10000], Loss: 0.00070, loss pde: 0.00004, loss ic: 0.00059, loss bc: 0.00008\n",
      "Epoch [6240/10000], Loss: 0.00070, loss pde: 0.00004, loss ic: 0.00058, loss bc: 0.00008\n",
      "Epoch [6260/10000], Loss: 0.00068, loss pde: 0.00004, loss ic: 0.00057, loss bc: 0.00008\n",
      "Epoch [6280/10000], Loss: 0.00067, loss pde: 0.00003, loss ic: 0.00056, loss bc: 0.00008\n",
      "Epoch [6300/10000], Loss: 0.00066, loss pde: 0.00003, loss ic: 0.00056, loss bc: 0.00008\n",
      "Epoch [6320/10000], Loss: 0.00066, loss pde: 0.00003, loss ic: 0.00055, loss bc: 0.00007\n",
      "Epoch [6340/10000], Loss: 0.00065, loss pde: 0.00003, loss ic: 0.00054, loss bc: 0.00007\n",
      "Epoch [6360/10000], Loss: 0.00064, loss pde: 0.00003, loss ic: 0.00054, loss bc: 0.00007\n",
      "Epoch [6380/10000], Loss: 0.00063, loss pde: 0.00003, loss ic: 0.00053, loss bc: 0.00007\n",
      "Epoch [6400/10000], Loss: 0.00063, loss pde: 0.00003, loss ic: 0.00052, loss bc: 0.00007\n",
      "Epoch [6420/10000], Loss: 0.00064, loss pde: 0.00004, loss ic: 0.00052, loss bc: 0.00008\n",
      "Epoch [6440/10000], Loss: 0.00063, loss pde: 0.00003, loss ic: 0.00052, loss bc: 0.00007\n",
      "Epoch [6460/10000], Loss: 0.00061, loss pde: 0.00003, loss ic: 0.00050, loss bc: 0.00007\n",
      "Epoch [6480/10000], Loss: 0.00060, loss pde: 0.00003, loss ic: 0.00050, loss bc: 0.00007\n",
      "Epoch [6500/10000], Loss: 0.00059, loss pde: 0.00003, loss ic: 0.00049, loss bc: 0.00007\n",
      "Epoch [6520/10000], Loss: 0.00058, loss pde: 0.00003, loss ic: 0.00049, loss bc: 0.00007\n",
      "Epoch [6540/10000], Loss: 0.00058, loss pde: 0.00003, loss ic: 0.00048, loss bc: 0.00006\n",
      "Epoch [6560/10000], Loss: 0.00057, loss pde: 0.00003, loss ic: 0.00048, loss bc: 0.00006\n",
      "Epoch [6580/10000], Loss: 0.00056, loss pde: 0.00003, loss ic: 0.00047, loss bc: 0.00006\n",
      "Epoch [6600/10000], Loss: 0.00056, loss pde: 0.00003, loss ic: 0.00047, loss bc: 0.00006\n",
      "Epoch [6620/10000], Loss: 0.00055, loss pde: 0.00003, loss ic: 0.00046, loss bc: 0.00006\n",
      "Epoch [6640/10000], Loss: 0.00055, loss pde: 0.00003, loss ic: 0.00046, loss bc: 0.00006\n",
      "Epoch [6660/10000], Loss: 0.00064, loss pde: 0.00005, loss ic: 0.00051, loss bc: 0.00008\n",
      "Epoch [6680/10000], Loss: 0.00054, loss pde: 0.00003, loss ic: 0.00045, loss bc: 0.00007\n",
      "Epoch [6700/10000], Loss: 0.00053, loss pde: 0.00002, loss ic: 0.00044, loss bc: 0.00006\n",
      "Epoch [6720/10000], Loss: 0.00052, loss pde: 0.00002, loss ic: 0.00044, loss bc: 0.00006\n",
      "Epoch [6740/10000], Loss: 0.00051, loss pde: 0.00002, loss ic: 0.00043, loss bc: 0.00006\n",
      "Epoch [6760/10000], Loss: 0.00051, loss pde: 0.00002, loss ic: 0.00043, loss bc: 0.00006\n",
      "Epoch [6780/10000], Loss: 0.00050, loss pde: 0.00002, loss ic: 0.00042, loss bc: 0.00006\n",
      "Epoch [6800/10000], Loss: 0.00050, loss pde: 0.00002, loss ic: 0.00042, loss bc: 0.00006\n",
      "Epoch [6820/10000], Loss: 0.00049, loss pde: 0.00002, loss ic: 0.00041, loss bc: 0.00005\n",
      "Epoch [6840/10000], Loss: 0.00048, loss pde: 0.00002, loss ic: 0.00041, loss bc: 0.00005\n",
      "Epoch [6860/10000], Loss: 0.00048, loss pde: 0.00002, loss ic: 0.00041, loss bc: 0.00005\n",
      "Epoch [6880/10000], Loss: 0.00053, loss pde: 0.00003, loss ic: 0.00044, loss bc: 0.00006\n",
      "Epoch [6900/10000], Loss: 0.00053, loss pde: 0.00003, loss ic: 0.00043, loss bc: 0.00006\n",
      "Epoch [6920/10000], Loss: 0.00047, loss pde: 0.00002, loss ic: 0.00039, loss bc: 0.00006\n",
      "Epoch [6940/10000], Loss: 0.00046, loss pde: 0.00002, loss ic: 0.00039, loss bc: 0.00005\n",
      "Epoch [6960/10000], Loss: 0.00045, loss pde: 0.00002, loss ic: 0.00038, loss bc: 0.00005\n",
      "Epoch [6980/10000], Loss: 0.00045, loss pde: 0.00002, loss ic: 0.00038, loss bc: 0.00005\n",
      "Epoch [7000/10000], Loss: 0.00044, loss pde: 0.00002, loss ic: 0.00038, loss bc: 0.00005\n",
      "Epoch [7020/10000], Loss: 0.00044, loss pde: 0.00002, loss ic: 0.00037, loss bc: 0.00005\n",
      "Epoch [7040/10000], Loss: 0.00044, loss pde: 0.00002, loss ic: 0.00037, loss bc: 0.00005\n",
      "Epoch [7060/10000], Loss: 0.00043, loss pde: 0.00002, loss ic: 0.00037, loss bc: 0.00005\n",
      "Epoch [7080/10000], Loss: 0.00043, loss pde: 0.00002, loss ic: 0.00036, loss bc: 0.00005\n",
      "Epoch [7100/10000], Loss: 0.00042, loss pde: 0.00002, loss ic: 0.00036, loss bc: 0.00005\n",
      "Epoch [7120/10000], Loss: 0.00047, loss pde: 0.00003, loss ic: 0.00039, loss bc: 0.00006\n",
      "Epoch [7140/10000], Loss: 0.00047, loss pde: 0.00003, loss ic: 0.00039, loss bc: 0.00006\n",
      "Epoch [7160/10000], Loss: 0.00041, loss pde: 0.00002, loss ic: 0.00035, loss bc: 0.00005\n",
      "Epoch [7180/10000], Loss: 0.00040, loss pde: 0.00001, loss ic: 0.00034, loss bc: 0.00005\n",
      "Epoch [7200/10000], Loss: 0.00040, loss pde: 0.00001, loss ic: 0.00034, loss bc: 0.00005\n",
      "Epoch [7220/10000], Loss: 0.00040, loss pde: 0.00001, loss ic: 0.00034, loss bc: 0.00005\n",
      "Epoch [7240/10000], Loss: 0.00039, loss pde: 0.00001, loss ic: 0.00033, loss bc: 0.00005\n",
      "Epoch [7260/10000], Loss: 0.00039, loss pde: 0.00001, loss ic: 0.00033, loss bc: 0.00004\n",
      "Epoch [7280/10000], Loss: 0.00039, loss pde: 0.00001, loss ic: 0.00033, loss bc: 0.00004\n",
      "Epoch [7300/10000], Loss: 0.00038, loss pde: 0.00001, loss ic: 0.00033, loss bc: 0.00004\n",
      "Epoch [7320/10000], Loss: 0.00038, loss pde: 0.00001, loss ic: 0.00032, loss bc: 0.00004\n",
      "Epoch [7340/10000], Loss: 0.00038, loss pde: 0.00001, loss ic: 0.00032, loss bc: 0.00004\n",
      "Epoch [7360/10000], Loss: 0.00039, loss pde: 0.00002, loss ic: 0.00032, loss bc: 0.00005\n",
      "Epoch [7380/10000], Loss: 0.00037, loss pde: 0.00001, loss ic: 0.00031, loss bc: 0.00004\n",
      "Epoch [7400/10000], Loss: 0.00037, loss pde: 0.00001, loss ic: 0.00031, loss bc: 0.00004\n",
      "Epoch [7420/10000], Loss: 0.00036, loss pde: 0.00001, loss ic: 0.00031, loss bc: 0.00004\n",
      "Epoch [7440/10000], Loss: 0.00036, loss pde: 0.00001, loss ic: 0.00031, loss bc: 0.00004\n",
      "Epoch [7460/10000], Loss: 0.00036, loss pde: 0.00001, loss ic: 0.00030, loss bc: 0.00004\n",
      "Epoch [7480/10000], Loss: 0.00035, loss pde: 0.00001, loss ic: 0.00030, loss bc: 0.00004\n",
      "Epoch [7500/10000], Loss: 0.00035, loss pde: 0.00001, loss ic: 0.00030, loss bc: 0.00004\n",
      "Epoch [7520/10000], Loss: 0.00035, loss pde: 0.00001, loss ic: 0.00030, loss bc: 0.00004\n",
      "Epoch [7540/10000], Loss: 0.00034, loss pde: 0.00001, loss ic: 0.00029, loss bc: 0.00004\n",
      "Epoch [7560/10000], Loss: 0.00034, loss pde: 0.00001, loss ic: 0.00029, loss bc: 0.00004\n",
      "Epoch [7580/10000], Loss: 0.00035, loss pde: 0.00001, loss ic: 0.00030, loss bc: 0.00004\n",
      "Epoch [7600/10000], Loss: 0.00035, loss pde: 0.00001, loss ic: 0.00029, loss bc: 0.00005\n",
      "Epoch [7620/10000], Loss: 0.00033, loss pde: 0.00001, loss ic: 0.00028, loss bc: 0.00004\n",
      "Epoch [7640/10000], Loss: 0.00033, loss pde: 0.00001, loss ic: 0.00028, loss bc: 0.00004\n",
      "Epoch [7660/10000], Loss: 0.00033, loss pde: 0.00001, loss ic: 0.00028, loss bc: 0.00004\n",
      "Epoch [7680/10000], Loss: 0.00032, loss pde: 0.00001, loss ic: 0.00028, loss bc: 0.00004\n",
      "Epoch [7700/10000], Loss: 0.00032, loss pde: 0.00001, loss ic: 0.00028, loss bc: 0.00004\n",
      "Epoch [7720/10000], Loss: 0.00032, loss pde: 0.00001, loss ic: 0.00027, loss bc: 0.00004\n",
      "Epoch [7740/10000], Loss: 0.00032, loss pde: 0.00001, loss ic: 0.00027, loss bc: 0.00004\n",
      "Epoch [7760/10000], Loss: 0.00032, loss pde: 0.00001, loss ic: 0.00027, loss bc: 0.00004\n",
      "Epoch [7780/10000], Loss: 0.00031, loss pde: 0.00001, loss ic: 0.00027, loss bc: 0.00004\n",
      "Epoch [7800/10000], Loss: 0.00031, loss pde: 0.00001, loss ic: 0.00027, loss bc: 0.00004\n",
      "Epoch [7820/10000], Loss: 0.00037, loss pde: 0.00002, loss ic: 0.00030, loss bc: 0.00005\n",
      "Epoch [7840/10000], Loss: 0.00034, loss pde: 0.00001, loss ic: 0.00028, loss bc: 0.00004\n",
      "Epoch [7860/10000], Loss: 0.00031, loss pde: 0.00001, loss ic: 0.00026, loss bc: 0.00004\n",
      "Epoch [7880/10000], Loss: 0.00030, loss pde: 0.00001, loss ic: 0.00026, loss bc: 0.00004\n",
      "Epoch [7900/10000], Loss: 0.00030, loss pde: 0.00001, loss ic: 0.00026, loss bc: 0.00004\n",
      "Epoch [7920/10000], Loss: 0.00030, loss pde: 0.00001, loss ic: 0.00026, loss bc: 0.00004\n",
      "Epoch [7940/10000], Loss: 0.00030, loss pde: 0.00001, loss ic: 0.00025, loss bc: 0.00004\n",
      "Epoch [7960/10000], Loss: 0.00029, loss pde: 0.00001, loss ic: 0.00025, loss bc: 0.00004\n",
      "Epoch [7980/10000], Loss: 0.00029, loss pde: 0.00001, loss ic: 0.00025, loss bc: 0.00004\n",
      "Epoch [8000/10000], Loss: 0.00029, loss pde: 0.00001, loss ic: 0.00025, loss bc: 0.00003\n",
      "Epoch [8020/10000], Loss: 0.00029, loss pde: 0.00001, loss ic: 0.00025, loss bc: 0.00003\n",
      "Epoch [8040/10000], Loss: 0.00029, loss pde: 0.00001, loss ic: 0.00025, loss bc: 0.00003\n",
      "Epoch [8060/10000], Loss: 0.00028, loss pde: 0.00001, loss ic: 0.00024, loss bc: 0.00003\n",
      "Epoch [8080/10000], Loss: 0.00051, loss pde: 0.00005, loss ic: 0.00036, loss bc: 0.00009\n",
      "Epoch [8100/10000], Loss: 0.00029, loss pde: 0.00001, loss ic: 0.00024, loss bc: 0.00004\n",
      "Epoch [8120/10000], Loss: 0.00028, loss pde: 0.00001, loss ic: 0.00024, loss bc: 0.00003\n",
      "Epoch [8140/10000], Loss: 0.00028, loss pde: 0.00001, loss ic: 0.00024, loss bc: 0.00003\n",
      "Epoch [8160/10000], Loss: 0.00028, loss pde: 0.00001, loss ic: 0.00024, loss bc: 0.00003\n",
      "Epoch [8180/10000], Loss: 0.00027, loss pde: 0.00001, loss ic: 0.00024, loss bc: 0.00003\n",
      "Epoch [8200/10000], Loss: 0.00027, loss pde: 0.00001, loss ic: 0.00023, loss bc: 0.00003\n",
      "Epoch [8220/10000], Loss: 0.00027, loss pde: 0.00000, loss ic: 0.00023, loss bc: 0.00003\n",
      "Epoch [8240/10000], Loss: 0.00027, loss pde: 0.00000, loss ic: 0.00023, loss bc: 0.00003\n",
      "Epoch [8260/10000], Loss: 0.00027, loss pde: 0.00000, loss ic: 0.00023, loss bc: 0.00003\n",
      "Epoch [8280/10000], Loss: 0.00027, loss pde: 0.00000, loss ic: 0.00023, loss bc: 0.00003\n",
      "Epoch [8300/10000], Loss: 0.00039, loss pde: 0.00003, loss ic: 0.00030, loss bc: 0.00006\n",
      "Epoch [8320/10000], Loss: 0.00026, loss pde: 0.00001, loss ic: 0.00023, loss bc: 0.00003\n",
      "Epoch [8340/10000], Loss: 0.00026, loss pde: 0.00001, loss ic: 0.00022, loss bc: 0.00003\n",
      "Epoch [8360/10000], Loss: 0.00026, loss pde: 0.00000, loss ic: 0.00022, loss bc: 0.00003\n",
      "Epoch [8380/10000], Loss: 0.00026, loss pde: 0.00000, loss ic: 0.00022, loss bc: 0.00003\n",
      "Epoch [8400/10000], Loss: 0.00026, loss pde: 0.00000, loss ic: 0.00022, loss bc: 0.00003\n",
      "Epoch [8420/10000], Loss: 0.00026, loss pde: 0.00000, loss ic: 0.00022, loss bc: 0.00003\n",
      "Epoch [8440/10000], Loss: 0.00025, loss pde: 0.00000, loss ic: 0.00022, loss bc: 0.00003\n",
      "Epoch [8460/10000], Loss: 0.00025, loss pde: 0.00000, loss ic: 0.00022, loss bc: 0.00003\n",
      "Epoch [8480/10000], Loss: 0.00025, loss pde: 0.00000, loss ic: 0.00022, loss bc: 0.00003\n",
      "Epoch [8500/10000], Loss: 0.00025, loss pde: 0.00000, loss ic: 0.00022, loss bc: 0.00003\n",
      "Epoch [8520/10000], Loss: 0.00025, loss pde: 0.00000, loss ic: 0.00021, loss bc: 0.00003\n",
      "Epoch [8540/10000], Loss: 0.00035, loss pde: 0.00002, loss ic: 0.00027, loss bc: 0.00005\n",
      "Epoch [8560/10000], Loss: 0.00026, loss pde: 0.00001, loss ic: 0.00021, loss bc: 0.00004\n",
      "Epoch [8580/10000], Loss: 0.00024, loss pde: 0.00000, loss ic: 0.00021, loss bc: 0.00003\n",
      "Epoch [8600/10000], Loss: 0.00024, loss pde: 0.00000, loss ic: 0.00021, loss bc: 0.00003\n",
      "Epoch [8620/10000], Loss: 0.00024, loss pde: 0.00000, loss ic: 0.00021, loss bc: 0.00003\n",
      "Epoch [8640/10000], Loss: 0.00024, loss pde: 0.00000, loss ic: 0.00021, loss bc: 0.00003\n",
      "Epoch [8660/10000], Loss: 0.00024, loss pde: 0.00000, loss ic: 0.00021, loss bc: 0.00003\n",
      "Epoch [8680/10000], Loss: 0.00024, loss pde: 0.00000, loss ic: 0.00020, loss bc: 0.00003\n",
      "Epoch [8700/10000], Loss: 0.00024, loss pde: 0.00000, loss ic: 0.00020, loss bc: 0.00003\n",
      "Epoch [8720/10000], Loss: 0.00023, loss pde: 0.00000, loss ic: 0.00020, loss bc: 0.00003\n",
      "Epoch [8740/10000], Loss: 0.00023, loss pde: 0.00000, loss ic: 0.00020, loss bc: 0.00003\n",
      "Epoch [8760/10000], Loss: 0.00023, loss pde: 0.00000, loss ic: 0.00020, loss bc: 0.00003\n",
      "Epoch [8780/10000], Loss: 0.00031, loss pde: 0.00002, loss ic: 0.00025, loss bc: 0.00005\n",
      "Epoch [8800/10000], Loss: 0.00023, loss pde: 0.00000, loss ic: 0.00020, loss bc: 0.00003\n",
      "Epoch [8820/10000], Loss: 0.00023, loss pde: 0.00000, loss ic: 0.00020, loss bc: 0.00003\n",
      "Epoch [8840/10000], Loss: 0.00023, loss pde: 0.00000, loss ic: 0.00020, loss bc: 0.00003\n",
      "Epoch [8860/10000], Loss: 0.00023, loss pde: 0.00000, loss ic: 0.00019, loss bc: 0.00003\n",
      "Epoch [8880/10000], Loss: 0.00022, loss pde: 0.00000, loss ic: 0.00019, loss bc: 0.00003\n",
      "Epoch [8900/10000], Loss: 0.00022, loss pde: 0.00000, loss ic: 0.00019, loss bc: 0.00003\n",
      "Epoch [8920/10000], Loss: 0.00022, loss pde: 0.00000, loss ic: 0.00019, loss bc: 0.00003\n",
      "Epoch [8940/10000], Loss: 0.00022, loss pde: 0.00000, loss ic: 0.00019, loss bc: 0.00003\n",
      "Epoch [8960/10000], Loss: 0.00022, loss pde: 0.00000, loss ic: 0.00019, loss bc: 0.00003\n",
      "Epoch [8980/10000], Loss: 0.00022, loss pde: 0.00000, loss ic: 0.00019, loss bc: 0.00003\n",
      "Epoch [9000/10000], Loss: 0.00022, loss pde: 0.00000, loss ic: 0.00019, loss bc: 0.00003\n",
      "Epoch [9020/10000], Loss: 0.00022, loss pde: 0.00000, loss ic: 0.00019, loss bc: 0.00003\n",
      "Epoch [9040/10000], Loss: 0.00044, loss pde: 0.00001, loss ic: 0.00033, loss bc: 0.00010\n",
      "Epoch [9060/10000], Loss: 0.00021, loss pde: 0.00000, loss ic: 0.00018, loss bc: 0.00003\n",
      "Epoch [9080/10000], Loss: 0.00021, loss pde: 0.00000, loss ic: 0.00018, loss bc: 0.00003\n",
      "Epoch [9100/10000], Loss: 0.00021, loss pde: 0.00000, loss ic: 0.00018, loss bc: 0.00003\n",
      "Epoch [9120/10000], Loss: 0.00021, loss pde: 0.00000, loss ic: 0.00018, loss bc: 0.00003\n",
      "Epoch [9140/10000], Loss: 0.00021, loss pde: 0.00000, loss ic: 0.00018, loss bc: 0.00003\n",
      "Epoch [9160/10000], Loss: 0.00021, loss pde: 0.00000, loss ic: 0.00018, loss bc: 0.00003\n",
      "Epoch [9180/10000], Loss: 0.00021, loss pde: 0.00000, loss ic: 0.00018, loss bc: 0.00003\n",
      "Epoch [9200/10000], Loss: 0.00020, loss pde: 0.00000, loss ic: 0.00018, loss bc: 0.00003\n",
      "Epoch [9220/10000], Loss: 0.00020, loss pde: 0.00000, loss ic: 0.00018, loss bc: 0.00002\n",
      "Epoch [9240/10000], Loss: 0.00029, loss pde: 0.00000, loss ic: 0.00022, loss bc: 0.00007\n",
      "Epoch [9260/10000], Loss: 0.00021, loss pde: 0.00001, loss ic: 0.00018, loss bc: 0.00002\n",
      "Epoch [9280/10000], Loss: 0.00020, loss pde: 0.00000, loss ic: 0.00017, loss bc: 0.00003\n",
      "Epoch [9300/10000], Loss: 0.00020, loss pde: 0.00000, loss ic: 0.00017, loss bc: 0.00002\n",
      "Epoch [9320/10000], Loss: 0.00020, loss pde: 0.00000, loss ic: 0.00017, loss bc: 0.00002\n",
      "Epoch [9340/10000], Loss: 0.00020, loss pde: 0.00000, loss ic: 0.00017, loss bc: 0.00002\n",
      "Epoch [9360/10000], Loss: 0.00020, loss pde: 0.00000, loss ic: 0.00017, loss bc: 0.00002\n",
      "Epoch [9380/10000], Loss: 0.00019, loss pde: 0.00000, loss ic: 0.00017, loss bc: 0.00002\n",
      "Epoch [9400/10000], Loss: 0.00019, loss pde: 0.00000, loss ic: 0.00017, loss bc: 0.00002\n",
      "Epoch [9420/10000], Loss: 0.00019, loss pde: 0.00000, loss ic: 0.00017, loss bc: 0.00002\n",
      "Epoch [9440/10000], Loss: 0.00019, loss pde: 0.00000, loss ic: 0.00017, loss bc: 0.00002\n",
      "Epoch [9460/10000], Loss: 0.00028, loss pde: 0.00004, loss ic: 0.00019, loss bc: 0.00005\n",
      "Epoch [9480/10000], Loss: 0.00020, loss pde: 0.00001, loss ic: 0.00016, loss bc: 0.00003\n",
      "Epoch [9500/10000], Loss: 0.00019, loss pde: 0.00000, loss ic: 0.00016, loss bc: 0.00002\n",
      "Epoch [9520/10000], Loss: 0.00019, loss pde: 0.00000, loss ic: 0.00016, loss bc: 0.00002\n",
      "Epoch [9540/10000], Loss: 0.00019, loss pde: 0.00000, loss ic: 0.00016, loss bc: 0.00002\n",
      "Epoch [9560/10000], Loss: 0.00018, loss pde: 0.00000, loss ic: 0.00016, loss bc: 0.00002\n",
      "Epoch [9580/10000], Loss: 0.00018, loss pde: 0.00000, loss ic: 0.00016, loss bc: 0.00002\n",
      "Epoch [9600/10000], Loss: 0.00018, loss pde: 0.00000, loss ic: 0.00016, loss bc: 0.00002\n",
      "Epoch [9620/10000], Loss: 0.00023, loss pde: 0.00001, loss ic: 0.00018, loss bc: 0.00003\n",
      "Epoch [9640/10000], Loss: 0.00023, loss pde: 0.00001, loss ic: 0.00019, loss bc: 0.00004\n",
      "Epoch [9660/10000], Loss: 0.00018, loss pde: 0.00000, loss ic: 0.00015, loss bc: 0.00002\n",
      "Epoch [9680/10000], Loss: 0.00018, loss pde: 0.00000, loss ic: 0.00015, loss bc: 0.00002\n",
      "Epoch [9700/10000], Loss: 0.00018, loss pde: 0.00000, loss ic: 0.00015, loss bc: 0.00002\n",
      "Epoch [9720/10000], Loss: 0.00018, loss pde: 0.00000, loss ic: 0.00015, loss bc: 0.00002\n",
      "Epoch [9740/10000], Loss: 0.00017, loss pde: 0.00000, loss ic: 0.00015, loss bc: 0.00002\n",
      "Epoch [9760/10000], Loss: 0.00017, loss pde: 0.00000, loss ic: 0.00015, loss bc: 0.00002\n",
      "Epoch [9780/10000], Loss: 0.00017, loss pde: 0.00000, loss ic: 0.00015, loss bc: 0.00002\n",
      "Epoch [9800/10000], Loss: 0.00017, loss pde: 0.00000, loss ic: 0.00015, loss bc: 0.00002\n",
      "Epoch [9820/10000], Loss: 0.00017, loss pde: 0.00000, loss ic: 0.00015, loss bc: 0.00002\n",
      "Epoch [9840/10000], Loss: 0.00030, loss pde: 0.00002, loss ic: 0.00021, loss bc: 0.00008\n",
      "Epoch [9860/10000], Loss: 0.00018, loss pde: 0.00000, loss ic: 0.00015, loss bc: 0.00003\n",
      "Epoch [9880/10000], Loss: 0.00017, loss pde: 0.00000, loss ic: 0.00014, loss bc: 0.00002\n",
      "Epoch [9900/10000], Loss: 0.00017, loss pde: 0.00000, loss ic: 0.00014, loss bc: 0.00002\n",
      "Epoch [9920/10000], Loss: 0.00017, loss pde: 0.00000, loss ic: 0.00014, loss bc: 0.00002\n",
      "Epoch [9940/10000], Loss: 0.00016, loss pde: 0.00000, loss ic: 0.00014, loss bc: 0.00002\n",
      "Epoch [9960/10000], Loss: 0.00033, loss pde: 0.00002, loss ic: 0.00023, loss bc: 0.00009\n",
      "Epoch [9980/10000], Loss: 0.00016, loss pde: 0.00000, loss ic: 0.00014, loss bc: 0.00002\n"
     ]
    }
   ],
   "source": [
    "# параметры для расчета loss_pde\n",
    "#ka, kb = 0.02, 0.1\n",
    "ka, kb = 0.01, 0.03\n",
    "# весовые коэффициенты для общего loss\n",
    "alpha_pde, alpha_ic, alpha_bc = 1.,1.,1.\n",
    "# обучение\n",
    "MAX = 10000\n",
    "for epoch in range(MAX):\n",
    "    # ---------------------------------- ПРЕДИКТИВНЫЕ ДАННЫЕ ПО ВСЕЙ ОБЛАСТИ ОПРЕДЕЛЕНИЯ ----------------\n",
    "    u_pred = u_net(x_batch,t_batch)\n",
    "    # ---------------------------------- LOSS PDE ----------------\n",
    "    u_pred_pde = u_pred[0:72]\n",
    "    # du/dx, du/dt\n",
    "    [du_dx, du_dt] = torch.autograd.grad(u_pred_pde, inputs=[x_batch_pde, t_batch_pde], grad_outputs=torch.ones_like(x_batch_pde), create_graph=True, retain_graph=True)\n",
    "    # d2u/dx2\n",
    "    [d2u_dx2, du_dxdt] = torch.autograd.grad(du_dx, inputs=[x_batch_pde, t_batch_pde], grad_outputs=torch.ones_like(x_batch_pde), create_graph=True, retain_graph=True)\n",
    "    # loss pde\n",
    "    loss_pde = torch.mean((du_dt[0] + ka*2*torch.pi*torch.sin(2*torch.pi*x_batch_pde)*du_dx[0] - (ka*torch.cos(2*torch.pi*x_batch_pde) +kb)*d2u_dx2[0])**2)\n",
    "    # ---------------------------------- LOSS IC -----------------\n",
    "    u_pred_ic = u_pred[72:82]\n",
    "    loss_ic = torch.mean( (u_pred_ic - torch.sin(torch.pi*x_batch_ic))**2 )\n",
    "    # ---------------------------------- LOSS BC -----------------\n",
    "    u_pred_bc = u_pred[82:100]\n",
    "    loss_bc = torch.mean( (u_pred_bc)**2 )\n",
    "    # ---------------------------------- LOSS COMMON -------------\n",
    "    loss = alpha_pde * loss_pde + alpha_ic * loss_ic + alpha_bc * loss_bc\n",
    "    # стираем предыдущий граф градиента\n",
    "    optimizer.zero_grad()\n",
    "    # обратное распространение ошибки\n",
    "    loss.backward()\n",
    "    # записываем новые коэфициента\n",
    "    optimizer.step()\n",
    "    if epoch % 20 == 0:\n",
    "        print(f'Epoch [{epoch}/{MAX}], Loss: {loss.item():.5f}, loss pde: {loss_pde.item():.5f}, loss ic: {loss_ic.item():.5f}, loss bc: {loss_bc.item():.5f}')\n",
    "    if loss < 0.0001:\n",
    "        print('stop optimization')\n",
    "        break"
   ]
  },
  {
   "cell_type": "markdown",
   "id": "bf17c82c-24db-4aea-8edf-3fd3607d429b",
   "metadata": {},
   "source": [
    "# 1.6 Проверка PINN на обучаемых данных"
   ]
  },
  {
   "cell_type": "code",
   "execution_count": 111,
   "id": "acfe54f2-6f69-4757-9f62-41a215f14890",
   "metadata": {},
   "outputs": [],
   "source": [
    "u_res = u_net(x_batch,t_batch)"
   ]
  },
  {
   "cell_type": "code",
   "execution_count": 112,
   "id": "a08f8483-b43c-40f9-bd4f-156ca936ea15",
   "metadata": {},
   "outputs": [
    {
     "data": {
      "text/plain": [
       "tensor([[-0.0070],\n",
       "        [ 0.3480],\n",
       "        [ 0.6284],\n",
       "        [ 0.8845],\n",
       "        [ 0.9753],\n",
       "        [ 0.9690],\n",
       "        [ 0.8727],\n",
       "        [ 0.6546],\n",
       "        [ 0.3269],\n",
       "        [ 0.0048]], grad_fn=<SliceBackward0>)"
      ]
     },
     "execution_count": 112,
     "metadata": {},
     "output_type": "execute_result"
    }
   ],
   "source": [
    "# Initial condition\n",
    "u_res[72:82]"
   ]
  },
  {
   "cell_type": "code",
   "execution_count": 113,
   "id": "8ce63d9d-a0e0-4b1d-915d-0100a98dc40a",
   "metadata": {},
   "outputs": [
    {
     "data": {
      "text/plain": [
       "tensor([[ 0.0040],\n",
       "        [ 0.0065],\n",
       "        [ 0.0014],\n",
       "        [-0.0044],\n",
       "        [-0.0055],\n",
       "        [-0.0018],\n",
       "        [ 0.0028],\n",
       "        [ 0.0031],\n",
       "        [-0.0051],\n",
       "        [-0.0004],\n",
       "        [-0.0036],\n",
       "        [-0.0042],\n",
       "        [-0.0026],\n",
       "        [ 0.0005],\n",
       "        [ 0.0040],\n",
       "        [ 0.0059],\n",
       "        [ 0.0031],\n",
       "        [-0.0110]], grad_fn=<SliceBackward0>)"
      ]
     },
     "execution_count": 113,
     "metadata": {},
     "output_type": "execute_result"
    }
   ],
   "source": [
    "# Boundary condition\n",
    "u_res[82:100]"
   ]
  },
  {
   "cell_type": "code",
   "execution_count": 114,
   "id": "794ebe82-045e-4152-9932-c112837d5466",
   "metadata": {},
   "outputs": [
    {
     "data": {
      "text/plain": [
       "tensor([[ 0.3012,  0.3351,  0.4152,  0.5157,  0.6174,  0.7081,  0.7807,  0.8314,\n",
       "          0.8587],\n",
       "        [ 0.4550,  0.3950,  0.4416,  0.5375,  0.6405,  0.7280,  0.7894,  0.8201,\n",
       "          0.8176],\n",
       "        [ 0.8733,  0.7818,  0.6711,  0.6255,  0.6376,  0.6629,  0.6704,  0.6448,\n",
       "          0.5794],\n",
       "        [ 1.0897,  1.1329,  1.0718,  0.9099,  0.7196,  0.5713,  0.4531,  0.3308,\n",
       "          0.1880],\n",
       "        [ 1.1022,  1.1908,  1.2046,  1.1106,  0.8897,  0.5652,  0.2322, -0.0339,\n",
       "         -0.2384],\n",
       "        [ 0.9655,  1.0155,  1.0097,  0.9359,  0.7815,  0.5386,  0.2133, -0.1523,\n",
       "         -0.4500],\n",
       "        [ 0.6816,  0.6704,  0.6226,  0.5450,  0.4453,  0.3258,  0.1784, -0.0134,\n",
       "         -0.2694],\n",
       "        [ 0.3116,  0.2809,  0.2414,  0.1994,  0.1589,  0.1201,  0.0786,  0.0231,\n",
       "         -0.0656]], grad_fn=<ViewBackward0>)"
      ]
     },
     "execution_count": 114,
     "metadata": {},
     "output_type": "execute_result"
    }
   ],
   "source": [
    "# PDE\n",
    "u_res[0:72].view(8,9)"
   ]
  },
  {
   "cell_type": "markdown",
   "id": "68d6246b-66bc-40ea-8993-dcd257874dca",
   "metadata": {},
   "source": [
    "## Создаем массивы для вывода на печать"
   ]
  },
  {
   "cell_type": "code",
   "execution_count": 115,
   "id": "e025c099-aa42-4ead-9627-a046c6149285",
   "metadata": {},
   "outputs": [
    {
     "data": {
      "text/plain": [
       "tensor([[0.0000, 0.1111, 0.2222, 0.3333, 0.4444, 0.5556, 0.6667, 0.7778, 0.8889,\n",
       "         1.0000],\n",
       "        [0.0000, 0.1111, 0.2222, 0.3333, 0.4444, 0.5556, 0.6667, 0.7778, 0.8889,\n",
       "         1.0000],\n",
       "        [0.0000, 0.1111, 0.2222, 0.3333, 0.4444, 0.5556, 0.6667, 0.7778, 0.8889,\n",
       "         1.0000],\n",
       "        [0.0000, 0.1111, 0.2222, 0.3333, 0.4444, 0.5556, 0.6667, 0.7778, 0.8889,\n",
       "         1.0000],\n",
       "        [0.0000, 0.1111, 0.2222, 0.3333, 0.4444, 0.5556, 0.6667, 0.7778, 0.8889,\n",
       "         1.0000],\n",
       "        [0.0000, 0.1111, 0.2222, 0.3333, 0.4444, 0.5556, 0.6667, 0.7778, 0.8889,\n",
       "         1.0000],\n",
       "        [0.0000, 0.1111, 0.2222, 0.3333, 0.4444, 0.5556, 0.6667, 0.7778, 0.8889,\n",
       "         1.0000],\n",
       "        [0.0000, 0.1111, 0.2222, 0.3333, 0.4444, 0.5556, 0.6667, 0.7778, 0.8889,\n",
       "         1.0000],\n",
       "        [0.0000, 0.1111, 0.2222, 0.3333, 0.4444, 0.5556, 0.6667, 0.7778, 0.8889,\n",
       "         1.0000],\n",
       "        [0.0000, 0.1111, 0.2222, 0.3333, 0.4444, 0.5556, 0.6667, 0.7778, 0.8889,\n",
       "         1.0000]])"
      ]
     },
     "execution_count": 115,
     "metadata": {},
     "output_type": "execute_result"
    }
   ],
   "source": [
    "x_plot = torch.ones(10,10) * torch.linspace(0,1,10)\n",
    "x_plot"
   ]
  },
  {
   "cell_type": "code",
   "execution_count": 116,
   "id": "1dc0119e-c6fd-4f95-bc43-469238ae86d8",
   "metadata": {},
   "outputs": [
    {
     "data": {
      "text/plain": [
       "tensor([[0.0000, 0.0000, 0.0000, 0.0000, 0.0000, 0.0000, 0.0000, 0.0000, 0.0000,\n",
       "         0.0000],\n",
       "        [0.1111, 0.1111, 0.1111, 0.1111, 0.1111, 0.1111, 0.1111, 0.1111, 0.1111,\n",
       "         0.1111],\n",
       "        [0.2222, 0.2222, 0.2222, 0.2222, 0.2222, 0.2222, 0.2222, 0.2222, 0.2222,\n",
       "         0.2222],\n",
       "        [0.3333, 0.3333, 0.3333, 0.3333, 0.3333, 0.3333, 0.3333, 0.3333, 0.3333,\n",
       "         0.3333],\n",
       "        [0.4444, 0.4444, 0.4444, 0.4444, 0.4444, 0.4444, 0.4444, 0.4444, 0.4444,\n",
       "         0.4444],\n",
       "        [0.5556, 0.5556, 0.5556, 0.5556, 0.5556, 0.5556, 0.5556, 0.5556, 0.5556,\n",
       "         0.5556],\n",
       "        [0.6667, 0.6667, 0.6667, 0.6667, 0.6667, 0.6667, 0.6667, 0.6667, 0.6667,\n",
       "         0.6667],\n",
       "        [0.7778, 0.7778, 0.7778, 0.7778, 0.7778, 0.7778, 0.7778, 0.7778, 0.7778,\n",
       "         0.7778],\n",
       "        [0.8889, 0.8889, 0.8889, 0.8889, 0.8889, 0.8889, 0.8889, 0.8889, 0.8889,\n",
       "         0.8889],\n",
       "        [1.0000, 1.0000, 1.0000, 1.0000, 1.0000, 1.0000, 1.0000, 1.0000, 1.0000,\n",
       "         1.0000]])"
      ]
     },
     "execution_count": 116,
     "metadata": {},
     "output_type": "execute_result"
    }
   ],
   "source": [
    "t_plot = torch.ones(10,10) * torch.linspace(0,1,10).view(-1,1)\n",
    "t_plot"
   ]
  },
  {
   "cell_type": "code",
   "execution_count": 117,
   "id": "e28101d7-9bcc-4717-8e07-5250858fef5b",
   "metadata": {},
   "outputs": [
    {
     "data": {
      "text/plain": [
       "tensor([[0., 0., 0., 0., 0., 0., 0., 0., 0., 0.],\n",
       "        [0., 0., 0., 0., 0., 0., 0., 0., 0., 0.],\n",
       "        [0., 0., 0., 0., 0., 0., 0., 0., 0., 0.],\n",
       "        [0., 0., 0., 0., 0., 0., 0., 0., 0., 0.],\n",
       "        [0., 0., 0., 0., 0., 0., 0., 0., 0., 0.],\n",
       "        [0., 0., 0., 0., 0., 0., 0., 0., 0., 0.],\n",
       "        [0., 0., 0., 0., 0., 0., 0., 0., 0., 0.],\n",
       "        [0., 0., 0., 0., 0., 0., 0., 0., 0., 0.],\n",
       "        [0., 0., 0., 0., 0., 0., 0., 0., 0., 0.],\n",
       "        [0., 0., 0., 0., 0., 0., 0., 0., 0., 0.]])"
      ]
     },
     "execution_count": 117,
     "metadata": {},
     "output_type": "execute_result"
    }
   ],
   "source": [
    "u_plot = torch.zeros(10,10)\n",
    "u_plot"
   ]
  },
  {
   "cell_type": "code",
   "execution_count": 118,
   "id": "8d3e5063-4023-4184-8065-ee6d0456eb63",
   "metadata": {},
   "outputs": [
    {
     "data": {
      "text/plain": [
       "tensor([[-0.0070,  0.3480,  0.6284,  0.8845,  0.9753,  0.9690,  0.8727,  0.6546,\n",
       "          0.3269,  0.0048],\n",
       "        [ 0.0000,  0.0000,  0.0000,  0.0000,  0.0000,  0.0000,  0.0000,  0.0000,\n",
       "          0.0000,  0.0000],\n",
       "        [ 0.0000,  0.0000,  0.0000,  0.0000,  0.0000,  0.0000,  0.0000,  0.0000,\n",
       "          0.0000,  0.0000],\n",
       "        [ 0.0000,  0.0000,  0.0000,  0.0000,  0.0000,  0.0000,  0.0000,  0.0000,\n",
       "          0.0000,  0.0000],\n",
       "        [ 0.0000,  0.0000,  0.0000,  0.0000,  0.0000,  0.0000,  0.0000,  0.0000,\n",
       "          0.0000,  0.0000],\n",
       "        [ 0.0000,  0.0000,  0.0000,  0.0000,  0.0000,  0.0000,  0.0000,  0.0000,\n",
       "          0.0000,  0.0000],\n",
       "        [ 0.0000,  0.0000,  0.0000,  0.0000,  0.0000,  0.0000,  0.0000,  0.0000,\n",
       "          0.0000,  0.0000],\n",
       "        [ 0.0000,  0.0000,  0.0000,  0.0000,  0.0000,  0.0000,  0.0000,  0.0000,\n",
       "          0.0000,  0.0000],\n",
       "        [ 0.0000,  0.0000,  0.0000,  0.0000,  0.0000,  0.0000,  0.0000,  0.0000,\n",
       "          0.0000,  0.0000],\n",
       "        [ 0.0000,  0.0000,  0.0000,  0.0000,  0.0000,  0.0000,  0.0000,  0.0000,\n",
       "          0.0000,  0.0000]], grad_fn=<CopySlices>)"
      ]
     },
     "execution_count": 118,
     "metadata": {},
     "output_type": "execute_result"
    }
   ],
   "source": [
    "# initial condition\n",
    "u_plot[0,:] = u_res[72:82].view(1,-1)\n",
    "u_plot"
   ]
  },
  {
   "cell_type": "code",
   "execution_count": 119,
   "id": "82a43ce7-1575-4863-97d5-3fc1cb970919",
   "metadata": {},
   "outputs": [
    {
     "data": {
      "text/plain": [
       "tensor([[-6.9628e-03,  3.4801e-01,  6.2835e-01,  8.8447e-01,  9.7533e-01,\n",
       "          9.6904e-01,  8.7269e-01,  6.5456e-01,  3.2686e-01,  4.8322e-03],\n",
       "        [ 3.9560e-03,  0.0000e+00,  0.0000e+00,  0.0000e+00,  0.0000e+00,\n",
       "          0.0000e+00,  0.0000e+00,  0.0000e+00,  0.0000e+00, -3.5022e-04],\n",
       "        [ 6.4765e-03,  0.0000e+00,  0.0000e+00,  0.0000e+00,  0.0000e+00,\n",
       "          0.0000e+00,  0.0000e+00,  0.0000e+00,  0.0000e+00, -3.5536e-03],\n",
       "        [ 1.4390e-03,  0.0000e+00,  0.0000e+00,  0.0000e+00,  0.0000e+00,\n",
       "          0.0000e+00,  0.0000e+00,  0.0000e+00,  0.0000e+00, -4.2319e-03],\n",
       "        [-4.3647e-03,  0.0000e+00,  0.0000e+00,  0.0000e+00,  0.0000e+00,\n",
       "          0.0000e+00,  0.0000e+00,  0.0000e+00,  0.0000e+00, -2.6159e-03],\n",
       "        [-5.4734e-03,  0.0000e+00,  0.0000e+00,  0.0000e+00,  0.0000e+00,\n",
       "          0.0000e+00,  0.0000e+00,  0.0000e+00,  0.0000e+00,  5.1399e-04],\n",
       "        [-1.7553e-03,  0.0000e+00,  0.0000e+00,  0.0000e+00,  0.0000e+00,\n",
       "          0.0000e+00,  0.0000e+00,  0.0000e+00,  0.0000e+00,  3.9599e-03],\n",
       "        [ 2.7924e-03,  0.0000e+00,  0.0000e+00,  0.0000e+00,  0.0000e+00,\n",
       "          0.0000e+00,  0.0000e+00,  0.0000e+00,  0.0000e+00,  5.9105e-03],\n",
       "        [ 3.0905e-03,  0.0000e+00,  0.0000e+00,  0.0000e+00,  0.0000e+00,\n",
       "          0.0000e+00,  0.0000e+00,  0.0000e+00,  0.0000e+00,  3.1092e-03],\n",
       "        [-5.0959e-03,  0.0000e+00,  0.0000e+00,  0.0000e+00,  0.0000e+00,\n",
       "          0.0000e+00,  0.0000e+00,  0.0000e+00,  0.0000e+00, -1.0994e-02]],\n",
       "       grad_fn=<CopySlices>)"
      ]
     },
     "execution_count": 119,
     "metadata": {},
     "output_type": "execute_result"
    }
   ],
   "source": [
    "# left boundary condition\n",
    "u_plot[1:10,0] = u_res[82:91].view(1,-1)\n",
    "# right boundary condition\n",
    "u_plot[1:10,9] = u_res[91:100].view(1,-1)\n",
    "u_plot"
   ]
  },
  {
   "cell_type": "code",
   "execution_count": 120,
   "id": "44a58800-751e-4188-b5d0-9b2b1c1b3c08",
   "metadata": {},
   "outputs": [
    {
     "data": {
      "text/plain": [
       "tensor([[-6.9628e-03,  3.4801e-01,  6.2835e-01,  8.8447e-01,  9.7533e-01,\n",
       "          9.6904e-01,  8.7269e-01,  6.5456e-01,  3.2686e-01,  4.8322e-03],\n",
       "        [ 3.9560e-03,  3.0116e-01,  4.5495e-01,  8.7331e-01,  1.0897e+00,\n",
       "          1.1022e+00,  9.6548e-01,  6.8163e-01,  3.1155e-01, -3.5022e-04],\n",
       "        [ 6.4765e-03,  3.3507e-01,  3.9503e-01,  7.8178e-01,  1.1329e+00,\n",
       "          1.1908e+00,  1.0155e+00,  6.7043e-01,  2.8090e-01, -3.5536e-03],\n",
       "        [ 1.4390e-03,  4.1524e-01,  4.4161e-01,  6.7114e-01,  1.0718e+00,\n",
       "          1.2046e+00,  1.0097e+00,  6.2255e-01,  2.4142e-01, -4.2319e-03],\n",
       "        [-4.3647e-03,  5.1565e-01,  5.3755e-01,  6.2547e-01,  9.0995e-01,\n",
       "          1.1106e+00,  9.3585e-01,  5.4497e-01,  1.9941e-01, -2.6159e-03],\n",
       "        [-5.4734e-03,  6.1740e-01,  6.4051e-01,  6.3761e-01,  7.1956e-01,\n",
       "          8.8966e-01,  7.8147e-01,  4.4534e-01,  1.5885e-01,  5.1399e-04],\n",
       "        [-1.7553e-03,  7.0811e-01,  7.2798e-01,  6.6292e-01,  5.7129e-01,\n",
       "          5.6520e-01,  5.3856e-01,  3.2577e-01,  1.2010e-01,  3.9599e-03],\n",
       "        [ 2.7924e-03,  7.8066e-01,  7.8942e-01,  6.7045e-01,  4.5310e-01,\n",
       "          2.3220e-01,  2.1334e-01,  1.7836e-01,  7.8607e-02,  5.9105e-03],\n",
       "        [ 3.0905e-03,  8.3144e-01,  8.2012e-01,  6.4477e-01,  3.3078e-01,\n",
       "         -3.3867e-02, -1.5232e-01, -1.3406e-02,  2.3107e-02,  3.1092e-03],\n",
       "        [-5.0959e-03,  8.5870e-01,  8.1762e-01,  5.7941e-01,  1.8799e-01,\n",
       "         -2.3836e-01, -4.4996e-01, -2.6943e-01, -6.5588e-02, -1.0994e-02]],\n",
       "       grad_fn=<CopySlices>)"
      ]
     },
     "execution_count": 120,
     "metadata": {},
     "output_type": "execute_result"
    }
   ],
   "source": [
    "# pde area\n",
    "u_plot[1:10,1:9] = u_res[0:72].view(8,9).T\n",
    "u_plot"
   ]
  },
  {
   "cell_type": "code",
   "execution_count": 121,
   "id": "5516e719-8f4f-44f4-9178-3bb2948e06a6",
   "metadata": {},
   "outputs": [
    {
     "data": {
      "image/png": "[encoded data removed]",
      "text/plain": [
       "<Figure size 1000x700 with 1 Axes>"
      ]
     },
     "metadata": {},
     "output_type": "display_data"
    }
   ],
   "source": [
    "# Визуализация\n",
    "import matplotlib.pyplot as plt\n",
    "from mpl_toolkits.mplot3d import Axes3D\n",
    "\n",
    "fig = plt.figure(figsize=(10, 7))\n",
    "ax = fig.add_subplot(111, projection='3d')\n",
    "ax.plot_surface(x_plot.detach().numpy() , t_plot.detach().numpy() , u_plot.detach().numpy() , cmap='viridis')\n",
    "ax.set_xlabel('x')\n",
    "ax.set_ylabel('t')\n",
    "ax.set_zlabel('u(x,t)')\n",
    "ax.set_title('Решение 1D уравнения теплопроводности')\n",
    "plt.show()"
   ]
  },
  {
   "cell_type": "markdown",
   "id": "a3c4337a-b766-41c5-8466-44aad0784d34",
   "metadata": {},
   "source": [
    "## 1.7 Работа PINN на тестовых данных"
   ]
  },
  {
   "cell_type": "code",
   "execution_count": null,
   "id": "d3dbc6ef-cbf6-4fd7-af36-7cd735d60fbc",
   "metadata": {},
   "outputs": [],
   "source": []
  }
 ],
 "metadata": {
  "kernelspec": {
   "display_name": "Python 3 (ipykernel)",
   "language": "python",
   "name": "python3"
  },
  "language_info": {
   "codemirror_mode": {
    "name": "ipython",
    "version": 3
   },
   "file_extension": ".py",
   "mimetype": "text/x-python",
   "name": "python",
   "nbconvert_exporter": "python",
   "pygments_lexer": "ipython3",
   "version": "3.10.12"
  }
 },
 "nbformat": 4,
 "nbformat_minor": 5
}
