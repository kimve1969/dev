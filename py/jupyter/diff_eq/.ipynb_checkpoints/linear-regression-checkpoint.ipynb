{
 "cells": [
  {
   "cell_type": "markdown",
   "id": "5225dc20",
   "metadata": {},
   "source": [
    "# Линейная регрессия"
   ]
  },
  {
   "cell_type": "code",
   "execution_count": 1,
   "id": "c0df52b6",
   "metadata": {},
   "outputs": [],
   "source": [
    "import numpy as np\n",
    "import torch\n",
    "import torch.nn as nn\n",
    "import matplotlib.pyplot as plt\n",
    "\n",
    "import torch\n",
    "import torch.nn as nn\n",
    "\n",
    "class SLE( nn.Module ):\n",
    "    def __init__(self):\n",
    "        super().__init__()\n",
    "        self.fc = nn.Sequential(\n",
    "            nn.Linear(1,1)\n",
    "        )\n",
    "\n",
    "    def forward(self, x):\n",
    "        return self.fc( x )"
   ]
  },
  {
   "cell_type": "code",
   "execution_count": 10,
   "id": "81348ac9",
   "metadata": {},
   "outputs": [
    {
     "data": {
      "text/plain": [
       "Linear(in_features=1, out_features=1, bias=True)"
      ]
     },
     "execution_count": 10,
     "metadata": {},
     "output_type": "execute_result"
    }
   ],
   "source": [
    "# sle = SLE()\n",
    "# все то же самое работает без создания класса\n",
    "sle = nn.Linear(1,1)\n",
    "sle"
   ]
  },
  {
   "cell_type": "code",
   "execution_count": 3,
   "id": "6f8c67c7",
   "metadata": {},
   "outputs": [
    {
     "name": "stdout",
     "output_type": "stream",
     "text": [
      "Parameter containing:\n",
      "tensor([[-0.3939]], requires_grad=True)\n",
      "Parameter containing:\n",
      "tensor([0.1106], requires_grad=True)\n"
     ]
    }
   ],
   "source": [
    "#print( sle.fc[0].weight )\n",
    "#print( sle.fc[0].bias )\n",
    "print( sle.weight )\n",
    "print( sle.bias )"
   ]
  },
  {
   "cell_type": "code",
   "execution_count": 8,
   "id": "d09cf9a1",
   "metadata": {
    "editable": true,
    "scrolled": true,
    "slideshow": {
     "slide_type": ""
    },
    "tags": []
   },
   "outputs": [
    {
     "data": {
      "text/plain": [
       "tensor([[0.0000],\n",
       "        [0.1111],\n",
       "        [0.2222],\n",
       "        [0.3333],\n",
       "        [0.4444],\n",
       "        [0.5556],\n",
       "        [0.6667],\n",
       "        [0.7778],\n",
       "        [0.8889],\n",
       "        [1.0000]], grad_fn=<ViewBackward0>)"
      ]
     },
     "execution_count": 8,
     "metadata": {},
     "output_type": "execute_result"
    }
   ],
   "source": [
    "x = torch.linspace(0, 1., 10, requires_grad=True).view(-1,1)\n",
    "x"
   ]
  },
  {
   "cell_type": "code",
   "execution_count": 15,
   "id": "4ea4e3bf",
   "metadata": {},
   "outputs": [
    {
     "data": {
      "text/plain": [
       "tensor([[ 0.0644],\n",
       "        [ 0.0500],\n",
       "        [ 0.0356],\n",
       "        [ 0.0213],\n",
       "        [ 0.0069],\n",
       "        [-0.0074],\n",
       "        [-0.0218],\n",
       "        [-0.0361],\n",
       "        [-0.0505],\n",
       "        [-0.0648]], grad_fn=<AddmmBackward0>)"
      ]
     },
     "execution_count": 15,
     "metadata": {},
     "output_type": "execute_result"
    }
   ],
   "source": [
    "sle_pred = sle(x)\n",
    "sle_pred"
   ]
  },
  {
   "cell_type": "code",
   "execution_count": 16,
   "id": "afacfdda",
   "metadata": {},
   "outputs": [
    {
     "data": {
      "text/plain": [
       "tensor([[ 0.0644],\n",
       "        [ 0.0500],\n",
       "        [ 0.0356],\n",
       "        [ 0.0213],\n",
       "        [ 0.0069],\n",
       "        [-0.0074],\n",
       "        [-0.0218],\n",
       "        [-0.0361],\n",
       "        [-0.0505],\n",
       "        [-0.0648]], grad_fn=<AddBackward0>)"
      ]
     },
     "execution_count": 16,
     "metadata": {},
     "output_type": "execute_result"
    }
   ],
   "source": [
    "#sle.fc[0].weight * x + sle.fc[0].bias\n",
    "sle.weight * x + sle.bias"
   ]
  },
  {
   "cell_type": "code",
   "execution_count": 18,
   "id": "c6cb91ff",
   "metadata": {},
   "outputs": [
    {
     "data": {
      "text/plain": [
       "True"
      ]
     },
     "execution_count": 18,
     "metadata": {},
     "output_type": "execute_result"
    }
   ],
   "source": [
    "# check NN == W*x+b\n",
    "# torch.equal( sle_pred, sle.fc[0].weight * x + sle.fc[0].bias)\n",
    "torch.equal( sle_pred, sle.weight * x + sle.bias)"
   ]
  },
  {
   "cell_type": "code",
   "execution_count": 19,
   "id": "2a665e47",
   "metadata": {},
   "outputs": [
    {
     "data": {
      "text/plain": [
       "tensor([[ 0.4197],\n",
       "        [ 0.4005],\n",
       "        [ 0.3898],\n",
       "        [ 0.2090],\n",
       "        [ 0.1156],\n",
       "        [-0.0756],\n",
       "        [-0.2380],\n",
       "        [-0.2326],\n",
       "        [-0.3461],\n",
       "        [-0.4656]], grad_fn=<AddBackward0>)"
      ]
     },
     "execution_count": 19,
     "metadata": {},
     "output_type": "execute_result"
    }
   ],
   "source": [
    "# y - измерение выходных значений линейное + рандомный шум, например, неточноть измерения \n",
    "# y = Ax + B + noise\n",
    "A = -1\n",
    "B = 0.5\n",
    "K_deviation = 0.05\n",
    "torch.manual_seed(4)\n",
    "y = A*x + B + torch.randn( x.shape[0],1)*K_deviation\n",
    "y"
   ]
  },
  {
   "cell_type": "markdown",
   "id": "02f51f5b",
   "metadata": {},
   "source": [
    "### До обучения"
   ]
  },
  {
   "cell_type": "code",
   "execution_count": 20,
   "id": "d44de75c",
   "metadata": {},
   "outputs": [
    {
     "name": "stdout",
     "output_type": "stream",
     "text": [
      "Parameter containing:\n",
      "tensor([[-0.1292]], requires_grad=True)\n",
      "Parameter containing:\n",
      "tensor([0.0644], requires_grad=True)\n"
     ]
    }
   ],
   "source": [
    "#print( sle.fc[0].weight )\n",
    "#print( sle.fc[0].bias )\n",
    "print( sle.weight )\n",
    "print( sle.bias )"
   ]
  },
  {
   "cell_type": "code",
   "execution_count": 21,
   "id": "e301b39e",
   "metadata": {},
   "outputs": [
    {
     "data": {
      "text/plain": [
       "Text(0.5, 1.0, 'Линейная регрессия')"
      ]
     },
     "execution_count": 21,
     "metadata": {},
     "output_type": "execute_result"
    },
    {
     "data": {
      "image/png": "[encoded data removed]",
      "text/plain": [
       "<Figure size 640x480 with 1 Axes>"
      ]
     },
     "metadata": {},
     "output_type": "display_data"
    }
   ],
   "source": [
    "plt.scatter(x.detach().numpy(), sle_pred.detach().numpy(), label='Предсказание нейронки')\n",
    "plt.scatter(x.detach().numpy(), y.detach().numpy(), label='Измерения с шумом')\n",
    "plt.grid(True)\n",
    "plt.legend()\n",
    "plt.xlabel('x')\n",
    "plt.ylabel('y')\n",
    "plt.title('Линейная регрессия')\n",
    "#plt.show()"
   ]
  },
  {
   "cell_type": "markdown",
   "id": "0d1f73e8",
   "metadata": {},
   "source": [
    "### Цикл обучения"
   ]
  },
  {
   "cell_type": "code",
   "execution_count": 24,
   "id": "942d7adc",
   "metadata": {},
   "outputs": [
    {
     "data": {
      "text/plain": [
       "Adam (\n",
       "Parameter Group 0\n",
       "    amsgrad: False\n",
       "    betas: (0.9, 0.999)\n",
       "    capturable: False\n",
       "    decoupled_weight_decay: False\n",
       "    differentiable: False\n",
       "    eps: 1e-08\n",
       "    foreach: None\n",
       "    fused: None\n",
       "    lr: 0.001\n",
       "    maximize: False\n",
       "    weight_decay: 0\n",
       ")"
      ]
     },
     "execution_count": 24,
     "metadata": {},
     "output_type": "execute_result"
    }
   ],
   "source": [
    "# lr - learning rate\n",
    "# w_new = w_old - lr * grad_w\n",
    "# if lr small, поиск оптимального решения может потребовать много иттераций\n",
    "# if lr big, может не приблизить к оптимальному решению, например, в случае овражьего типа\n",
    "#optimizer = torch.optim.SGD( sle.parameters(), lr=1e-3)\n",
    "optimizer = torch.optim.Adam( sle.parameters(), lr=1e-3)\n",
    "optimizer"
   ]
  },
  {
   "cell_type": "code",
   "execution_count": 25,
   "id": "8964bbed",
   "metadata": {},
   "outputs": [
    {
     "data": {
      "text/plain": [
       "MSELoss()"
      ]
     },
     "execution_count": 25,
     "metadata": {},
     "output_type": "execute_result"
    }
   ],
   "source": [
    "critarion = nn.MSELoss()\n",
    "critarion"
   ]
  },
  {
   "cell_type": "code",
   "execution_count": 26,
   "id": "e34f1768",
   "metadata": {},
   "outputs": [
    {
     "name": "stderr",
     "output_type": "stream",
     "text": [
      "/home/kimve/.local/lib/python3.10/site-packages/torch/autograd/graph.py:824: UserWarning: CUDA initialization: The NVIDIA driver on your system is too old (found version 9010). Please update your GPU driver by downloading and installing a new version from the URL: http://www.nvidia.com/Download/index.aspx Alternatively, go to: https://pytorch.org to install a PyTorch version that has been compiled with your version of the CUDA driver. (Triggered internally at /pytorch/c10/cuda/CUDAFunctions.cpp:109.)\n",
      "  return Variable._execution_engine.run_backward(  # Calls into the C++ engine to run the backward pass\n"
     ]
    },
    {
     "name": "stdout",
     "output_type": "stream",
     "text": [
      "Epoch [0/1000], Loss: 0.07596\n",
      "Epoch [20/1000], Loss: 0.07231\n",
      "Epoch [40/1000], Loss: 0.06891\n",
      "Epoch [60/1000], Loss: 0.06567\n",
      "Epoch [80/1000], Loss: 0.06255\n",
      "Epoch [100/1000], Loss: 0.05957\n",
      "Epoch [120/1000], Loss: 0.05670\n",
      "Epoch [140/1000], Loss: 0.05394\n",
      "Epoch [160/1000], Loss: 0.05130\n",
      "Epoch [180/1000], Loss: 0.04876\n",
      "Epoch [200/1000], Loss: 0.04633\n",
      "Epoch [220/1000], Loss: 0.04400\n",
      "Epoch [240/1000], Loss: 0.04177\n",
      "Epoch [260/1000], Loss: 0.03963\n",
      "Epoch [280/1000], Loss: 0.03759\n",
      "Epoch [300/1000], Loss: 0.03563\n",
      "Epoch [320/1000], Loss: 0.03376\n",
      "Epoch [340/1000], Loss: 0.03198\n",
      "Epoch [360/1000], Loss: 0.03028\n",
      "Epoch [380/1000], Loss: 0.02866\n",
      "Epoch [400/1000], Loss: 0.02711\n",
      "Epoch [420/1000], Loss: 0.02564\n",
      "Epoch [440/1000], Loss: 0.02424\n",
      "Epoch [460/1000], Loss: 0.02291\n",
      "Epoch [480/1000], Loss: 0.02165\n",
      "Epoch [500/1000], Loss: 0.02045\n",
      "Epoch [520/1000], Loss: 0.01931\n",
      "Epoch [540/1000], Loss: 0.01824\n",
      "Epoch [560/1000], Loss: 0.01722\n",
      "Epoch [580/1000], Loss: 0.01626\n",
      "Epoch [600/1000], Loss: 0.01535\n",
      "Epoch [620/1000], Loss: 0.01449\n",
      "Epoch [640/1000], Loss: 0.01368\n",
      "Epoch [660/1000], Loss: 0.01292\n",
      "Epoch [680/1000], Loss: 0.01220\n",
      "Epoch [700/1000], Loss: 0.01153\n",
      "Epoch [720/1000], Loss: 0.01090\n",
      "Epoch [740/1000], Loss: 0.01031\n",
      "Epoch [760/1000], Loss: 0.00975\n",
      "Epoch [780/1000], Loss: 0.00923\n",
      "Epoch [800/1000], Loss: 0.00875\n",
      "Epoch [820/1000], Loss: 0.00830\n",
      "Epoch [840/1000], Loss: 0.00787\n",
      "Epoch [860/1000], Loss: 0.00748\n",
      "Epoch [880/1000], Loss: 0.00711\n",
      "Epoch [900/1000], Loss: 0.00678\n",
      "Epoch [920/1000], Loss: 0.00646\n",
      "Epoch [940/1000], Loss: 0.00617\n",
      "Epoch [960/1000], Loss: 0.00590\n",
      "Epoch [980/1000], Loss: 0.00565\n"
     ]
    }
   ],
   "source": [
    "# 1000 - ok, 100 - недообученная получается\n",
    "MAX = 1000\n",
    "for epoch in range(MAX):\n",
    "    sle_pred = sle(x)\n",
    "    # loss = torch.mean( ( y - sle_pred )**2 )\n",
    "    loss = critarion(y, sle_pred)\n",
    "    # стриаем предыдущий граф градиента\n",
    "    optimizer.zero_grad()\n",
    "    # обратное распространение ошибки\n",
    "    loss.backward(retain_graph=True)\n",
    "    # записываем новые коэфициента\n",
    "    optimizer.step()\n",
    "    if epoch % 20 == 0:\n",
    "        print(f'Epoch [{epoch}/{MAX}], Loss: {loss.item():.5f}')"
   ]
  },
  {
   "cell_type": "code",
   "execution_count": 240,
   "id": "f8c38bf2",
   "metadata": {},
   "outputs": [
    {
     "name": "stdout",
     "output_type": "stream",
     "text": [
      "Parameter containing:\n",
      "tensor([[-0.9343]], requires_grad=True)\n",
      "Parameter containing:\n",
      "tensor([0.4800], requires_grad=True)\n"
     ]
    }
   ],
   "source": [
    "#print( sle.fc[0].weight )\n",
    "#print( sle.fc[0].bias )\n",
    "print( sle.weight )\n",
    "print( sle.bias )"
   ]
  },
  {
   "cell_type": "code",
   "execution_count": 241,
   "id": "6be1588f",
   "metadata": {},
   "outputs": [
    {
     "data": {
      "text/plain": [
       "Text(0.5, 1.0, 'Линейная регрессия')"
      ]
     },
     "execution_count": 241,
     "metadata": {},
     "output_type": "execute_result"
    },
    {
     "data": {
      "image/png": "[encoded data removed]",
      "text/plain": [
       "<Figure size 640x480 with 1 Axes>"
      ]
     },
     "metadata": {},
     "output_type": "display_data"
    }
   ],
   "source": [
    "plt.scatter(x.detach().numpy(), sle_pred.detach().numpy(), label='Предсказание нейронки')\n",
    "plt.scatter(x.detach().numpy(), y.detach().numpy(), label='Измерения с шумом')\n",
    "plt.grid(True)\n",
    "plt.legend()\n",
    "plt.xlabel('x')\n",
    "plt.ylabel('y')\n",
    "plt.title('Линейная регрессия')\n",
    "#plt.show()"
   ]
  },
  {
   "cell_type": "markdown",
   "id": "41c570c8",
   "metadata": {},
   "source": [
    "### Опереляем погрешность аппроксимации"
   ]
  },
  {
   "cell_type": "code",
   "execution_count": 156,
   "id": "d088c7d0",
   "metadata": {},
   "outputs": [
    {
     "data": {
      "text/plain": [
       "tensor(0.1012, grad_fn=<MeanBackward0>)"
      ]
     },
     "execution_count": 156,
     "metadata": {},
     "output_type": "execute_result"
    }
   ],
   "source": [
    "# среднее отклонение\n",
    "torch.mean( critarion(y, sle_pred) )"
   ]
  },
  {
   "cell_type": "code",
   "execution_count": 17,
   "id": "b9da523e",
   "metadata": {},
   "outputs": [
    {
     "name": "stdout",
     "output_type": "stream",
     "text": [
      "Parameter containing:\n",
      "tensor([[-0.3711]], requires_grad=True)\n",
      "Parameter containing:\n",
      "tensor([0.1343], requires_grad=True)\n"
     ]
    }
   ],
   "source": [
    "#print( sle.fc[0].weight )\n",
    "#print( sle.fc[0].bias )\n",
    "print( sle.weight )\n",
    "print( sle.bias )"
   ]
  },
  {
   "cell_type": "code",
   "execution_count": 18,
   "id": "528dfb3b",
   "metadata": {},
   "outputs": [
    {
     "name": "stdout",
     "output_type": "stream",
     "text": [
      "-1\n",
      "0.5\n",
      "0.05\n"
     ]
    }
   ],
   "source": [
    "print(A)\n",
    "print(B)\n",
    "print(K_deviation)"
   ]
  },
  {
   "cell_type": "code",
   "execution_count": null,
   "id": "fcc36eba",
   "metadata": {},
   "outputs": [],
   "source": []
  }
 ],
 "metadata": {
  "kernelspec": {
   "display_name": "Python 3 (ipykernel)",
   "language": "python",
   "name": "python3"
  },
  "language_info": {
   "codemirror_mode": {
    "name": "ipython",
    "version": 3
   },
   "file_extension": ".py",
   "mimetype": "text/x-python",
   "name": "python",
   "nbconvert_exporter": "python",
   "pygments_lexer": "ipython3",
   "version": "3.10.12"
  }
 },
 "nbformat": 4,
 "nbformat_minor": 5
}
