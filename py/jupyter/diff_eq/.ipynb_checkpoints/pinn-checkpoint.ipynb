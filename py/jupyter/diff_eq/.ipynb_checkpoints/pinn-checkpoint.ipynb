{
 "cells": [
  {
   "cell_type": "markdown",
   "id": "3b9a4b21-d8d9-46af-bf6f-77c1184a046a",
   "metadata": {},
   "source": [
    "# Physics-Informed Neural Networs\n",
    "\n",
    "Теоретическая основа: универсальная теорема аппроксимации - теорема Хорника-Цирельсона-Уайта: \\\n",
    "Однослойная нейроная сеть с достаточно большим числом нейронов и нелинейной гладкой функцией \\\n",
    "(например, sigmoid или tanh) может приблизить любую непрерывную функцию на компактном множестве \\\n",
    "с любой заданной точностью. \n",
    "\n",
    "$$\n",
    "sup_{x \\in K}| f(x) - N(x) | < \\epsilon\n",
    "$$"
   ]
  },
  {
   "cell_type": "markdown",
   "id": "5ab0bfc7-18fc-4b56-8e59-37cba3dcd992",
   "metadata": {},
   "source": [
    "# Уравнение теплопроводности\n",
    "\n",
    "$$\n",
    "\\frac{\\sigma u(x,t)}{\\sigma t}=\\frac{\\sigma}{\\sigma x}(k(x)*\\frac{\\sigma u(x,t)}{\\sigma x})+f(x,t))\n",
    "$$\n",
    "\n",
    "$ u(x,t) $ - температура  \\\n",
    "$ k(x) $ \\\n",
    "$ f(x,t) $"
   ]
  },
  {
   "cell_type": "markdown",
   "id": "901ae47f-ef7b-4e7b-9b07-5a7d6f99e630",
   "metadata": {},
   "source": [
    "# аппроксимация дифференциального уравнения нейроной сетью\n",
    "$ N_u(x,t) $ - нейросеть аппроксимирует u(x,t), \\\n",
    "$ N_k(x) $ - нейросеть аппроксимирует k(x), \\\n",
    "тогда аппроксимированное ур-ие теплопроводностипримет вид:\n",
    "\n",
    "$$\n",
    "\\frac{\\sigma N_u(x,t)}{\\sigma t}=\\frac{\\sigma}{\\sigma x}(N_k(x)*\\frac{\\sigma N_u(x,t)}{\\sigma x})+f(x,t))\n",
    "$$\n",
    "\n",
    "или раскроем производную произведения и перенесем все в левую сторону\n",
    "$$\n",
    "\\frac{\\sigma N_u(x,t)}{\\sigma t} - \\frac{\\sigma N_k(x)}{\\sigma x}*\\frac{\\sigma N_u(x,t)}{\\sigma x} - N_k(x)*\\frac{\\sigma^2 N_u(x,t)}{\\sigma x^2} -f(x,t)) = 0\n",
    "$$\n",
    "\n",
    "Как выглядит производная нейросети\n",
    "Пусть $ N_u(x,t) $ - это гладкая функция как композиция слоев нейросети \\\n",
    "$$ N_u(x,t) = f_3(f_2(f_1(x,t,\\theta), \\theta), \\theta), $$ \\\n",
    "$ f_1, f_2, f_3 $ - слои нейросети (линейные преобразования + функции активации) \\\n",
    "$ \\theta_i $ - обучаемые параметры (веса и смещения) \\\n",
    "производная $  N_u(x,t) $ вычисляется по цепному правилу:\n",
    "$$\n",
    "\\frac{\\sigma N_u}{\\sigma x} = \\frac{\\sigma f_3}{\\sigma f_2} * \\frac{\\sigma f_2}{\\sigma f_1} * \\frac{\\sigma f_1}{\\sigma x}\n",
    "$$\n",
    "где каждый член это якобиан (матрица частных производных)"
   ]
  },
  {
   "cell_type": "markdown",
   "id": "ddb32d2a-6e34-4abd-8f53-2740e7ab5440",
   "metadata": {},
   "source": [
    "# функция потерь (Loss Function)\n",
    "### 1. Data loss: ошибка предсказанных и эксперементальных данных\n",
    "\n",
    "$$\n",
    "L_{data} = \\frac{1}{N} \\sum_{i=1}^N | N_u(x_i,t_i) - u_{data}(x_i, t_i)|^2\n",
    "$$\n",
    "\n",
    "### 2. Physics loss: ошибка аппроксимации дифф.ур-ия нейноной сетью\n",
    "\n",
    "$$\n",
    "L_{phys} = \\frac{1}{M} \\sum_{j=1}^M | \\frac{\\sigma N_u(x,t)}{\\sigma t} - \\frac{\\sigma N_k(x)}{\\sigma x}*\\frac{\\sigma N_u(x,t)}{\\sigma x} - N_k(x)*\\frac{\\sigma^2 N_u(x,t)}{\\sigma x^2} -f(x,t)) |^2\n",
    "$$\n",
    "\n",
    "Итоговый лосс:\n",
    "$$\n",
    "L = L_{data} + L_{phys}\n",
    "$$"
   ]
  },
  {
   "cell_type": "markdown",
   "id": "8530f509-3f15-4a3d-9bae-797cfe25ea1d",
   "metadata": {},
   "source": [
    "# Создаем нейроную сеть:\n",
    "### 2 (вход) -> 5 (1-ый внутр.слой) -> 5 (2-ой внутр.слой) -> 1 (выход)"
   ]
  },
  {
   "cell_type": "code",
   "execution_count": 90,
   "id": "1400555e-e269-4529-ba74-bd61586d0133",
   "metadata": {},
   "outputs": [],
   "source": [
    "# Создаем нейросеть 2->5->5->1\n",
    "import torch\n",
    "import torch.nn as nn\n",
    "\n",
    "class Unet( nn.Module ):\n",
    "    def __init__(self):\n",
    "        super().__init__()\n",
    "        self.fc = nn.Sequential(\n",
    "            nn.Linear(2,5),\n",
    "            nn.Sigmoid(),\n",
    "            nn.Linear(5,5),\n",
    "            nn.Sigmoid(),\n",
    "            nn.Linear(5,1)\n",
    "        )\n",
    "\n",
    "    def forward(self, x, t):\n",
    "        return self.fc( torch.cat([x, t], dim=1) ) # self.layers()\n",
    "    "
   ]
  },
  {
   "cell_type": "code",
   "execution_count": 91,
   "id": "c315ad1d-bb6e-4542-b529-419f5bd05e65",
   "metadata": {},
   "outputs": [
    {
     "data": {
      "text/plain": [
       "Unet(\n",
       "  (fc): Sequential(\n",
       "    (0): Linear(in_features=2, out_features=5, bias=True)\n",
       "    (1): Sigmoid()\n",
       "    (2): Linear(in_features=5, out_features=5, bias=True)\n",
       "    (3): Sigmoid()\n",
       "    (4): Linear(in_features=5, out_features=1, bias=True)\n",
       "  )\n",
       ")"
      ]
     },
     "execution_count": 91,
     "metadata": {},
     "output_type": "execute_result"
    }
   ],
   "source": [
    "u_net = Unet()\n",
    "u_net"
   ]
  },
  {
   "cell_type": "code",
   "execution_count": 92,
   "id": "46d50a25-120d-46a9-afa4-7eb97b6219d8",
   "metadata": {},
   "outputs": [
    {
     "data": {
      "text/plain": [
       "tensor([0.1000, 0.2000])"
      ]
     },
     "execution_count": 92,
     "metadata": {},
     "output_type": "execute_result"
    }
   ],
   "source": [
    "# будем счтиать, что x[0] - координата по x, а x[1] - время в точке x[0]\n",
    "x = torch.tensor([.1, .2])\n",
    "x"
   ]
  },
  {
   "cell_type": "markdown",
   "id": "0357a30b-c37f-46d1-9940-6f7202b998b7",
   "metadata": {},
   "source": [
    "# Проверка работы нейросети (от входа на выход)\n",
    "### 2 нейрона (вход) -> 5 нейронов (1-ый внутр.слой)\n",
    "$$\n",
    "h_i = Sigmoid(\\sum_{j=1}^2 w_{ij}x_j + b_i), i = 1,2,3,4,5\n",
    "$$\n",
    "\n",
    "или в матричном кратком виде: $ h = Sigmoid(W*x+b) $, или в матричном полном виде:\n",
    "$$\n",
    "\\begin{vmatrix}\n",
    "h_1 \\\\\n",
    "h_2 \\\\\n",
    "h_3 \\\\\n",
    "h_4 \\\\\n",
    "h_5\n",
    "\\end{vmatrix} \\quad = \\quad\n",
    "Sigmoid\n",
    "\\begin{pmatrix}\n",
    "\\begin{vmatrix}\n",
    "w_{11} & w_{12} \\\\\n",
    "w_{21} & w_{22} \\\\\n",
    "w_{31} & w_{32} \\\\\n",
    "w_{41} & w_{42} \\\\\n",
    "w_{51} & w_{52}\n",
    "\\end{vmatrix} *\n",
    "\\begin{vmatrix}\n",
    "x_1 \\\\\n",
    "x_2\n",
    "\\end{vmatrix} \\quad + \\quad\n",
    "\\begin{vmatrix}\n",
    "b_1 \\\\\n",
    "b_2 \\\\\n",
    "b_3 \\\\\n",
    "b_4 \\\\\n",
    "b_5\n",
    "\\end{vmatrix}\n",
    "\\end{pmatrix}\n",
    "$$"
   ]
  },
  {
   "cell_type": "code",
   "execution_count": 93,
   "id": "59e928a0-341e-477c-b160-0780c511a2c4",
   "metadata": {},
   "outputs": [
    {
     "name": "stdout",
     "output_type": "stream",
     "text": [
      "Parameter containing:\n",
      "tensor([[-0.1813,  0.2976],\n",
      "        [-0.3834, -0.6667],\n",
      "        [ 0.0850,  0.1219],\n",
      "        [-0.0224, -0.6730],\n",
      "        [-0.0621, -0.2152]], requires_grad=True)\n",
      "Parameter containing:\n",
      "tensor([-0.6006,  0.6524, -0.2373, -0.1705, -0.3541], requires_grad=True)\n"
     ]
    }
   ],
   "source": [
    "# 2-> 5\n",
    "print(u_net.fc[0].weight)\n",
    "print(u_net.fc[0].bias)"
   ]
  },
  {
   "cell_type": "code",
   "execution_count": 94,
   "id": "9f9d897e-0155-4e36-942d-b3cfe6c99c8d",
   "metadata": {},
   "outputs": [
    {
     "data": {
      "text/plain": [
       "tensor([0.3637, 0.6179, 0.4491, 0.4238, 0.4005], grad_fn=<SigmoidBackward0>)"
      ]
     },
     "execution_count": 94,
     "metadata": {},
     "output_type": "execute_result"
    }
   ],
   "source": [
    "# h = Sigmoid( W(1)x+b(1) )\n",
    "h = torch.sigmoid( u_net.fc[0].weight @ x + u_net.fc[0].bias )\n",
    "h"
   ]
  },
  {
   "cell_type": "markdown",
   "id": "b016ae05-5944-438b-805a-86e530446006",
   "metadata": {},
   "source": [
    "### 5 нейрона (1-ый внутр.слой) -> 5 нейронов (2-ый внутр.слой)\n",
    "$$\n",
    "g_i = Sigmoid(\\sum_{j=1}^5 w_{ij}h_j + b_i), i = 1,2,3,4,5\n",
    "$$\n",
    "\n",
    "или в матричном кратком виде: $ g = Sigmoid(W*h+b) $, или в матричном полном виде:\n",
    "$$\n",
    "\\begin{vmatrix}\n",
    "g_1 \\\\\n",
    "g_2 \\\\\n",
    "g_3 \\\\\n",
    "g_4 \\\\\n",
    "g_5\n",
    "\\end{vmatrix} \\quad = \\quad\n",
    "Sigmoid\n",
    "\\begin{pmatrix}\n",
    "\\begin{vmatrix}\n",
    "w_{11} & w_{12} & w_{13} & w_{14} & w_{15} \\\\\n",
    "w_{21} & w_{22} & w_{23} & w_{24} & w_{25} \\\\\n",
    "w_{31} & w_{32} & w_{33} & w_{34} & w_{35} \\\\\n",
    "w_{41} & w_{42} & w_{43} & w_{44} & w_{45} \\\\\n",
    "w_{51} & w_{52} & w_{53} & w_{54} & w_{55} \n",
    "\\end{vmatrix} *\n",
    "\\begin{vmatrix}\n",
    "h_1 \\\\\n",
    "h_2 \\\\\n",
    "h_3 \\\\\n",
    "h_4 \\\\\n",
    "h_5\n",
    "\\end{vmatrix} \\quad + \\quad\n",
    "\\begin{vmatrix}\n",
    "b_1 \\\\\n",
    "b_2 \\\\\n",
    "b_3 \\\\\n",
    "b_4 \\\\\n",
    "b_5\n",
    "\\end{vmatrix}\n",
    "\\end{pmatrix}\n",
    "$$"
   ]
  },
  {
   "cell_type": "code",
   "execution_count": 95,
   "id": "531df2ed-c8ea-4cf6-9e2c-ba50ed65f3ce",
   "metadata": {},
   "outputs": [
    {
     "name": "stdout",
     "output_type": "stream",
     "text": [
      "Parameter containing:\n",
      "tensor([[-0.1792, -0.1905,  0.4398, -0.0143, -0.3321],\n",
      "        [-0.4288,  0.0066,  0.1069,  0.3972, -0.1394],\n",
      "        [ 0.4159,  0.2898, -0.3934, -0.0343, -0.1835],\n",
      "        [ 0.2676, -0.0176, -0.3037, -0.3687, -0.4450],\n",
      "        [-0.0328, -0.0487,  0.0708, -0.2539, -0.0091]], requires_grad=True)\n",
      "Parameter containing:\n",
      "tensor([ 0.0817,  0.2742,  0.0869,  0.3496, -0.1065], requires_grad=True)\n"
     ]
    }
   ],
   "source": [
    "# 5-> 5\n",
    "print(u_net.fc[2].weight)\n",
    "print(u_net.fc[2].bias)"
   ]
  },
  {
   "cell_type": "code",
   "execution_count": 96,
   "id": "064fbc0d-b338-426d-a6b8-c35ea635bc40",
   "metadata": {},
   "outputs": [
    {
     "data": {
      "text/plain": [
       "tensor([0.4893, 0.5702, 0.5381, 0.4913, 0.4433], grad_fn=<SigmoidBackward0>)"
      ]
     },
     "execution_count": 96,
     "metadata": {},
     "output_type": "execute_result"
    }
   ],
   "source": [
    "# g = Sigmoid( W(2)h+b(2) )\n",
    "g = torch.sigmoid( u_net.fc[2].weight @ h + u_net.fc[2].bias )\n",
    "g"
   ]
  },
  {
   "cell_type": "markdown",
   "id": "1a1a980c-b802-43f4-9565-60cd23f43467",
   "metadata": {},
   "source": [
    "### 5 нейрона (2-ый внутр.слой) -> 1 нейронов (выход)\n",
    "$$\n",
    "y = \\sum_{j=1}^1 w_{ij}h_j + b_i, i = 1,2,3,4,5\n",
    "$$\n",
    "\n",
    "или в матричном кратком виде: $ y = W*g+b $, или в матричном полном виде:\n",
    "$$\n",
    "\\begin{vmatrix}\n",
    "y_1\n",
    "\\end{vmatrix} \\quad = \\quad\n",
    "\\begin{vmatrix}\n",
    "w_{11} & w_{12} & w_{13} & w_{14} & w_{15} \\\\\n",
    "\\end{vmatrix} *\n",
    "\\begin{vmatrix}\n",
    "g_1 \\\\\n",
    "g_2 \\\\\n",
    "g_3 \\\\\n",
    "g_4 \\\\\n",
    "g_5\n",
    "\\end{vmatrix} \\quad + \\quad\n",
    "\\begin{vmatrix}\n",
    "b_1\n",
    "\\end{vmatrix}\n",
    "$$\n",
    "\n",
    "Обратите внимание, что функции активации нет, но могла бы быть. "
   ]
  },
  {
   "cell_type": "code",
   "execution_count": 97,
   "id": "8f2edd52-981f-454a-9946-a696514d0ba3",
   "metadata": {},
   "outputs": [
    {
     "name": "stdout",
     "output_type": "stream",
     "text": [
      "Parameter containing:\n",
      "tensor([[-0.0460,  0.3575, -0.1763, -0.2339, -0.0839]], requires_grad=True)\n",
      "Parameter containing:\n",
      "tensor([-0.3103], requires_grad=True)\n"
     ]
    }
   ],
   "source": [
    "# 5 -> 1\n",
    "print(u_net.fc[4].weight)\n",
    "print(u_net.fc[4].bias)"
   ]
  },
  {
   "cell_type": "code",
   "execution_count": 98,
   "id": "a9f51531-2720-4965-a351-2960919620f4",
   "metadata": {},
   "outputs": [
    {
     "data": {
      "text/plain": [
       "tensor([-0.3759], grad_fn=<AddBackward0>)"
      ]
     },
     "execution_count": 98,
     "metadata": {},
     "output_type": "execute_result"
    }
   ],
   "source": [
    "# y = W(3)g+b(3)\n",
    "y = u_net.fc[4].weight @ g + u_net.fc[4].bias\n",
    "y"
   ]
  },
  {
   "cell_type": "markdown",
   "id": "ce94d001-7036-42db-8e5a-950c88e9539c",
   "metadata": {},
   "source": [
    "# Проверка вычислений"
   ]
  },
  {
   "cell_type": "code",
   "execution_count": 107,
   "id": "e9236b81-59f9-4edb-8fdb-717b29ea9bb9",
   "metadata": {},
   "outputs": [
    {
     "name": "stdout",
     "output_type": "stream",
     "text": [
      "tensor([[0.1000, 0.2000]], grad_fn=<CatBackward0>)\n"
     ]
    },
    {
     "data": {
      "text/plain": [
       "tensor([[-0.3759]], grad_fn=<AddmmBackward0>)"
      ]
     },
     "execution_count": 107,
     "metadata": {},
     "output_type": "execute_result"
    }
   ],
   "source": [
    "# придется входные данные представить немного в ином виде, т.к. в модели нейронки Unet параметры передаются\n",
    "# в пакетном batch режиме\n",
    "x2D = torch.tensor([[x[0]],], requires_grad=True)\n",
    "t2D = torch.tensor([[x[1]],], requires_grad=True)\n",
    "print(torch.cat([x2D,t2D], dim=1))\n",
    "# предсказания, на данном этапе нейронка инициализируется каким-то начальными значениями, \n",
    "# соответсвенно предсказание носит некий случайный характер в начале\n",
    "u_pred = u_net(x2D,t2D)\n",
    "u_pred"
   ]
  },
  {
   "cell_type": "code",
   "execution_count": 108,
   "id": "a6996b80-5642-444f-9231-93856d75fd1e",
   "metadata": {},
   "outputs": [
    {
     "name": "stdout",
     "output_type": "stream",
     "text": [
      "OK\n"
     ]
    }
   ],
   "source": [
    "if y == u_pred[0]:\n",
    "    print(\"OK\")\n",
    "else:\n",
    "    print(\"FAILED\")"
   ]
  },
  {
   "cell_type": "markdown",
   "id": "49c0bf2b-2466-4384-b7a3-92080fb80d93",
   "metadata": {},
   "source": [
    "# Выполняем обратных ход - пересчитываем коэффициенты нейронки\n",
    "\n",
    "Минимизируем лосс $ L_{phys} $\n",
    "\n",
    "$$\n",
    "L_{phys} = \\frac{1}{M} \\sum_{j=1}^M | \\frac{\\sigma N_u(x,t)}{\\sigma t} - \\frac{\\sigma N_k(x)}{\\sigma x}*\\frac{\\sigma N_u(x,t)}{\\sigma x} - N_k(x)*\\frac{\\sigma^2 N_u(x,t)}{\\sigma x^2} -f(x,t)) |^2\n",
    "$$"
   ]
  },
  {
   "cell_type": "markdown",
   "id": "1b9de8b5-b8e2-45ca-a83b-21f0a3831244",
   "metadata": {},
   "source": [
    "Пусть для упрощения $ N_k(x) = const=1 $ и $ f(x,t)=0 $,тогда:\n",
    "\n",
    "$$\n",
    "L_{phys} = \\frac{1}{M} \\sum_{j=1}^M | \\frac{\\sigma N_u(x,t)}{\\sigma t} - \\frac{\\sigma^2 N_u(x,t)}{\\sigma x^2}) |^2\n",
    "$$\n",
    "\n",
    "### Вычисляем частные производные\n",
    "### du/dt"
   ]
  },
  {
   "cell_type": "code",
   "execution_count": 109,
   "id": "4c78d558-300d-4afa-b13b-5150c0ab60c8",
   "metadata": {},
   "outputs": [],
   "source": [
    "optimizer = torch.optim.Adam( u_net.parameters(), lr=1e-3 )\n",
    "optimizer.zero_grad()"
   ]
  },
  {
   "cell_type": "code",
   "execution_count": 110,
   "id": "864cc20d-32bb-444e-bd04-c845d22d9349",
   "metadata": {},
   "outputs": [
    {
     "data": {
      "text/plain": [
       "tensor([[-0.0141]], grad_fn=<SliceBackward0>)"
      ]
     },
     "execution_count": 110,
     "metadata": {},
     "output_type": "execute_result"
    }
   ],
   "source": [
    "du_dt = torch.autograd.grad(u_pred, t2D, create_graph=True)[0]\n",
    "du_dt"
   ]
  },
  {
   "cell_type": "markdown",
   "id": "926a7694-ab1f-4c06-bda5-0d031c64dc15",
   "metadata": {},
   "source": [
    "### du/dx"
   ]
  },
  {
   "cell_type": "code",
   "execution_count": 111,
   "id": "b87d091a-00e0-4775-9eef-d2fb0a9b5b3b",
   "metadata": {},
   "outputs": [
    {
     "data": {
      "text/plain": [
       "tensor([[0.0037]], grad_fn=<SliceBackward0>)"
      ]
     },
     "execution_count": 111,
     "metadata": {},
     "output_type": "execute_result"
    }
   ],
   "source": [
    "du_dx = torch.autograd.grad(u_pred, x2D, create_graph=True)[0]\n",
    "du_dx"
   ]
  },
  {
   "cell_type": "markdown",
   "id": "65353410-6d0a-448f-a892-a543afce4306",
   "metadata": {},
   "source": [
    "### d2u/dx2"
   ]
  },
  {
   "cell_type": "code",
   "execution_count": 112,
   "id": "53d1515d-992f-4a32-abc2-7cfb6ceecbfe",
   "metadata": {},
   "outputs": [
    {
     "data": {
      "text/plain": [
       "tensor([[-6.2269e-05]], grad_fn=<SliceBackward0>)"
      ]
     },
     "execution_count": 112,
     "metadata": {},
     "output_type": "execute_result"
    }
   ],
   "source": [
    "d2u_dx2 = torch.autograd.grad(du_dx, x2D, create_graph=True)[0]\n",
    "d2u_dx2"
   ]
  },
  {
   "cell_type": "markdown",
   "id": "955a077f-4f7e-4e66-a1f5-e06f7e83575d",
   "metadata": {},
   "source": [
    "### Вычисляем лосс"
   ]
  },
  {
   "cell_type": "code",
   "execution_count": 114,
   "id": "1b3a81fc-3780-4abf-87fc-bb126fed455c",
   "metadata": {},
   "outputs": [],
   "source": [
    "loss_phys = torch.abs( du_dt - d2u_dx2)**2\n",
    "loss_phys.backward()"
   ]
  },
  {
   "cell_type": "code",
   "execution_count": 115,
   "id": "8cf75988-a0c3-4af3-b0c7-a0ae7b9172f0",
   "metadata": {},
   "outputs": [],
   "source": [
    "optimizer.zero_grad()"
   ]
  },
  {
   "cell_type": "code",
   "execution_count": 116,
   "id": "d774bf91-00f7-4b83-88af-56b999490673",
   "metadata": {},
   "outputs": [],
   "source": [
    "optimizer.step()"
   ]
  },
  {
   "cell_type": "markdown",
   "id": "e9cb22cd-2b2e-40e9-98a1-224a1093c9f5",
   "metadata": {},
   "source": [
    "# ПРОДОЛЖИТЬ ОТСЮДА"
   ]
  },
  {
   "cell_type": "code",
   "execution_count": 156,
   "id": "1e90863a-6ffd-489b-9a8d-8c04461e1d06",
   "metadata": {},
   "outputs": [
    {
     "data": {
      "text/plain": [
       "tensor([[0.5287, 0.0171],\n",
       "        [0.3403, 0.0095],\n",
       "        [0.2443, 0.0507],\n",
       "        [0.0586, 0.0707],\n",
       "        [0.7441, 0.0175],\n",
       "        [0.5478, 0.0367],\n",
       "        [0.2898, 0.0916],\n",
       "        [0.3746, 0.0289],\n",
       "        [0.3580, 0.0481],\n",
       "        [0.7775, 0.0632]], grad_fn=<CatBackward0>)"
      ]
     },
     "execution_count": 156,
     "metadata": {},
     "output_type": "execute_result"
    }
   ],
   "source": [
    "L=1.0\n",
    "T=0.1\n",
    "x = torch.rand(10, 1, requires_grad=True )*L\n",
    "t = torch.rand(10, 1, requires_grad=True )*T\n",
    "torch.cat([x,t], dim=1)"
   ]
  },
  {
   "cell_type": "code",
   "execution_count": 141,
   "id": "8c7e141e-9b0c-42bb-907f-c1cdeb26f911",
   "metadata": {},
   "outputs": [
    {
     "data": {
      "text/plain": [
       "tensor([[0.1497],\n",
       "        [0.1480],\n",
       "        [0.1489],\n",
       "        [0.1476],\n",
       "        [0.1481],\n",
       "        [0.1469],\n",
       "        [0.1492],\n",
       "        [0.1489],\n",
       "        [0.1475],\n",
       "        [0.1472]], grad_fn=<AddmmBackward0>)"
      ]
     },
     "execution_count": 141,
     "metadata": {},
     "output_type": "execute_result"
    }
   ],
   "source": [
    "# предсказания u\n",
    "u_pred = u_net(x,t)\n",
    "u_pred"
   ]
  },
  {
   "cell_type": "code",
   "execution_count": 142,
   "id": "baff80b1-3c37-4b09-b02e-c5e793f352db",
   "metadata": {},
   "outputs": [
    {
     "name": "stdout",
     "output_type": "stream",
     "text": [
      "Parameter containing:\n",
      "tensor([[ 0.5721, -0.4791],\n",
      "        [-0.2451, -0.2255],\n",
      "        [-0.0775, -0.6565],\n",
      "        [ 0.2754, -0.5267],\n",
      "        [-0.2110, -0.6138]], requires_grad=True)\n",
      "Parameter containing:\n",
      "tensor([ 0.5869, -0.6385, -0.6661, -0.0092, -0.4487], requires_grad=True)\n"
     ]
    }
   ],
   "source": [
    "print(u_net.fc[0].weight)\n",
    "print(u_net.fc[0].bias)"
   ]
  },
  {
   "cell_type": "code",
   "execution_count": 143,
   "id": "4a4a2e6a-9cea-4082-b6b1-ab90f83c5075",
   "metadata": {},
   "outputs": [
    {
     "data": {
      "text/plain": [
       "tensor([[0.7311, 0.8808],\n",
       "        [0.9526, 0.9820]])"
      ]
     },
     "execution_count": 143,
     "metadata": {},
     "output_type": "execute_result"
    }
   ],
   "source": [
    "sig = nn.Sigmoid()\n",
    "sig(torch.tensor([[1.0, 2.0],[3., 4.]]))"
   ]
  },
  {
   "cell_type": "code",
   "execution_count": 144,
   "id": "476c5cb0-5de1-4d2e-b3a9-f24345828e91",
   "metadata": {},
   "outputs": [],
   "source": [
    "optimizer = torch.optim.Adam( u_net.parameters(), lr=1e-3 )\n",
    "optimizer.zero_grad()"
   ]
  },
  {
   "cell_type": "code",
   "execution_count": 145,
   "id": "69e75c9d-17f1-4412-8660-8f62478fd031",
   "metadata": {},
   "outputs": [
    {
     "name": "stderr",
     "output_type": "stream",
     "text": [
      "/home/kimve/.local/lib/python3.10/site-packages/torch/autograd/graph.py:824: UserWarning: CUDA initialization: The NVIDIA driver on your system is too old (found version 9010). Please update your GPU driver by downloading and installing a new version from the URL: http://www.nvidia.com/Download/index.aspx Alternatively, go to: https://pytorch.org to install a PyTorch version that has been compiled with your version of the CUDA driver. (Triggered internally at /pytorch/c10/cuda/CUDAFunctions.cpp:109.)\n",
      "  return Variable._execution_engine.run_backward(  # Calls into the C++ engine to run the backward pass\n"
     ]
    },
    {
     "data": {
      "text/plain": [
       "tensor([[-0.0115],\n",
       "        [-0.0118],\n",
       "        [-0.0118],\n",
       "        [-0.0121],\n",
       "        [-0.0121],\n",
       "        [-0.0121],\n",
       "        [-0.0113],\n",
       "        [-0.0114],\n",
       "        [-0.0120],\n",
       "        [-0.0122]], grad_fn=<SliceBackward0>)"
      ]
     },
     "execution_count": 145,
     "metadata": {},
     "output_type": "execute_result"
    }
   ],
   "source": [
    "du_dt = torch.autograd.grad(u_pred, t, grad_outputs=torch.ones_like(t), create_graph=True)[0]\n",
    "du_dt"
   ]
  },
  {
   "cell_type": "code",
   "execution_count": 146,
   "id": "4f6e731f-a707-4e60-988b-0b907a1dbb79",
   "metadata": {},
   "outputs": [
    {
     "data": {
      "text/plain": [
       "tensor([[0.0022],\n",
       "        [0.0025],\n",
       "        [0.0024],\n",
       "        [0.0027],\n",
       "        [0.0026],\n",
       "        [0.0027],\n",
       "        [0.0022],\n",
       "        [0.0022],\n",
       "        [0.0026],\n",
       "        [0.0027]], grad_fn=<SliceBackward0>)"
      ]
     },
     "execution_count": 146,
     "metadata": {},
     "output_type": "execute_result"
    }
   ],
   "source": [
    "du_dx = torch.autograd.grad(u_pred, x, grad_outputs=torch.ones_like(x), create_graph=True)[0]\n",
    "du_dx"
   ]
  },
  {
   "cell_type": "code",
   "execution_count": 147,
   "id": "fc4f8f39-99b7-4ae8-9ea4-c3841a0ff281",
   "metadata": {},
   "outputs": [
    {
     "data": {
      "text/plain": [
       "tensor([[-0.0008],\n",
       "        [-0.0007],\n",
       "        [-0.0007],\n",
       "        [-0.0005],\n",
       "        [-0.0006],\n",
       "        [-0.0005],\n",
       "        [-0.0008],\n",
       "        [-0.0008],\n",
       "        [-0.0006],\n",
       "        [-0.0005]], grad_fn=<SliceBackward0>)"
      ]
     },
     "execution_count": 147,
     "metadata": {},
     "output_type": "execute_result"
    }
   ],
   "source": [
    "d2u_dx2 = torch.autograd.grad(du_dx, x, grad_outputs=torch.ones_like(x), create_graph=True)[0]\n",
    "d2u_dx2"
   ]
  },
  {
   "cell_type": "markdown",
   "id": "84e2ee68-8edb-4ecb-806c-912507e237d7",
   "metadata": {},
   "source": [
    "$$\n",
    "L_{phys} = \\frac{1}{M} \\sum_{j=1}^M | \\frac{\\sigma N_u(x,t)}{\\sigma t} - \\frac{\\sigma^2 N_u(x,t)}{\\sigma x^2} |^2\n",
    "$$"
   ]
  },
  {
   "cell_type": "code",
   "execution_count": 148,
   "id": "593cc2ec-d8d0-42d2-93b0-9e9a4e470ff6",
   "metadata": {},
   "outputs": [
    {
     "data": {
      "text/plain": [
       "tensor(0.0001, grad_fn=<PowBackward0>)"
      ]
     },
     "execution_count": 148,
     "metadata": {},
     "output_type": "execute_result"
    }
   ],
   "source": [
    "loss_phys = torch.mean(du_dt - d2u_dx2)**2\n",
    "loss_phys"
   ]
  },
  {
   "cell_type": "code",
   "execution_count": 149,
   "id": "99cc69bb-b5f6-41a2-b0a6-9049000dc932",
   "metadata": {},
   "outputs": [],
   "source": [
    "optimizer.zero_grad()"
   ]
  },
  {
   "cell_type": "code",
   "execution_count": 150,
   "id": "a89c6646-1785-43ad-842e-f61712506f71",
   "metadata": {},
   "outputs": [
    {
     "data": {
      "text/plain": [
       "tensor(0.0001, grad_fn=<PowBackward0>)"
      ]
     },
     "execution_count": 150,
     "metadata": {},
     "output_type": "execute_result"
    }
   ],
   "source": [
    "loss_phys.backward()\n",
    "loss_phys"
   ]
  },
  {
   "cell_type": "code",
   "execution_count": 151,
   "id": "7447c881-e02a-4ace-b4c6-8d5b30cd2d76",
   "metadata": {},
   "outputs": [],
   "source": [
    "optimizer.step()"
   ]
  },
  {
   "cell_type": "code",
   "execution_count": 152,
   "id": "eb825a18-0643-42fe-b682-5e821a53003a",
   "metadata": {},
   "outputs": [
    {
     "data": {
      "text/plain": [
       "tensor(0.0001, grad_fn=<PowBackward0>)"
      ]
     },
     "execution_count": 152,
     "metadata": {},
     "output_type": "execute_result"
    }
   ],
   "source": [
    "loss_phys"
   ]
  },
  {
   "cell_type": "code",
   "execution_count": 153,
   "id": "9f02d6d6-1cf4-44cf-8542-df70644e7cfc",
   "metadata": {},
   "outputs": [
    {
     "name": "stdout",
     "output_type": "stream",
     "text": [
      "Parameter containing:\n",
      "tensor([[ 0.5731, -0.4781],\n",
      "        [-0.2441, -0.2245],\n",
      "        [-0.0785, -0.6555],\n",
      "        [ 0.2764, -0.5257],\n",
      "        [-0.2100, -0.6128]], requires_grad=True)\n",
      "Parameter containing:\n",
      "tensor([ 0.5879, -0.6395, -0.6671, -0.0082, -0.4497], requires_grad=True)\n"
     ]
    }
   ],
   "source": [
    "print(u_net.fc[0].weight)\n",
    "print(u_net.fc[0].bias)"
   ]
  },
  {
   "cell_type": "code",
   "execution_count": null,
   "id": "bcc9ac46-8b77-4801-93c4-931dd8aa423b",
   "metadata": {},
   "outputs": [],
   "source": []
  },
  {
   "cell_type": "code",
   "execution_count": null,
   "id": "cc414de8-d513-45a7-b3ba-6db2e65727a9",
   "metadata": {},
   "outputs": [],
   "source": []
  },
  {
   "cell_type": "code",
   "execution_count": null,
   "id": "5ae87e0d-e415-492d-9745-b1e8dffc3e05",
   "metadata": {},
   "outputs": [],
   "source": []
  }
 ],
 "metadata": {
  "kernelspec": {
   "display_name": "Python 3 (ipykernel)",
   "language": "python",
   "name": "python3"
  },
  "language_info": {
   "codemirror_mode": {
    "name": "ipython",
    "version": 3
   },
   "file_extension": ".py",
   "mimetype": "text/x-python",
   "name": "python",
   "nbconvert_exporter": "python",
   "pygments_lexer": "ipython3",
   "version": "3.10.12"
  }
 },
 "nbformat": 4,
 "nbformat_minor": 5
}
