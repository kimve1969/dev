{
 "cells": [
  {
   "cell_type": "code",
   "execution_count": 3,
   "id": "814b5ccc-f057-4d73-b23d-d94350c0cf0c",
   "metadata": {},
   "outputs": [
    {
     "data": {
      "text/plain": [
       "tensor([0.6923, 0.2134, 0.0577, 0.5376, 0.1460, 0.0481, 0.6336, 0.6861, 0.5599,\n",
       "        0.7659])"
      ]
     },
     "execution_count": 3,
     "metadata": {},
     "output_type": "execute_result"
    }
   ],
   "source": [
    "import torch\n",
    "\n",
    "A = torch.rand(10,10)\n",
    "A"
   ]
  },
  {
   "cell_type": "code",
   "execution_count": null,
   "id": "6db95b1b-07a9-4d2a-b409-5ffa8118ae0e",
   "metadata": {},
   "outputs": [],
   "source": [
    "b = torch.rand(10)\n",
    "b"
   ]
  }
 ],
 "metadata": {
  "kernelspec": {
   "display_name": "Python 3 (ipykernel)",
   "language": "python",
   "name": "python3"
  },
  "language_info": {
   "codemirror_mode": {
    "name": "ipython",
    "version": 3
   },
   "file_extension": ".py",
   "mimetype": "text/x-python",
   "name": "python",
   "nbconvert_exporter": "python",
   "pygments_lexer": "ipython3",
   "version": "3.10.12"
  }
 },
 "nbformat": 4,
 "nbformat_minor": 5
}
