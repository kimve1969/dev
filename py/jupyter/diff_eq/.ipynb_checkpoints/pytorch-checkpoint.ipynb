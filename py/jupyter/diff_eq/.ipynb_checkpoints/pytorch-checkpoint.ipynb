{
 "cells": [
  {
   "cell_type": "markdown",
   "id": "a1bb1235-b370-4c10-aef8-f234c7b7d08b",
   "metadata": {},
   "source": [
    "# Tensors"
   ]
  },
  {
   "cell_type": "code",
   "execution_count": 155,
   "id": "37b5c92b-115e-4643-b1a0-40ef54d1f72f",
   "metadata": {},
   "outputs": [
    {
     "name": "stdout",
     "output_type": "stream",
     "text": [
      "tensor([[1., 2.],\n",
      "        [3., 4.]])\n",
      "tensor([5., 6.])\n"
     ]
    }
   ],
   "source": [
    "import torch\n",
    "\n",
    "A = torch.tensor([[1.0, 2],[3,4]])\n",
    "b = torch.tensor([5.,6])\n",
    "\n",
    "print(A)\n",
    "print(b)"
   ]
  },
  {
   "cell_type": "markdown",
   "id": "a0c6fcca-4303-42cd-a51a-0f010908b26d",
   "metadata": {},
   "source": [
    "$$\n",
    "A*x=b, => x=A^{-1}*b\n",
    "$$"
   ]
  },
  {
   "cell_type": "code",
   "execution_count": 156,
   "id": "1f0c1513-bbb5-45ff-beb5-de17eec2e4e4",
   "metadata": {},
   "outputs": [
    {
     "data": {
      "text/plain": [
       "tensor([-4.0000,  4.5000])"
      ]
     },
     "execution_count": 156,
     "metadata": {},
     "output_type": "execute_result"
    }
   ],
   "source": [
    "A_inv = torch.inverse(A)\n",
    "\n",
    "# torch.linalg.matmul(A_inv, A)\n",
    "x = torch.linalg.matmul(A_inv,b)\n",
    "x"
   ]
  },
  {
   "cell_type": "code",
   "execution_count": 157,
   "id": "d3a3f1af-17c5-47ad-8a40-81164e16bd7b",
   "metadata": {},
   "outputs": [
    {
     "data": {
      "text/plain": [
       "tensor([-4.0000,  4.5000])"
      ]
     },
     "execution_count": 157,
     "metadata": {},
     "output_type": "execute_result"
    }
   ],
   "source": [
    "torch.linalg.solve(A,b)"
   ]
  },
  {
   "cell_type": "code",
   "execution_count": 158,
   "id": "2de38249-72fd-4278-b36a-4eab2f2c4d74",
   "metadata": {},
   "outputs": [
    {
     "data": {
      "text/plain": [
       "tensor([0., 0.])"
      ]
     },
     "execution_count": 158,
     "metadata": {},
     "output_type": "execute_result"
    }
   ],
   "source": [
    "# checkup\n",
    "torch.linalg.matmul(A,x) - b"
   ]
  },
  {
   "cell_type": "code",
   "execution_count": 159,
   "id": "a46f4e31-2e7b-4279-9073-0f9638226b1b",
   "metadata": {},
   "outputs": [
    {
     "data": {
      "text/plain": [
       "tensor([1., 3.])"
      ]
     },
     "execution_count": 159,
     "metadata": {},
     "output_type": "execute_result"
    }
   ],
   "source": [
    "A[:,0]"
   ]
  },
  {
   "cell_type": "code",
   "execution_count": 160,
   "id": "7d701222-1552-4e94-9fc7-c67ea5423190",
   "metadata": {},
   "outputs": [
    {
     "data": {
      "text/plain": [
       "tensor([3., 4.])"
      ]
     },
     "execution_count": 160,
     "metadata": {},
     "output_type": "execute_result"
    }
   ],
   "source": [
    "A[1,:]"
   ]
  },
  {
   "cell_type": "code",
   "execution_count": 161,
   "id": "201733f2-c161-4a86-b30f-b29b630f952e",
   "metadata": {},
   "outputs": [
    {
     "data": {
      "text/plain": [
       "tensor([4.])"
      ]
     },
     "execution_count": 161,
     "metadata": {},
     "output_type": "execute_result"
    }
   ],
   "source": [
    "A[A>3]"
   ]
  },
  {
   "cell_type": "code",
   "execution_count": 162,
   "id": "928f7910-5987-402c-b7e5-1b2557193fde",
   "metadata": {},
   "outputs": [
    {
     "data": {
      "text/plain": [
       "tensor([[ 1.,  6.],\n",
       "        [ 6., 16.]])"
      ]
     },
     "execution_count": 162,
     "metadata": {},
     "output_type": "execute_result"
    }
   ],
   "source": [
    "A*A.T"
   ]
  },
  {
   "cell_type": "markdown",
   "id": "0faa9612-6f77-4d3f-a691-9886a2fe3c02",
   "metadata": {},
   "source": [
    "# Autogradient"
   ]
  },
  {
   "cell_type": "markdown",
   "id": "555a4c4f-5291-4a69-9a8f-fd7b34ba598e",
   "metadata": {},
   "source": [
    "$$\n",
    "\\begin{align}\n",
    "Q=3*a^{3}-b^{2} \\\\\n",
    "\\frac{\\partial Q}{\\partial a}=9*a^2 \\\\\n",
    "\\frac{\\partial Q}{\\partial b}=-2*b\n",
    "\\end{align}\n",
    "$$"
   ]
  },
  {
   "cell_type": "markdown",
   "id": "f0c034ab-2d95-44b8-b71a-e330c31d4f65",
   "metadata": {},
   "source": [
    "## use .backward(), if output only csalar"
   ]
  },
  {
   "cell_type": "code",
   "execution_count": 9,
   "id": "c9b1a654-b71b-497e-80d3-4467fff5bef8",
   "metadata": {},
   "outputs": [],
   "source": [
    "import torch\n",
    "\n",
    "a = torch.tensor([1.], requires_grad=True)\n",
    "b = torch.tensor([4.], requires_grad=True)\n",
    "\n",
    "Q = 3*a**3 - b**2"
   ]
  },
  {
   "cell_type": "code",
   "execution_count": 10,
   "id": "7f194f27-8833-4431-bc24-2ce5dff1d775",
   "metadata": {},
   "outputs": [],
   "source": [
    "Q.backward()"
   ]
  },
  {
   "cell_type": "code",
   "execution_count": 11,
   "id": "711dc967-f2dd-4321-ad45-f2cbce6208cd",
   "metadata": {},
   "outputs": [
    {
     "data": {
      "text/plain": [
       "tensor([9.])"
      ]
     },
     "execution_count": 11,
     "metadata": {},
     "output_type": "execute_result"
    }
   ],
   "source": [
    "a.grad"
   ]
  },
  {
   "cell_type": "code",
   "execution_count": 12,
   "id": "cd83b94c-1952-4509-9f96-0e5b962b5fb8",
   "metadata": {},
   "outputs": [
    {
     "data": {
      "text/plain": [
       "tensor([-8.])"
      ]
     },
     "execution_count": 12,
     "metadata": {},
     "output_type": "execute_result"
    }
   ],
   "source": [
    "b.grad"
   ]
  },
  {
   "cell_type": "markdown",
   "id": "4d423ff3-78b7-42b8-b9de-67bbd6561eff",
   "metadata": {},
   "source": [
    "## use .grad(), if output may be vector or matrix"
   ]
  },
  {
   "cell_type": "code",
   "execution_count": 5,
   "id": "7f317228-5c82-4395-bcc1-789dbba4edac",
   "metadata": {},
   "outputs": [
    {
     "name": "stdout",
     "output_type": "stream",
     "text": [
      "tensor([[1., 2.],\n",
      "        [3., 4.]], requires_grad=True)\n",
      "tensor([[4., 5.],\n",
      "        [6., 7.]], requires_grad=True)\n",
      "tensor([[-13.,  -1.],\n",
      "        [ 45., 143.]], grad_fn=<SubBackward0>)\n"
     ]
    }
   ],
   "source": [
    "import torch\n",
    "\n",
    "a = torch.tensor([[1.,2.],[3.,4.]], requires_grad=True)\n",
    "b = torch.tensor([[4.,5.],[6.,7.]], requires_grad=True)\n",
    "\n",
    "Q = 3*a**3 - b**2\n",
    "print(a)\n",
    "print(b)\n",
    "print(Q)"
   ]
  },
  {
   "cell_type": "code",
   "execution_count": 6,
   "id": "16c5293d-7120-4652-a8a0-91a61d128a0b",
   "metadata": {},
   "outputs": [
    {
     "data": {
      "text/plain": [
       "tensor([[1., 1.],\n",
       "        [1., 1.]])"
      ]
     },
     "execution_count": 6,
     "metadata": {},
     "output_type": "execute_result"
    }
   ],
   "source": [
    "torch.ones_like(a)"
   ]
  },
  {
   "cell_type": "code",
   "execution_count": 7,
   "id": "beacc083-5313-4cad-b781-2588db252287",
   "metadata": {},
   "outputs": [],
   "source": [
    "# calc gradient Q as matrix dQ/da with coeficient 1\n",
    "dQ_da = torch.autograd.grad(Q, a, grad_outputs=torch.ones_like(a), create_graph=True)"
   ]
  },
  {
   "cell_type": "code",
   "execution_count": 8,
   "id": "d6922df9-cdde-4d0e-b78d-82ddb3fdb8bb",
   "metadata": {},
   "outputs": [
    {
     "data": {
      "text/plain": [
       "(tensor([[  9.,  36.],\n",
       "         [ 81., 144.]], grad_fn=<MulBackward0>),)"
      ]
     },
     "execution_count": 8,
     "metadata": {},
     "output_type": "execute_result"
    }
   ],
   "source": [
    "dQ_da"
   ]
  },
  {
   "cell_type": "code",
   "execution_count": 9,
   "id": "c3fd8fdf-965d-4fa2-8c39-2498fd0a548d",
   "metadata": {},
   "outputs": [],
   "source": [
    "dQ_db = torch.autograd.grad(Q, b, grad_outputs=torch.ones_like(b))"
   ]
  },
  {
   "cell_type": "code",
   "execution_count": 10,
   "id": "df52309e-ddf9-43a9-918b-ee0edfce81c6",
   "metadata": {},
   "outputs": [
    {
     "data": {
      "text/plain": [
       "(tensor([[ -8., -10.],\n",
       "         [-12., -14.]]),)"
      ]
     },
     "execution_count": 10,
     "metadata": {},
     "output_type": "execute_result"
    }
   ],
   "source": [
    "dQ_db"
   ]
  },
  {
   "cell_type": "code",
   "execution_count": 11,
   "id": "8436b93d-3360-42e1-8dec-c39936ef8ffe",
   "metadata": {},
   "outputs": [],
   "source": [
    "# d^2Q/da^2\n",
    "d2Q_da2 = torch.autograd.grad(dQ_da, a, grad_outputs=torch.ones_like(a))"
   ]
  },
  {
   "cell_type": "code",
   "execution_count": 12,
   "id": "de191186-8822-4827-8ee2-2e711ce282f2",
   "metadata": {},
   "outputs": [
    {
     "data": {
      "text/plain": [
       "(tensor([[18., 36.],\n",
       "         [54., 72.]]),)"
      ]
     },
     "execution_count": 12,
     "metadata": {},
     "output_type": "execute_result"
    }
   ],
   "source": [
    "d2Q_da2"
   ]
  },
  {
   "cell_type": "markdown",
   "id": "a3b7905c-3eb8-4df4-8c3a-f650e727c719",
   "metadata": {},
   "source": [
    "## Checkup"
   ]
  },
  {
   "cell_type": "code",
   "execution_count": 13,
   "id": "710f706c-bfe9-4d50-a6f7-04fcca628fa9",
   "metadata": {},
   "outputs": [
    {
     "data": {
      "text/latex": [
       "$\\displaystyle 9 x^{2}$"
      ],
      "text/plain": [
       "9*x**2"
      ]
     },
     "execution_count": 13,
     "metadata": {},
     "output_type": "execute_result"
    }
   ],
   "source": [
    "from sympy import symbols, diff\n",
    "\n",
    "x = symbols('x')\n",
    "y = symbols('y')\n",
    "\n",
    "W = 3*x**3 - y**2\n",
    "dW_dx = diff(W,x)\n",
    "dW_dx"
   ]
  },
  {
   "cell_type": "code",
   "execution_count": 14,
   "id": "1b3bac85-652b-4680-8cd4-9c973862df3c",
   "metadata": {},
   "outputs": [
    {
     "data": {
      "text/latex": [
       "$\\displaystyle - 2 y$"
      ],
      "text/plain": [
       "-2*y"
      ]
     },
     "execution_count": 14,
     "metadata": {},
     "output_type": "execute_result"
    }
   ],
   "source": [
    "dW_dy = diff(W,y)\n",
    "dW_dy"
   ]
  },
  {
   "cell_type": "code",
   "execution_count": 15,
   "id": "0461ae58-3e8f-4902-a660-36bd2e097e2c",
   "metadata": {},
   "outputs": [
    {
     "data": {
      "text/latex": [
       "$\\displaystyle 9.0$"
      ],
      "text/plain": [
       "9.00000000000000"
      ]
     },
     "execution_count": 15,
     "metadata": {},
     "output_type": "execute_result"
    }
   ],
   "source": [
    "dW_dx.subs({x: 1.})"
   ]
  },
  {
   "cell_type": "code",
   "execution_count": 16,
   "id": "142d133a-8efd-4265-be91-de935807e87d",
   "metadata": {},
   "outputs": [
    {
     "data": {
      "text/latex": [
       "$\\displaystyle -8.0$"
      ],
      "text/plain": [
       "-8.00000000000000"
      ]
     },
     "execution_count": 16,
     "metadata": {},
     "output_type": "execute_result"
    }
   ],
   "source": [
    "dW_dy.subs({y: 4.})"
   ]
  },
  {
   "cell_type": "markdown",
   "id": "355c1a36-276b-4007-b5b7-8c3ef03ba437",
   "metadata": {},
   "source": [
    "## Jacobian"
   ]
  },
  {
   "cell_type": "markdown",
   "id": "d9dccdaa-4e8a-4008-9aef-0c2f8f9569b4",
   "metadata": {},
   "source": [
    "## use torch.autograd.grad()"
   ]
  },
  {
   "cell_type": "code",
   "execution_count": 77,
   "id": "3ea1b0bd-1f3e-43d3-8218-f4766c915905",
   "metadata": {},
   "outputs": [
    {
     "data": {
      "text/plain": [
       "tensor([9., 5.], grad_fn=<StackBackward0>)"
      ]
     },
     "execution_count": 77,
     "metadata": {},
     "output_type": "execute_result"
    }
   ],
   "source": [
    "import torch\n",
    "\n",
    "x = torch.tensor([1.,2.], requires_grad=True)\n",
    "z = torch.stack([ x[0]**2 + x[1]**3, x[0]**3 + x[1]**2])\n",
    "z"
   ]
  },
  {
   "cell_type": "code",
   "execution_count": 71,
   "id": "76df97f7-cfaf-4e54-a719-1741d5c45463",
   "metadata": {},
   "outputs": [
    {
     "name": "stdout",
     "output_type": "stream",
     "text": [
      "tensor([[ 2., 12.],\n",
      "        [ 3.,  4.]], grad_fn=<CopySlices>)\n"
     ]
    }
   ],
   "source": [
    "# jacobian\n",
    "# dz0/dx0 = 2*x[0]     dz0/dx1 = 3*x[1]**2\n",
    "# dz1/dx0 = 3*x[0]**2  dz1/dx1 = 2*x[1]\n",
    "\n",
    "jacobian = torch.zeros( z.shape[0], x.shape[0] )\n",
    "\n",
    "for i in range( z.shape[0] ):\n",
    "    jacobian[i] = torch.autograd.grad( outputs=z[i], inputs=x, create_graph=True)[0]\n",
    "\n",
    "print(jacobian)"
   ]
  },
  {
   "cell_type": "markdown",
   "id": "fadeb9d2-7943-4ff4-af33-5b5d3af92314",
   "metadata": {},
   "source": [
    "# use toch.autograd.functional.jacobian()"
   ]
  },
  {
   "cell_type": "code",
   "execution_count": 13,
   "id": "11823402-3e35-488c-b5c1-375c1d215005",
   "metadata": {},
   "outputs": [],
   "source": [
    "import torch\n",
    "from torch.autograd.functional import jacobian\n",
    "\n",
    "x = torch.tensor([1.,2.], requires_grad=True)\n",
    "z = torch.stack([ x[0]**2 + x[1]**3, x[0]**3 + x[1]**2])\n",
    "\n",
    "def jac(x):\n",
    "    return torch.stack([ x[0]**2 + x[1]**3, x[0]**3 + x[1]**2])"
   ]
  },
  {
   "cell_type": "code",
   "execution_count": 14,
   "id": "07e08feb-ac65-4cdd-be2b-eb822753363c",
   "metadata": {},
   "outputs": [
    {
     "data": {
      "text/plain": [
       "tensor([[ 2., 12.],\n",
       "        [ 3.,  4.]], grad_fn=<ViewBackward0>)"
      ]
     },
     "execution_count": 14,
     "metadata": {},
     "output_type": "execute_result"
    }
   ],
   "source": [
    "jacobian( func=jac, inputs=x, create_graph=True)"
   ]
  },
  {
   "cell_type": "code",
   "execution_count": null,
   "id": "05b944f1-3d95-4d85-8d9b-8487d2dd9216",
   "metadata": {},
   "outputs": [],
   "source": []
  }
 ],
 "metadata": {
  "kernelspec": {
   "display_name": "Python 3 (ipykernel)",
   "language": "python",
   "name": "python3"
  },
  "language_info": {
   "codemirror_mode": {
    "name": "ipython",
    "version": 3
   },
   "file_extension": ".py",
   "mimetype": "text/x-python",
   "name": "python",
   "nbconvert_exporter": "python",
   "pygments_lexer": "ipython3",
   "version": "3.10.12"
  }
 },
 "nbformat": 4,
 "nbformat_minor": 5
}
