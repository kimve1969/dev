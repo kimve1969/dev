{
 "cells": [
  {
   "cell_type": "markdown",
   "id": "a1bb1235-b370-4c10-aef8-f234c7b7d08b",
   "metadata": {},
   "source": [
    "# Tensors"
   ]
  },
  {
   "cell_type": "code",
   "execution_count": 1,
   "id": "37b5c92b-115e-4643-b1a0-40ef54d1f72f",
   "metadata": {},
   "outputs": [
    {
     "name": "stdout",
     "output_type": "stream",
     "text": [
      "tensor([[1., 2.],\n",
      "        [3., 4.]])\n",
      "tensor([5., 6.])\n"
     ]
    }
   ],
   "source": [
    "import torch\n",
    "\n",
    "A = torch.tensor([[1.0, 2],[3,4]])\n",
    "b = torch.tensor([5.,6])\n",
    "\n",
    "print(A)\n",
    "print(b)"
   ]
  },
  {
   "cell_type": "markdown",
   "id": "a0c6fcca-4303-42cd-a51a-0f010908b26d",
   "metadata": {},
   "source": [
    "$$\n",
    "A*x=b, => x=A^{-1}*b\n",
    "$$"
   ]
  },
  {
   "cell_type": "code",
   "execution_count": 2,
   "id": "1f0c1513-bbb5-45ff-beb5-de17eec2e4e4",
   "metadata": {},
   "outputs": [
    {
     "data": {
      "text/plain": [
       "tensor([-4.0000,  4.5000])"
      ]
     },
     "execution_count": 2,
     "metadata": {},
     "output_type": "execute_result"
    }
   ],
   "source": [
    "A_inv = torch.inverse(A)\n",
    "\n",
    "# torch.linalg.matmul(A_inv, A)\n",
    "x = torch.linalg.matmul(A_inv,b)\n",
    "x"
   ]
  },
  {
   "cell_type": "code",
   "execution_count": 3,
   "id": "d3a3f1af-17c5-47ad-8a40-81164e16bd7b",
   "metadata": {},
   "outputs": [
    {
     "data": {
      "text/plain": [
       "tensor([-4.0000,  4.5000])"
      ]
     },
     "execution_count": 3,
     "metadata": {},
     "output_type": "execute_result"
    }
   ],
   "source": [
    "torch.linalg.solve(A,b)"
   ]
  },
  {
   "cell_type": "code",
   "execution_count": 4,
   "id": "2de38249-72fd-4278-b36a-4eab2f2c4d74",
   "metadata": {},
   "outputs": [
    {
     "data": {
      "text/plain": [
       "tensor([0., 0.])"
      ]
     },
     "execution_count": 4,
     "metadata": {},
     "output_type": "execute_result"
    }
   ],
   "source": [
    "# checkup\n",
    "torch.linalg.matmul(A,x) - b"
   ]
  },
  {
   "cell_type": "code",
   "execution_count": 5,
   "id": "a46f4e31-2e7b-4279-9073-0f9638226b1b",
   "metadata": {},
   "outputs": [
    {
     "data": {
      "text/plain": [
       "tensor([1., 3.])"
      ]
     },
     "execution_count": 5,
     "metadata": {},
     "output_type": "execute_result"
    }
   ],
   "source": [
    "A[:,0]"
   ]
  },
  {
   "cell_type": "code",
   "execution_count": 6,
   "id": "7d701222-1552-4e94-9fc7-c67ea5423190",
   "metadata": {},
   "outputs": [
    {
     "data": {
      "text/plain": [
       "tensor([3., 4.])"
      ]
     },
     "execution_count": 6,
     "metadata": {},
     "output_type": "execute_result"
    }
   ],
   "source": [
    "A[1,:]"
   ]
  },
  {
   "cell_type": "code",
   "execution_count": 7,
   "id": "201733f2-c161-4a86-b30f-b29b630f952e",
   "metadata": {},
   "outputs": [
    {
     "data": {
      "text/plain": [
       "tensor([4.])"
      ]
     },
     "execution_count": 7,
     "metadata": {},
     "output_type": "execute_result"
    }
   ],
   "source": [
    "A[A>3]"
   ]
  },
  {
   "cell_type": "code",
   "execution_count": 8,
   "id": "928f7910-5987-402c-b7e5-1b2557193fde",
   "metadata": {},
   "outputs": [
    {
     "data": {
      "text/plain": [
       "tensor([[ 1.,  6.],\n",
       "        [ 6., 16.]])"
      ]
     },
     "execution_count": 8,
     "metadata": {},
     "output_type": "execute_result"
    }
   ],
   "source": [
    "A*A.T"
   ]
  },
  {
   "cell_type": "markdown",
   "id": "0faa9612-6f77-4d3f-a691-9886a2fe3c02",
   "metadata": {},
   "source": [
    "# Autogradient"
   ]
  },
  {
   "cell_type": "markdown",
   "id": "555a4c4f-5291-4a69-9a8f-fd7b34ba598e",
   "metadata": {},
   "source": [
    "$$\n",
    "\\begin{align}\n",
    "Q=3*a^{3}-b^{2} \\\\\n",
    "\\frac{\\partial Q}{\\partial a}=9*a^2 \\\\\n",
    "\\frac{\\partial Q}{\\partial b}=-2*b\n",
    "\\end{align}\n",
    "$$"
   ]
  },
  {
   "cell_type": "markdown",
   "id": "f0c034ab-2d95-44b8-b71a-e330c31d4f65",
   "metadata": {},
   "source": [
    "## use .backward(), if output only csalar"
   ]
  },
  {
   "cell_type": "code",
   "execution_count": 1,
   "id": "c9b1a654-b71b-497e-80d3-4467fff5bef8",
   "metadata": {},
   "outputs": [],
   "source": [
    "import torch\n",
    "\n",
    "a = torch.tensor([1.], requires_grad=True)\n",
    "b = torch.tensor([4.], requires_grad=True)\n",
    "\n",
    "Q = 3*a**3 - b**2"
   ]
  },
  {
   "cell_type": "code",
   "execution_count": 2,
   "id": "7f194f27-8833-4431-bc24-2ce5dff1d775",
   "metadata": {},
   "outputs": [
    {
     "name": "stderr",
     "output_type": "stream",
     "text": [
      "/home/kimve/.local/lib/python3.10/site-packages/torch/autograd/graph.py:824: UserWarning: CUDA initialization: The NVIDIA driver on your system is too old (found version 9010). Please update your GPU driver by downloading and installing a new version from the URL: http://www.nvidia.com/Download/index.aspx Alternatively, go to: https://pytorch.org to install a PyTorch version that has been compiled with your version of the CUDA driver. (Triggered internally at /pytorch/c10/cuda/CUDAFunctions.cpp:109.)\n",
      "  return Variable._execution_engine.run_backward(  # Calls into the C++ engine to run the backward pass\n"
     ]
    }
   ],
   "source": [
    "Q.backward()"
   ]
  },
  {
   "cell_type": "code",
   "execution_count": 3,
   "id": "711dc967-f2dd-4321-ad45-f2cbce6208cd",
   "metadata": {},
   "outputs": [
    {
     "data": {
      "text/plain": [
       "tensor([9.])"
      ]
     },
     "execution_count": 3,
     "metadata": {},
     "output_type": "execute_result"
    }
   ],
   "source": [
    "a.grad"
   ]
  },
  {
   "cell_type": "code",
   "execution_count": 4,
   "id": "cd83b94c-1952-4509-9f96-0e5b962b5fb8",
   "metadata": {},
   "outputs": [
    {
     "data": {
      "text/plain": [
       "tensor([-8.])"
      ]
     },
     "execution_count": 4,
     "metadata": {},
     "output_type": "execute_result"
    }
   ],
   "source": [
    "b.grad"
   ]
  },
  {
   "cell_type": "markdown",
   "id": "4d423ff3-78b7-42b8-b9de-67bbd6561eff",
   "metadata": {},
   "source": [
    "## use .grad(), if output may be vector or matrix"
   ]
  },
  {
   "cell_type": "code",
   "execution_count": 5,
   "id": "7f317228-5c82-4395-bcc1-789dbba4edac",
   "metadata": {},
   "outputs": [
    {
     "name": "stdout",
     "output_type": "stream",
     "text": [
      "tensor([[1., 2.],\n",
      "        [3., 4.]], requires_grad=True)\n",
      "tensor([[4., 5.],\n",
      "        [6., 7.]], requires_grad=True)\n",
      "tensor([[-13.,  -1.],\n",
      "        [ 45., 143.]], grad_fn=<SubBackward0>)\n"
     ]
    }
   ],
   "source": [
    "import torch\n",
    "\n",
    "a = torch.tensor([[1.,2.],[3.,4.]], requires_grad=True)\n",
    "b = torch.tensor([[4.,5.],[6.,7.]], requires_grad=True)\n",
    "\n",
    "Q = 3*a**3 - b**2\n",
    "print(a)\n",
    "print(b)\n",
    "print(Q)"
   ]
  },
  {
   "cell_type": "code",
   "execution_count": 6,
   "id": "16c5293d-7120-4652-a8a0-91a61d128a0b",
   "metadata": {},
   "outputs": [
    {
     "data": {
      "text/plain": [
       "tensor([[1., 1.],\n",
       "        [1., 1.]])"
      ]
     },
     "execution_count": 6,
     "metadata": {},
     "output_type": "execute_result"
    }
   ],
   "source": [
    "torch.ones_like(a)"
   ]
  },
  {
   "cell_type": "code",
   "execution_count": 7,
   "id": "beacc083-5313-4cad-b781-2588db252287",
   "metadata": {},
   "outputs": [],
   "source": [
    "# calc gradient Q as matrix dQ/da with coeficient 1\n",
    "dQ_da = torch.autograd.grad(Q, a, grad_outputs=torch.ones_like(a), create_graph=True)"
   ]
  },
  {
   "cell_type": "code",
   "execution_count": 8,
   "id": "d6922df9-cdde-4d0e-b78d-82ddb3fdb8bb",
   "metadata": {},
   "outputs": [
    {
     "data": {
      "text/plain": [
       "(tensor([[  9.,  36.],\n",
       "         [ 81., 144.]], grad_fn=<MulBackward0>),)"
      ]
     },
     "execution_count": 8,
     "metadata": {},
     "output_type": "execute_result"
    }
   ],
   "source": [
    "dQ_da"
   ]
  },
  {
   "cell_type": "code",
   "execution_count": 9,
   "id": "c3fd8fdf-965d-4fa2-8c39-2498fd0a548d",
   "metadata": {},
   "outputs": [],
   "source": [
    "dQ_db = torch.autograd.grad(Q, b, grad_outputs=torch.ones_like(b))"
   ]
  },
  {
   "cell_type": "code",
   "execution_count": 10,
   "id": "df52309e-ddf9-43a9-918b-ee0edfce81c6",
   "metadata": {},
   "outputs": [
    {
     "data": {
      "text/plain": [
       "(tensor([[ -8., -10.],\n",
       "         [-12., -14.]]),)"
      ]
     },
     "execution_count": 10,
     "metadata": {},
     "output_type": "execute_result"
    }
   ],
   "source": [
    "dQ_db"
   ]
  },
  {
   "cell_type": "code",
   "execution_count": 11,
   "id": "8436b93d-3360-42e1-8dec-c39936ef8ffe",
   "metadata": {},
   "outputs": [],
   "source": [
    "# d^2Q/da^2\n",
    "d2Q_da2 = torch.autograd.grad(dQ_da, a, grad_outputs=torch.ones_like(a))"
   ]
  },
  {
   "cell_type": "code",
   "execution_count": 12,
   "id": "de191186-8822-4827-8ee2-2e711ce282f2",
   "metadata": {},
   "outputs": [
    {
     "data": {
      "text/plain": [
       "(tensor([[18., 36.],\n",
       "         [54., 72.]]),)"
      ]
     },
     "execution_count": 12,
     "metadata": {},
     "output_type": "execute_result"
    }
   ],
   "source": [
    "d2Q_da2"
   ]
  },
  {
   "cell_type": "markdown",
   "id": "a3b7905c-3eb8-4df4-8c3a-f650e727c719",
   "metadata": {},
   "source": [
    "## Checkup"
   ]
  },
  {
   "cell_type": "code",
   "execution_count": 13,
   "id": "710f706c-bfe9-4d50-a6f7-04fcca628fa9",
   "metadata": {},
   "outputs": [
    {
     "data": {
      "text/latex": [
       "$\\displaystyle 9 x^{2}$"
      ],
      "text/plain": [
       "9*x**2"
      ]
     },
     "execution_count": 13,
     "metadata": {},
     "output_type": "execute_result"
    }
   ],
   "source": [
    "from sympy import symbols, diff\n",
    "\n",
    "x = symbols('x')\n",
    "y = symbols('y')\n",
    "\n",
    "W = 3*x**3 - y**2\n",
    "dW_dx = diff(W,x)\n",
    "dW_dx"
   ]
  },
  {
   "cell_type": "code",
   "execution_count": 14,
   "id": "1b3bac85-652b-4680-8cd4-9c973862df3c",
   "metadata": {},
   "outputs": [
    {
     "data": {
      "text/latex": [
       "$\\displaystyle - 2 y$"
      ],
      "text/plain": [
       "-2*y"
      ]
     },
     "execution_count": 14,
     "metadata": {},
     "output_type": "execute_result"
    }
   ],
   "source": [
    "dW_dy = diff(W,y)\n",
    "dW_dy"
   ]
  },
  {
   "cell_type": "code",
   "execution_count": 15,
   "id": "0461ae58-3e8f-4902-a660-36bd2e097e2c",
   "metadata": {},
   "outputs": [
    {
     "data": {
      "text/latex": [
       "$\\displaystyle 9.0$"
      ],
      "text/plain": [
       "9.00000000000000"
      ]
     },
     "execution_count": 15,
     "metadata": {},
     "output_type": "execute_result"
    }
   ],
   "source": [
    "dW_dx.subs({x: 1.})"
   ]
  },
  {
   "cell_type": "code",
   "execution_count": 16,
   "id": "142d133a-8efd-4265-be91-de935807e87d",
   "metadata": {},
   "outputs": [
    {
     "data": {
      "text/latex": [
       "$\\displaystyle -8.0$"
      ],
      "text/plain": [
       "-8.00000000000000"
      ]
     },
     "execution_count": 16,
     "metadata": {},
     "output_type": "execute_result"
    }
   ],
   "source": [
    "dW_dy.subs({y: 4.})"
   ]
  },
  {
   "cell_type": "markdown",
   "id": "355c1a36-276b-4007-b5b7-8c3ef03ba437",
   "metadata": {},
   "source": [
    "## Jacobian"
   ]
  },
  {
   "cell_type": "markdown",
   "id": "d9dccdaa-4e8a-4008-9aef-0c2f8f9569b4",
   "metadata": {},
   "source": [
    "## use torch.autograd.grad()"
   ]
  },
  {
   "cell_type": "code",
   "execution_count": 17,
   "id": "3ea1b0bd-1f3e-43d3-8218-f4766c915905",
   "metadata": {},
   "outputs": [
    {
     "data": {
      "text/plain": [
       "tensor([9., 5.], grad_fn=<StackBackward0>)"
      ]
     },
     "execution_count": 17,
     "metadata": {},
     "output_type": "execute_result"
    }
   ],
   "source": [
    "import torch\n",
    "\n",
    "x = torch.tensor([1.,2.], requires_grad=True)\n",
    "z = torch.stack([ x[0]**2 + x[1]**3, x[0]**3 + x[1]**2])\n",
    "z"
   ]
  },
  {
   "cell_type": "code",
   "execution_count": 18,
   "id": "76df97f7-cfaf-4e54-a719-1741d5c45463",
   "metadata": {},
   "outputs": [
    {
     "name": "stdout",
     "output_type": "stream",
     "text": [
      "tensor([[ 2., 12.],\n",
      "        [ 3.,  4.]], grad_fn=<CopySlices>)\n"
     ]
    }
   ],
   "source": [
    "# jacobian\n",
    "# dz0/dx0 = 2*x[0]     dz0/dx1 = 3*x[1]**2\n",
    "# dz1/dx0 = 3*x[0]**2  dz1/dx1 = 2*x[1]\n",
    "\n",
    "jacobian = torch.zeros( z.shape[0], x.shape[0] )\n",
    "\n",
    "for i in range( z.shape[0] ):\n",
    "    jacobian[i] = torch.autograd.grad( outputs=z[i], inputs=x, create_graph=True)[0]\n",
    "\n",
    "print(jacobian)"
   ]
  },
  {
   "cell_type": "markdown",
   "id": "fadeb9d2-7943-4ff4-af33-5b5d3af92314",
   "metadata": {},
   "source": [
    "# use torch.autograd.functional.jacobian()"
   ]
  },
  {
   "cell_type": "code",
   "execution_count": 19,
   "id": "11823402-3e35-488c-b5c1-375c1d215005",
   "metadata": {},
   "outputs": [],
   "source": [
    "import torch\n",
    "from torch.autograd.functional import jacobian\n",
    "\n",
    "x = torch.tensor([1.,2.], requires_grad=True)\n",
    "z = torch.stack([ x[0]**2 + x[1]**3, x[0]**3 + x[1]**2])\n",
    "\n",
    "def jac(x):\n",
    "    return torch.stack([ x[0]**2 + x[1]**3, x[0]**3 + x[1]**2])"
   ]
  },
  {
   "cell_type": "code",
   "execution_count": 20,
   "id": "07e08feb-ac65-4cdd-be2b-eb822753363c",
   "metadata": {},
   "outputs": [
    {
     "data": {
      "text/plain": [
       "tensor([[ 2., 12.],\n",
       "        [ 3.,  4.]], grad_fn=<ViewBackward0>)"
      ]
     },
     "execution_count": 20,
     "metadata": {},
     "output_type": "execute_result"
    }
   ],
   "source": [
    "jacobian( func=jac, inputs=x, create_graph=True)"
   ]
  },
  {
   "cell_type": "markdown",
   "id": "23bbf4fe-2e75-4a73-b88b-1ebfd917f2a7",
   "metadata": {},
   "source": [
    "# Линейная регрессия"
   ]
  },
  {
   "cell_type": "code",
   "execution_count": 21,
   "id": "23200804-9b6e-41e5-9919-9c48f4e0c0fb",
   "metadata": {},
   "outputs": [],
   "source": [
    "import numpy as np\n",
    "import torch\n",
    "import torch.nn as nn\n",
    "import matplotlib.pyplot as plt\n",
    "\n",
    "import torch\n",
    "import torch.nn as nn\n",
    "\n",
    "class SLE( nn.Module ):\n",
    "    def __init__(self):\n",
    "        super().__init__()\n",
    "        self.fc = nn.Sequential(\n",
    "            nn.Linear(1,1)\n",
    "        )\n",
    "\n",
    "    def forward(self, x):\n",
    "        return self.fc( x )"
   ]
  },
  {
   "cell_type": "code",
   "execution_count": 22,
   "id": "91ed9315-2d0f-4a7e-9702-77331dcdac38",
   "metadata": {},
   "outputs": [
    {
     "data": {
      "text/plain": [
       "Linear(in_features=1, out_features=1, bias=True)"
      ]
     },
     "execution_count": 22,
     "metadata": {},
     "output_type": "execute_result"
    }
   ],
   "source": [
    "# sle = SLE()\n",
    "# все то же самое работает без создания класса\n",
    "sle = nn.Linear(1,1)\n",
    "sle"
   ]
  },
  {
   "cell_type": "code",
   "execution_count": 23,
   "id": "be5ef6ac-9ce9-4434-802e-9f028a1596f4",
   "metadata": {},
   "outputs": [
    {
     "name": "stdout",
     "output_type": "stream",
     "text": [
      "Parameter containing:\n",
      "tensor([[0.2451]], requires_grad=True)\n",
      "Parameter containing:\n",
      "tensor([0.3532], requires_grad=True)\n"
     ]
    }
   ],
   "source": [
    "#print( sle.fc[0].weight )\n",
    "#print( sle.fc[0].bias )\n",
    "print( sle.weight )\n",
    "print( sle.bias )"
   ]
  },
  {
   "cell_type": "code",
   "execution_count": 24,
   "id": "bd8bc9fb-a0c9-4a1b-909f-eda6fc8c35d8",
   "metadata": {},
   "outputs": [
    {
     "data": {
      "text/plain": [
       "tensor([[0.0000],\n",
       "        [0.1111],\n",
       "        [0.2222],\n",
       "        [0.3333],\n",
       "        [0.4444],\n",
       "        [0.5556],\n",
       "        [0.6667],\n",
       "        [0.7778],\n",
       "        [0.8889],\n",
       "        [1.0000]], grad_fn=<ViewBackward0>)"
      ]
     },
     "execution_count": 24,
     "metadata": {},
     "output_type": "execute_result"
    }
   ],
   "source": [
    "x = torch.linspace(0, 1., 10, requires_grad=True).view(-1,1)\n",
    "x"
   ]
  },
  {
   "cell_type": "code",
   "execution_count": 25,
   "id": "16ca0507-a512-4b9c-8431-fc794ce6eea0",
   "metadata": {},
   "outputs": [
    {
     "data": {
      "text/plain": [
       "tensor([[0.3532],\n",
       "        [0.3804],\n",
       "        [0.4077],\n",
       "        [0.4349],\n",
       "        [0.4621],\n",
       "        [0.4894],\n",
       "        [0.5166],\n",
       "        [0.5438],\n",
       "        [0.5711],\n",
       "        [0.5983]], grad_fn=<AddmmBackward0>)"
      ]
     },
     "execution_count": 25,
     "metadata": {},
     "output_type": "execute_result"
    }
   ],
   "source": [
    "sle_pred = sle(x)\n",
    "sle_pred"
   ]
  },
  {
   "cell_type": "code",
   "execution_count": 26,
   "id": "d248f9fa-4818-48c1-8551-3be0ecafdae6",
   "metadata": {},
   "outputs": [
    {
     "data": {
      "text/plain": [
       "tensor([[0.3532],\n",
       "        [0.3804],\n",
       "        [0.4077],\n",
       "        [0.4349],\n",
       "        [0.4621],\n",
       "        [0.4894],\n",
       "        [0.5166],\n",
       "        [0.5438],\n",
       "        [0.5711],\n",
       "        [0.5983]], grad_fn=<AddBackward0>)"
      ]
     },
     "execution_count": 26,
     "metadata": {},
     "output_type": "execute_result"
    }
   ],
   "source": [
    "#sle.fc[0].weight * x + sle.fc[0].bias\n",
    "sle.weight * x + sle.bias"
   ]
  },
  {
   "cell_type": "code",
   "execution_count": 27,
   "id": "c9c3dd33-6929-4f8a-a669-7e7bb2325553",
   "metadata": {},
   "outputs": [
    {
     "data": {
      "text/plain": [
       "True"
      ]
     },
     "execution_count": 27,
     "metadata": {},
     "output_type": "execute_result"
    }
   ],
   "source": [
    "# check NN == W*x+b\n",
    "# torch.equal( sle_pred, sle.fc[0].weight * x + sle.fc[0].bias)\n",
    "torch.equal( sle_pred, sle.weight * x + sle.bias)"
   ]
  },
  {
   "cell_type": "code",
   "execution_count": 34,
   "id": "756f4208-d214-4261-8e31-6c3272a580df",
   "metadata": {},
   "outputs": [
    {
     "data": {
      "text/plain": [
       "SGD (\n",
       "Parameter Group 0\n",
       "    dampening: 0\n",
       "    differentiable: False\n",
       "    foreach: None\n",
       "    fused: None\n",
       "    lr: 0.01\n",
       "    maximize: False\n",
       "    momentum: 0\n",
       "    nesterov: False\n",
       "    weight_decay: 0\n",
       ")"
      ]
     },
     "execution_count": 34,
     "metadata": {},
     "output_type": "execute_result"
    }
   ],
   "source": [
    "optimizer = torch.optim.SGD( sle.parameters(), lr=1e-3)\n",
    "#optimizer = torch.optim.Adam( sle.parameters(), lr=1e-6)\n",
    "optimizer"
   ]
  },
  {
   "cell_type": "code",
   "execution_count": 35,
   "id": "cc750fa9-b20b-42ba-896f-a51c275bf5a8",
   "metadata": {},
   "outputs": [
    {
     "data": {
      "text/plain": [
       "tensor([[ 0.8013],\n",
       "        [ 0.5084],\n",
       "        [ 0.4697],\n",
       "        [-0.0505],\n",
       "        [-0.0653],\n",
       "        [-0.2399],\n",
       "        [-0.4827],\n",
       "        [-0.5866],\n",
       "        [-0.7045],\n",
       "        [-0.4022]], grad_fn=<AddBackward0>)"
      ]
     },
     "execution_count": 35,
     "metadata": {},
     "output_type": "execute_result"
    }
   ],
   "source": [
    "# y - измерение выходных значений линейное + рандомный шум, например, неточноть измерения \n",
    "# y = Ax + B + noise\n",
    "A = -1\n",
    "B = 0.5\n",
    "K_deviation = 0.2\n",
    "y = A*x + B + torch.randn( x.shape[0],1)*K_deviation\n",
    "y"
   ]
  },
  {
   "cell_type": "markdown",
   "id": "3631d518-e477-446b-b098-90e73d01da0d",
   "metadata": {},
   "source": [
    "### Цикл обучения"
   ]
  },
  {
   "cell_type": "code",
   "execution_count": 36,
   "id": "4c2712cd-04a8-48ca-86f5-9967f4fa1863",
   "metadata": {},
   "outputs": [
    {
     "data": {
      "image/png": "[encoded data removed]",
      "text/plain": [
       "<Figure size 640x480 with 1 Axes>"
      ]
     },
     "metadata": {},
     "output_type": "display_data"
    }
   ],
   "source": [
    "plt.scatter(x.detach().numpy(), sle_pred.detach().numpy(), label='Предсказание нейронки')\n",
    "plt.scatter(x.detach().numpy(), y.detach().numpy(), label='Измерения с шумом')\n",
    "plt.grid(True)\n",
    "plt.legend()\n",
    "plt.xlabel('x')\n",
    "plt.ylabel('y')\n",
    "plt.title('Линейная регрессия')\n",
    "plt.show()"
   ]
  },
  {
   "cell_type": "code",
   "execution_count": 79,
   "id": "a69a9b9a-72f2-4d2f-8ef9-31775c57e55d",
   "metadata": {},
   "outputs": [],
   "source": [
    "# 1000 - ok, 100 - недообученная получается\n",
    "for epoch in range(100):\n",
    "    loss = torch.mean( torch.abs( y - sle_pred )**2 )\n",
    "    loss.backward(retain_graph=True)\n",
    "    optimizer.step()\n",
    "    sle_pred = sle(x)"
   ]
  },
  {
   "cell_type": "code",
   "execution_count": 80,
   "id": "f79508da-010d-4a12-9f18-6838df550499",
   "metadata": {},
   "outputs": [
    {
     "name": "stdout",
     "output_type": "stream",
     "text": [
      "Parameter containing:\n",
      "tensor([[-3.4037]], requires_grad=True)\n",
      "Parameter containing:\n",
      "tensor([-3.3012], requires_grad=True)\n"
     ]
    }
   ],
   "source": [
    "#print( sle.fc[0].weight )\n",
    "#print( sle.fc[0].bias )\n",
    "print( sle.weight )\n",
    "print( sle.bias )"
   ]
  },
  {
   "cell_type": "code",
   "execution_count": 81,
   "id": "b87efcbd-8487-4a82-ab4b-1bdf0d0f7cf0",
   "metadata": {},
   "outputs": [
    {
     "data": {
      "image/png": "[encoded data removed]",
      "text/plain": [
       "<Figure size 640x480 with 1 Axes>"
      ]
     },
     "metadata": {},
     "output_type": "display_data"
    }
   ],
   "source": [
    "plt.scatter(x.detach().numpy(), sle_pred.detach().numpy(), label='Предсказание нейронки')\n",
    "plt.scatter(x.detach().numpy(), y.detach().numpy(), label='Измерения с шумом')\n",
    "plt.grid(True)\n",
    "plt.legend()\n",
    "plt.xlabel('x')\n",
    "plt.ylabel('y')\n",
    "plt.title('Линейная регрессия')\n",
    "plt.show()"
   ]
  },
  {
   "cell_type": "markdown",
   "id": "acbc8cc2-a1ba-47bc-b529-d2d48b60c94f",
   "metadata": {},
   "source": [
    "### Опереляем погрешность аппроксимации"
   ]
  },
  {
   "cell_type": "code",
   "execution_count": 205,
   "id": "410f6394-7727-443c-8d1b-01105e93866a",
   "metadata": {},
   "outputs": [
    {
     "data": {
      "text/plain": [
       "tensor(0.3693, grad_fn=<MeanBackward0>)"
      ]
     },
     "execution_count": 205,
     "metadata": {},
     "output_type": "execute_result"
    }
   ],
   "source": [
    "# среднее отклонение\n",
    "torch.mean( torch.abs( y - sle_pred ) )"
   ]
  },
  {
   "cell_type": "code",
   "execution_count": 206,
   "id": "2c95a951-72ab-4ebe-ac72-1ef6beaaa475",
   "metadata": {},
   "outputs": [
    {
     "name": "stdout",
     "output_type": "stream",
     "text": [
      "Parameter containing:\n",
      "tensor([[-0.0439]], requires_grad=True)\n",
      "Parameter containing:\n",
      "tensor([0.3383], requires_grad=True)\n"
     ]
    }
   ],
   "source": [
    "#print( sle.fc[0].weight )\n",
    "#print( sle.fc[0].bias )\n",
    "print( sle.weight )\n",
    "print( sle.bias )"
   ]
  },
  {
   "cell_type": "code",
   "execution_count": 207,
   "id": "2051b0fc-a10d-469b-947f-80c101851b46",
   "metadata": {},
   "outputs": [
    {
     "name": "stdout",
     "output_type": "stream",
     "text": [
      "-1\n",
      "0.5\n",
      "0.2\n"
     ]
    }
   ],
   "source": [
    "print(A)\n",
    "print(B)\n",
    "print(K_deviation)"
   ]
  },
  {
   "cell_type": "code",
   "execution_count": null,
   "id": "538b7cff-f9ad-4d7f-bf8e-44616f82bc95",
   "metadata": {},
   "outputs": [],
   "source": []
  }
 ],
 "metadata": {
  "kernelspec": {
   "display_name": "Python 3 (ipykernel)",
   "language": "python",
   "name": "python3"
  },
  "language_info": {
   "codemirror_mode": {
    "name": "ipython",
    "version": 3
   },
   "file_extension": ".py",
   "mimetype": "text/x-python",
   "name": "python",
   "nbconvert_exporter": "python",
   "pygments_lexer": "ipython3",
   "version": "3.10.12"
  }
 },
 "nbformat": 4,
 "nbformat_minor": 5
}
