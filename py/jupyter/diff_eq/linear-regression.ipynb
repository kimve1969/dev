{
 "cells": [
  {
   "cell_type": "markdown",
   "id": "5225dc20",
   "metadata": {},
   "source": [
    "# Линейная регрессия"
   ]
  },
  {
   "cell_type": "code",
   "execution_count": 20,
   "id": "c0df52b6",
   "metadata": {},
   "outputs": [],
   "source": [
    "import numpy as np\n",
    "import torch\n",
    "import torch.nn as nn\n",
    "import matplotlib.pyplot as plt\n",
    "\n",
    "import torch\n",
    "import torch.nn as nn\n",
    "\n",
    "class SLE( nn.Module ):\n",
    "    def __init__(self):\n",
    "        super().__init__()\n",
    "        self.fc = nn.Sequential(\n",
    "            nn.Linear(1,1)\n",
    "        )\n",
    "\n",
    "    def forward(self, x):\n",
    "        return self.fc( x )"
   ]
  },
  {
   "cell_type": "code",
   "execution_count": 21,
   "id": "81348ac9",
   "metadata": {},
   "outputs": [
    {
     "data": {
      "text/plain": [
       "Linear(in_features=1, out_features=1, bias=True)"
      ]
     },
     "execution_count": 21,
     "metadata": {},
     "output_type": "execute_result"
    }
   ],
   "source": [
    "# sle = SLE()\n",
    "# все то же самое работает без создания класса\n",
    "sle = nn.Linear(1,1)\n",
    "sle"
   ]
  },
  {
   "cell_type": "code",
   "execution_count": 22,
   "id": "6f8c67c7",
   "metadata": {},
   "outputs": [
    {
     "name": "stdout",
     "output_type": "stream",
     "text": [
      "Parameter containing:\n",
      "tensor([[-0.5284]], requires_grad=True)\n",
      "Parameter containing:\n",
      "tensor([0.4007], requires_grad=True)\n"
     ]
    }
   ],
   "source": [
    "#print( sle.fc[0].weight )\n",
    "#print( sle.fc[0].bias )\n",
    "print( sle.weight )\n",
    "print( sle.bias )"
   ]
  },
  {
   "cell_type": "code",
   "execution_count": 23,
   "id": "d09cf9a1",
   "metadata": {},
   "outputs": [
    {
     "data": {
      "text/plain": [
       "tensor([[0.0000],\n",
       "        [0.1111],\n",
       "        [0.2222],\n",
       "        [0.3333],\n",
       "        [0.4444],\n",
       "        [0.5556],\n",
       "        [0.6667],\n",
       "        [0.7778],\n",
       "        [0.8889],\n",
       "        [1.0000]], grad_fn=<ViewBackward0>)"
      ]
     },
     "execution_count": 23,
     "metadata": {},
     "output_type": "execute_result"
    }
   ],
   "source": [
    "x = torch.linspace(0, 1., 10, requires_grad=True).view(-1,1)\n",
    "x"
   ]
  },
  {
   "cell_type": "code",
   "execution_count": 24,
   "id": "4ea4e3bf",
   "metadata": {},
   "outputs": [
    {
     "data": {
      "text/plain": [
       "tensor([[ 0.4007],\n",
       "        [ 0.3420],\n",
       "        [ 0.2833],\n",
       "        [ 0.2246],\n",
       "        [ 0.1659],\n",
       "        [ 0.1071],\n",
       "        [ 0.0484],\n",
       "        [-0.0103],\n",
       "        [-0.0690],\n",
       "        [-0.1277]], grad_fn=<AddmmBackward0>)"
      ]
     },
     "execution_count": 24,
     "metadata": {},
     "output_type": "execute_result"
    }
   ],
   "source": [
    "sle_pred = sle(x)\n",
    "sle_pred"
   ]
  },
  {
   "cell_type": "code",
   "execution_count": 25,
   "id": "afacfdda",
   "metadata": {},
   "outputs": [
    {
     "data": {
      "text/plain": [
       "tensor([[ 0.4007],\n",
       "        [ 0.3420],\n",
       "        [ 0.2833],\n",
       "        [ 0.2246],\n",
       "        [ 0.1659],\n",
       "        [ 0.1071],\n",
       "        [ 0.0484],\n",
       "        [-0.0103],\n",
       "        [-0.0690],\n",
       "        [-0.1277]], grad_fn=<AddBackward0>)"
      ]
     },
     "execution_count": 25,
     "metadata": {},
     "output_type": "execute_result"
    }
   ],
   "source": [
    "#sle.fc[0].weight * x + sle.fc[0].bias\n",
    "sle.weight * x + sle.bias"
   ]
  },
  {
   "cell_type": "code",
   "execution_count": 26,
   "id": "c6cb91ff",
   "metadata": {},
   "outputs": [
    {
     "data": {
      "text/plain": [
       "True"
      ]
     },
     "execution_count": 26,
     "metadata": {},
     "output_type": "execute_result"
    }
   ],
   "source": [
    "# check NN == W*x+b\n",
    "# torch.equal( sle_pred, sle.fc[0].weight * x + sle.fc[0].bias)\n",
    "torch.equal( sle_pred, sle.weight * x + sle.bias)"
   ]
  },
  {
   "cell_type": "code",
   "execution_count": 27,
   "id": "2a665e47",
   "metadata": {},
   "outputs": [
    {
     "data": {
      "text/plain": [
       "tensor([[ 0.4696],\n",
       "        [ 0.4620],\n",
       "        [ 0.2505],\n",
       "        [ 0.1107],\n",
       "        [ 0.1028],\n",
       "        [ 0.0029],\n",
       "        [-0.2217],\n",
       "        [-0.3047],\n",
       "        [-0.2895],\n",
       "        [-0.5198]], grad_fn=<AddBackward0>)"
      ]
     },
     "execution_count": 27,
     "metadata": {},
     "output_type": "execute_result"
    }
   ],
   "source": [
    "# y - измерение выходных значений линейное + рандомный шум, например, неточноть измерения \n",
    "# y = Ax + B + noise\n",
    "A = -1\n",
    "B = 0.5\n",
    "K_deviation = 0.05\n",
    "y = A*x + B + torch.randn( x.shape[0],1)*K_deviation\n",
    "y"
   ]
  },
  {
   "cell_type": "markdown",
   "id": "02f51f5b",
   "metadata": {},
   "source": [
    "### До обучения"
   ]
  },
  {
   "cell_type": "code",
   "execution_count": 28,
   "id": "d44de75c",
   "metadata": {},
   "outputs": [
    {
     "name": "stdout",
     "output_type": "stream",
     "text": [
      "Parameter containing:\n",
      "tensor([[-0.5284]], requires_grad=True)\n",
      "Parameter containing:\n",
      "tensor([0.4007], requires_grad=True)\n"
     ]
    }
   ],
   "source": [
    "#print( sle.fc[0].weight )\n",
    "#print( sle.fc[0].bias )\n",
    "print( sle.weight )\n",
    "print( sle.bias )"
   ]
  },
  {
   "cell_type": "code",
   "execution_count": 29,
   "id": "e301b39e",
   "metadata": {},
   "outputs": [
    {
     "data": {
      "text/plain": [
       "Text(0.5, 1.0, 'Линейная регрессия')"
      ]
     },
     "execution_count": 29,
     "metadata": {},
     "output_type": "execute_result"
    },
    {
     "data": {
      "image/png": "[encoded data removed]",
      "text/plain": [
       "<Figure size 640x480 with 1 Axes>"
      ]
     },
     "metadata": {},
     "output_type": "display_data"
    }
   ],
   "source": [
    "plt.scatter(x.detach().numpy(), sle_pred.detach().numpy(), label='Предсказание нейронки')\n",
    "plt.scatter(x.detach().numpy(), y.detach().numpy(), label='Измерения с шумом')\n",
    "plt.grid(True)\n",
    "plt.legend()\n",
    "plt.xlabel('x')\n",
    "plt.ylabel('y')\n",
    "plt.title('Линейная регрессия')\n",
    "#plt.show()"
   ]
  },
  {
   "cell_type": "markdown",
   "id": "0d1f73e8",
   "metadata": {},
   "source": [
    "### Цикл обучения"
   ]
  },
  {
   "cell_type": "code",
   "execution_count": 30,
   "id": "942d7adc",
   "metadata": {},
   "outputs": [
    {
     "data": {
      "text/plain": [
       "Adam (\n",
       "Parameter Group 0\n",
       "    amsgrad: False\n",
       "    betas: (0.9, 0.999)\n",
       "    capturable: False\n",
       "    differentiable: False\n",
       "    eps: 1e-08\n",
       "    foreach: None\n",
       "    fused: None\n",
       "    lr: 0.001\n",
       "    maximize: False\n",
       "    weight_decay: 0\n",
       ")"
      ]
     },
     "execution_count": 30,
     "metadata": {},
     "output_type": "execute_result"
    }
   ],
   "source": [
    "#optimizer = torch.optim.SGD( sle.parameters(), lr=1e-3)\n",
    "optimizer = torch.optim.Adam( sle.parameters(), lr=1e-3)\n",
    "optimizer"
   ]
  },
  {
   "cell_type": "code",
   "execution_count": 31,
   "id": "8964bbed",
   "metadata": {},
   "outputs": [
    {
     "data": {
      "text/plain": [
       "MSELoss()"
      ]
     },
     "execution_count": 31,
     "metadata": {},
     "output_type": "execute_result"
    }
   ],
   "source": [
    "critarion = nn.MSELoss()\n",
    "critarion"
   ]
  },
  {
   "cell_type": "code",
   "execution_count": 32,
   "id": "e34f1768",
   "metadata": {},
   "outputs": [
    {
     "name": "stdout",
     "output_type": "stream",
     "text": [
      "Epoch [0/1000], Loss: 0.0410\n",
      "Epoch [20/1000], Loss: 0.0324\n",
      "Epoch [40/1000], Loss: 0.0260\n",
      "Epoch [60/1000], Loss: 0.0217\n",
      "Epoch [80/1000], Loss: 0.0189\n",
      "Epoch [100/1000], Loss: 0.0172\n",
      "Epoch [120/1000], Loss: 0.0160\n",
      "Epoch [140/1000], Loss: 0.0152\n",
      "Epoch [160/1000], Loss: 0.0145\n",
      "Epoch [180/1000], Loss: 0.0139\n",
      "Epoch [200/1000], Loss: 0.0133\n",
      "Epoch [220/1000], Loss: 0.0127\n",
      "Epoch [240/1000], Loss: 0.0121\n",
      "Epoch [260/1000], Loss: 0.0115\n",
      "Epoch [280/1000], Loss: 0.0110\n",
      "Epoch [300/1000], Loss: 0.0104\n",
      "Epoch [320/1000], Loss: 0.0099\n",
      "Epoch [340/1000], Loss: 0.0094\n",
      "Epoch [360/1000], Loss: 0.0090\n",
      "Epoch [380/1000], Loss: 0.0085\n",
      "Epoch [400/1000], Loss: 0.0081\n",
      "Epoch [420/1000], Loss: 0.0077\n",
      "Epoch [440/1000], Loss: 0.0073\n",
      "Epoch [460/1000], Loss: 0.0069\n",
      "Epoch [480/1000], Loss: 0.0066\n",
      "Epoch [500/1000], Loss: 0.0063\n",
      "Epoch [520/1000], Loss: 0.0060\n",
      "Epoch [540/1000], Loss: 0.0057\n",
      "Epoch [560/1000], Loss: 0.0055\n",
      "Epoch [580/1000], Loss: 0.0052\n",
      "Epoch [600/1000], Loss: 0.0050\n",
      "Epoch [620/1000], Loss: 0.0048\n",
      "Epoch [640/1000], Loss: 0.0046\n",
      "Epoch [660/1000], Loss: 0.0045\n",
      "Epoch [680/1000], Loss: 0.0043\n",
      "Epoch [700/1000], Loss: 0.0042\n",
      "Epoch [720/1000], Loss: 0.0040\n",
      "Epoch [740/1000], Loss: 0.0039\n",
      "Epoch [760/1000], Loss: 0.0038\n",
      "Epoch [780/1000], Loss: 0.0037\n",
      "Epoch [800/1000], Loss: 0.0036\n",
      "Epoch [820/1000], Loss: 0.0035\n",
      "Epoch [840/1000], Loss: 0.0035\n",
      "Epoch [860/1000], Loss: 0.0034\n",
      "Epoch [880/1000], Loss: 0.0033\n",
      "Epoch [900/1000], Loss: 0.0033\n",
      "Epoch [920/1000], Loss: 0.0032\n",
      "Epoch [940/1000], Loss: 0.0032\n",
      "Epoch [960/1000], Loss: 0.0032\n",
      "Epoch [980/1000], Loss: 0.0031\n"
     ]
    }
   ],
   "source": [
    "# 1000 - ok, 100 - недообученная получается\n",
    "MAX = 1000\n",
    "for epoch in range(MAX):\n",
    "    sle_pred = sle(x)\n",
    "    # loss = torch.mean( ( y - sle_pred )**2 )\n",
    "    loss = critarion(y, sle_pred)\n",
    "    # стриаем предыдущий граф градиента\n",
    "    optimizer.zero_grad()\n",
    "    # обратное распространение ошибки\n",
    "    loss.backward(retain_graph=True)\n",
    "    # записываем новые коэфициента\n",
    "    optimizer.step()\n",
    "    if epoch % 20 == 0:\n",
    "        print(f'Epoch [{epoch}/{MAX}], Loss: {loss.item():.4f}')"
   ]
  },
  {
   "cell_type": "code",
   "execution_count": 33,
   "id": "f8c38bf2",
   "metadata": {},
   "outputs": [
    {
     "name": "stdout",
     "output_type": "stream",
     "text": [
      "Parameter containing:\n",
      "tensor([[-0.9416]], requires_grad=True)\n",
      "Parameter containing:\n",
      "tensor([0.4756], requires_grad=True)\n"
     ]
    }
   ],
   "source": [
    "#print( sle.fc[0].weight )\n",
    "#print( sle.fc[0].bias )\n",
    "print( sle.weight )\n",
    "print( sle.bias )"
   ]
  },
  {
   "cell_type": "code",
   "execution_count": 34,
   "id": "6be1588f",
   "metadata": {},
   "outputs": [
    {
     "data": {
      "text/plain": [
       "Text(0.5, 1.0, 'Линейная регрессия')"
      ]
     },
     "execution_count": 34,
     "metadata": {},
     "output_type": "execute_result"
    },
    {
     "data": {
      "image/png": "[encoded data removed]",
      "text/plain": [
       "<Figure size 640x480 with 1 Axes>"
      ]
     },
     "metadata": {},
     "output_type": "display_data"
    }
   ],
   "source": [
    "plt.scatter(x.detach().numpy(), sle_pred.detach().numpy(), label='Предсказание нейронки')\n",
    "plt.scatter(x.detach().numpy(), y.detach().numpy(), label='Измерения с шумом')\n",
    "plt.grid(True)\n",
    "plt.legend()\n",
    "plt.xlabel('x')\n",
    "plt.ylabel('y')\n",
    "plt.title('Линейная регрессия')\n",
    "#plt.show()"
   ]
  },
  {
   "cell_type": "markdown",
   "id": "41c570c8",
   "metadata": {},
   "source": [
    "### Опереляем погрешность аппроксимации"
   ]
  },
  {
   "cell_type": "code",
   "execution_count": 35,
   "id": "d088c7d0",
   "metadata": {},
   "outputs": [
    {
     "data": {
      "text/plain": [
       "tensor(0.0031, grad_fn=<MeanBackward0>)"
      ]
     },
     "execution_count": 35,
     "metadata": {},
     "output_type": "execute_result"
    }
   ],
   "source": [
    "# среднее отклонение\n",
    "torch.mean( critarion(y, sle_pred) )"
   ]
  },
  {
   "cell_type": "code",
   "execution_count": 36,
   "id": "b9da523e",
   "metadata": {},
   "outputs": [
    {
     "name": "stdout",
     "output_type": "stream",
     "text": [
      "Parameter containing:\n",
      "tensor([[-0.9416]], requires_grad=True)\n",
      "Parameter containing:\n",
      "tensor([0.4756], requires_grad=True)\n"
     ]
    }
   ],
   "source": [
    "#print( sle.fc[0].weight )\n",
    "#print( sle.fc[0].bias )\n",
    "print( sle.weight )\n",
    "print( sle.bias )"
   ]
  },
  {
   "cell_type": "code",
   "execution_count": 19,
   "id": "528dfb3b",
   "metadata": {},
   "outputs": [
    {
     "name": "stdout",
     "output_type": "stream",
     "text": [
      "-1\n",
      "0.5\n",
      "0.05\n"
     ]
    }
   ],
   "source": [
    "print(A)\n",
    "print(B)\n",
    "print(K_deviation)"
   ]
  },
  {
   "cell_type": "code",
   "execution_count": null,
   "id": "fcc36eba",
   "metadata": {},
   "outputs": [],
   "source": []
  }
 ],
 "metadata": {
  "kernelspec": {
   "display_name": "Python 3 (ipykernel)",
   "language": "python",
   "name": "python3"
  },
  "language_info": {
   "codemirror_mode": {
    "name": "ipython",
    "version": 3
   },
   "file_extension": ".py",
   "mimetype": "text/x-python",
   "name": "python",
   "nbconvert_exporter": "python",
   "pygments_lexer": "ipython3",
   "version": "3.10.12"
  }
 },
 "nbformat": 4,
 "nbformat_minor": 5
}

