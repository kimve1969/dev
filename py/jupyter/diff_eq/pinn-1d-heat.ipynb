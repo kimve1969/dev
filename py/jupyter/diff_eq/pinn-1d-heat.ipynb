{
 "cells": [
  {
   "cell_type": "markdown",
   "id": "3b9a4b21-d8d9-46af-bf6f-77c1184a046a",
   "metadata": {},
   "source": [
    "# Physics-Informed Neural Networks (PINNs)\n",
    "\n",
    "Теоретическая основа: универсальная теорема аппроксимации (доказана Джорджем Цибенко в 1989 году и Куртом Хорником в 1991): \\\n",
    "Однослойная нейроная сеть с достаточно большим числом нейронов и нелинейной гладкой функцией \\\n",
    "(например, sigmoid или tanh) может приблизить любую непрерывную функцию на компактном множестве \\\n",
    "с любой заданной точностью. \n",
    "\n",
    "$$\n",
    "sup_{x \\in K}| f(x) - N(x) | < \\epsilon\n",
    "$$"
   ]
  },
  {
   "cell_type": "markdown",
   "id": "5ab0bfc7-18fc-4b56-8e59-37cba3dcd992",
   "metadata": {
    "editable": true,
    "slideshow": {
     "slide_type": ""
    },
    "tags": []
   },
   "source": [
    "# Уравнение теплопроводности\n",
    "\n",
    "$$ \\frac{\\partial u(x,t)}{\\partial t}=\\frac{\\partial}{\\partial x}(k(x)*\\frac{\\partial u(x,t)}{\\partial x})+f(x,t)) $$\n",
    "$$ x \\in (0,L), \\, t \\in (0,T] $$ \\\n",
    "$ u(x,t) $ - температура  \\\n",
    "$ k(x) $ - коэф.теплопроводности \\\n",
    "$ f(x,t) $ - источники \\\\ стоки\n",
    "### Начальные условия:\n",
    "$$ u(x,0)=g_{IC}(x) $$\n",
    "$$ x \\in [0,L], \\, t = 0 $$\n",
    "### Граничные условия (например, первого рода):\n",
    "$$ u(0,t)=g_{LB}(t), u(L,t)=g_{RB}(t) $$\n",
    "$$ x \\in \\{0,L\\}, \\, t \\in (0,T] $$"
   ]
  },
  {
   "cell_type": "markdown",
   "id": "901ae47f-ef7b-4e7b-9b07-5a7d6f99e630",
   "metadata": {
    "editable": true,
    "slideshow": {
     "slide_type": ""
    },
    "tags": []
   },
   "source": [
    "# Аппроксимация дифференциального уравнения нейроной сетью\n",
    "$ N_u(x,t) $ - нейросеть аппроксимирует u(x,t),тогда аппроксимированное ур-ие теплопроводности примет вид:\n",
    "$$\n",
    "\\frac{\\partial N_u(x,t)}{\\partial t}=\\frac{\\partial}{\\partial x}(k(x) \\frac{\\partial N_u(x,t)}{\\partial x})+f(x,t))\n",
    "$$\n",
    "\n",
    "или раскроем производную произведения и перенесем все в левую сторону\n",
    "$$\n",
    "\\frac{\\partial N_u(x,t)}{\\partial t} - \\frac{\\partial k(x)}{\\partial x} \\frac{\\partial N_u(x,t)}{\\partial x} - k(x) \\frac{\\partial^2 N_u(x,t)}{\\partial x^2} -f(x,t)) = 0\n",
    "$$\n",
    "\n",
    "Производная нейросети $ N_u(x,t) $, состоящая, например, из входа -> два внутренних слоя -> выход - \n",
    "это гладкая функция как композиция слоев нейросети \\\n",
    "$$ N_u(x,t) = f_3(f_2(f_1(x,t,\\theta), \\theta), \\theta), $$ \\\n",
    "$ f_1, f_2, f_3 $ - слои нейросети (линейные преобразования + функции активации) \\\n",
    "$ \\theta_i $ - обучаемые параметры (веса и смещения) \\\n",
    "производная $  N_u(x,t) $ вычисляется по цепному правилу:\n",
    "$$\n",
    "\\frac{\\partial N_u}{\\partial x} = \\frac{\\partial f_3}{\\partial f_2} * \\frac{\\partial f_2}{\\partial f_1} * \\frac{\\partial f_1}{\\partial x}\n",
    "$$\n",
    "где каждый член это якобиан (матрица частных производных)"
   ]
  },
  {
   "cell_type": "markdown",
   "id": "ddb32d2a-6e34-4abd-8f53-2740e7ab5440",
   "metadata": {},
   "source": [
    "# Функция потерь (loss function)\n",
    "### 1. Partial Differential Equation loss: ошибка аппроксимации дифф.ур-ия нейронной сетью\n",
    "$$\n",
    "L_{PDE} = \\frac{1}{M} \\sum_{j=1}^M || \\frac{\\partial N_u(x,t)}{\\partial t} - \\frac{\\partial k(x)}{\\partial x} \\frac{\\partial N_u(x,t)}{\\partial x} - k(x) \\frac{\\partial^2 N_u(x,t)}{\\partial x^2} -f(x,t) ||^2\n",
    "$$\n",
    "$$ x \\in (0,L), t \\in (0,T] $$\n",
    "### 2. Initial condition loss: ошибка нейронной сети по начальным условиям\n",
    "$$ L_{IC} = \\frac{1}{K} \\sum_{j=1}^K || N_u(x,0) - g_{IC}(x) ||^2 $$\n",
    "$$ x \\in [0;L], t = 0 $$\n",
    "### 3. Boundary condition loss: ошибка нейронной сети по граничным условиям\n",
    "$$ L_{BC} = \\frac{1}{P} (\\sum_{j=1}^P || N_u(0,t) - g_{LB}(t) ||^2 + \\sum_{j=1}^P || N_u(L,t) - g_{RB}(t) ||^2) $$\n",
    "$$ x \\in \\{0,L\\}, t \\in (0,T] $$\n",
    "### 4. Data loss: ошибка предсказанных и экспериментальных данных\n",
    "$$ L_{data} = \\frac{1}{N} \\sum_{j=1}^N || N_u(x,t) - u_{data}(x,t) ||^2 $$\n",
    "$$ x \\in (0,L), t \\in (0,T] $$\n",
    "### Итоговый лосс:\n",
    "$$ L = \\lambda_{PDE} L_{PDE} + \\lambda_{IC} L_{IC} + \\lambda_{BC} L_{BC} + \\lambda_{data} L_{data} $$\n",
    "пояснение по выбору M,K,P,N пусть \n",
    "K - число пропорциональное кол-ву шагов дискретизации по времени, \n",
    "P - число пропорциональное кол-ву шагов дискретизации по пространству (в данном случае одномерному)\n",
    "тогда \n",
    "M - будет числом пропорциональным K*P кол-ву шагов дискретизации внутренней области определения\n",
    "N - кол-во возможных экспериментальных данных, которые попадают во внутреннюю область \\\n",
    "Таким образом:\n",
    "1. Решаем ПРЯМУЮ ЗАДАЧУ - на выходе получаем PINN физической модели (аппроксимацию дифференциального уравнения в частных производных с учетом нач. и гр. условий)\n",
    "$$ L_{phys} = \\lambda_{PDE} L_{PDE} + \\lambda_{IC} L_{IC} + \\lambda_{BC} L_{BC} $$\n",
    "3. Решаем ОБРАТНУЮ ЗАДАЧУ - дополнительно к аппроксимации физической модели $ N_u(x,t) $ добавляем в уравнение аппроксимацию, например, коэффициента теплопроводности $ N_k(x) $ и решаем задачу оптимизации двух PINN сетей  "
   ]
  },
  {
   "cell_type": "markdown",
   "id": "06ef0923-b2bc-46b2-9468-0dd0a2b254e5",
   "metadata": {},
   "source": [
    "Пояснение по виду лоссов: $ loss = \\frac{1}{N} \\sum_{j=1}^N ||x||^2  $, где ||*|| - Евклидова норма. \\\n",
    "Если x - вектор независимых параметров, т.е. $ x \\in \\{x_1, x_2, ..., x_n\\} $\n",
    "то $ ||x|| = \\sqrt {x_1^2 + x_2^2 + ... x_n^2} $ (длина n-мерного вектора)  или $ ||x||^2 = \\sum_{i=1}^n x_i^2 $, тогда:\n",
    "$ loss =  \\frac{1}{N} \\sum_{j=1}^N (\\sum_{i=1}^n x_i^2) $, где первая сумма (справа) - длина n-мерного вектора в квадрате,\n",
    "а вторая сумма (слева) - среднее значение N длин в квадрате n-мерных векторов \\\n",
    "Если x - это скаляр, тогда: $ loss = \\frac{1}{N} \\sum_{j=1}^N (x^2) $"
   ]
  },
  {
   "cell_type": "markdown",
   "id": "439210de-c544-419e-80c6-99204b2d919e",
   "metadata": {},
   "source": [
    "# ПРИМЕР\n",
    "## 1. ПРЯМАЯ ЗАДАЧА\n",
    "### Пусть исходные данные следующие:\n",
    "$$ x \\in [0,1], \\, t \\in [0,1] $$\n",
    "$$ u(0,t) = u(L,t)=0 $$\n",
    "$$ u(x,0) = sin(\\pi * x) $$\n",
    "$$ k(x) = k_a \\, cos(2 \\pi x) + k_b $$ \n",
    "$$ \\frac{\\partial k(x)}{\\partial x} = - k_a 2 \\pi \\, sin(2 \\pi x) $$\n",
    "$$ f(x,t) = 0 $$\n",
    "Значения $ k_a $ и $ k_b $ такие, что $ k(x) $ положителен на всем интервале x тогда:\n",
    "### Partial Differential Equation loss:\n",
    "$$\n",
    "L_{PDE} = \\frac{1}{M} \\sum_{j=1}^M || \\frac{\\partial N_u(x,t)}{\\partial t} + k_a 2 \\pi \\, sin(2 \\pi x)*\\frac{\\partial N_u(x,t)}{\\partial x} - (k_a \\, cos(2 \\pi x) + k_b) *\\frac{\\partial^2 N_u(x,t)}{\\partial x^2} ||^2\n",
    "$$ \n",
    "$$ x \\in (0;L), t \\in (0;T] $$\n",
    "### Initial condition loss:\n",
    "$$ L_{IC} = \\frac{1}{K} \\sum_{j=1}^K || N_u(x,0) - sin(\\pi * x) ||^2 $$\n",
    "$$ x \\in [0;L], t = 0 $$\n",
    "### Boundary condition loss:\n",
    "$$ L_{BC} = \\frac{1}{P} (\\sum_{j=1}^P || N_u(0,t) ||^2 + \\sum_{j=1}^P || N_u(L,t) ||^2) $$\n",
    "$$ x=\\{0,L\\}, t \\in (0;T] $$"
   ]
  },
  {
   "cell_type": "markdown",
   "id": "8530f509-3f15-4a3d-9bae-797cfe25ea1d",
   "metadata": {
    "editable": true,
    "slideshow": {
     "slide_type": ""
    },
    "tags": []
   },
   "source": [
    "# 1.1 Создаем PDE нейроную сеть\n",
    "### 2 (вход) -> 5 (1-ый внутр.слой) -> 5 (2-ой внутр.слой) -> 1 (выход)"
   ]
  },
  {
   "cell_type": "code",
   "execution_count": 157,
   "id": "1400555e-e269-4529-ba74-bd61586d0133",
   "metadata": {},
   "outputs": [],
   "source": [
    "# Создаем нейросеть 2->5->5->1\n",
    "import torch\n",
    "import torch.nn as nn\n",
    "\n",
    "class Nu( nn.Module ):\n",
    "    def __init__(self):\n",
    "        super().__init__()\n",
    "        self.fc = nn.Sequential(\n",
    "            nn.Linear(2,5),\n",
    "            nn.Sigmoid(),\n",
    "            nn.Linear(5,5),\n",
    "            nn.Sigmoid(),\n",
    "            nn.Linear(5,1)\n",
    "        )\n",
    "\n",
    "    def forward(self, x, t):\n",
    "        return self.fc( torch.cat([x, t], dim=1) ) # self.layers()"
   ]
  },
  {
   "cell_type": "code",
   "execution_count": 2,
   "id": "c315ad1d-bb6e-4542-b529-419f5bd05e65",
   "metadata": {},
   "outputs": [
    {
     "data": {
      "text/plain": [
       "Nu(\n",
       "  (fc): Sequential(\n",
       "    (0): Linear(in_features=2, out_features=5, bias=True)\n",
       "    (1): Sigmoid()\n",
       "    (2): Linear(in_features=5, out_features=5, bias=True)\n",
       "    (3): Sigmoid()\n",
       "    (4): Linear(in_features=5, out_features=1, bias=True)\n",
       "  )\n",
       ")"
      ]
     },
     "execution_count": 2,
     "metadata": {},
     "output_type": "execute_result"
    }
   ],
   "source": [
    "u_net = Nu()\n",
    "u_net"
   ]
  },
  {
   "cell_type": "markdown",
   "id": "0357a30b-c37f-46d1-9940-6f7202b998b7",
   "metadata": {},
   "source": [
    "# 1.2 Проверка работы нейросети (вручную проходим от входа на выход по всем слоям)\n",
    "### 1.2.1 2 нейрона (вход) -> 5 нейронов (1-ый внутр.слой)\n",
    "$$\n",
    "h_i = Sigmoid(\\sum_{j=1}^2 w_{ij}x_j + b_i), i = 1,2,3,4,5\n",
    "$$\n",
    "\n",
    "или в матричном кратком виде: $ h = Sigmoid(W*x+b) $, или в матричном полном виде:\n",
    "$$\n",
    "\\begin{vmatrix}\n",
    "h_1 \\\\\n",
    "h_2 \\\\\n",
    "h_3 \\\\\n",
    "h_4 \\\\\n",
    "h_5\n",
    "\\end{vmatrix} \\quad = \\quad\n",
    "Sigmoid\n",
    "\\begin{pmatrix}\n",
    "\\begin{vmatrix}\n",
    "w_{11} & w_{12} \\\\\n",
    "w_{21} & w_{22} \\\\\n",
    "w_{31} & w_{32} \\\\\n",
    "w_{41} & w_{42} \\\\\n",
    "w_{51} & w_{52}\n",
    "\\end{vmatrix} *\n",
    "\\begin{vmatrix}\n",
    "x_1 \\\\\n",
    "x_2\n",
    "\\end{vmatrix} \\quad + \\quad\n",
    "\\begin{vmatrix}\n",
    "b_1 \\\\\n",
    "b_2 \\\\\n",
    "b_3 \\\\\n",
    "b_4 \\\\\n",
    "b_5\n",
    "\\end{vmatrix}\n",
    "\\end{pmatrix}\n",
    "$$"
   ]
  },
  {
   "cell_type": "code",
   "execution_count": 3,
   "id": "a124f725-7fef-439d-b570-8a853a501c92",
   "metadata": {},
   "outputs": [
    {
     "data": {
      "text/plain": [
       "tensor([[0.1000],\n",
       "        [0.2000]])"
      ]
     },
     "execution_count": 3,
     "metadata": {},
     "output_type": "execute_result"
    }
   ],
   "source": [
    "xt = torch.tensor([0.1, 0.2]).view(-1,1)\n",
    "xt"
   ]
  },
  {
   "cell_type": "code",
   "execution_count": 4,
   "id": "59e928a0-341e-477c-b160-0780c511a2c4",
   "metadata": {},
   "outputs": [
    {
     "name": "stdout",
     "output_type": "stream",
     "text": [
      "Parameter containing:\n",
      "tensor([[-0.4795,  0.3403],\n",
      "        [-0.3763, -0.4927],\n",
      "        [ 0.0390, -0.1309],\n",
      "        [ 0.2942,  0.3787],\n",
      "        [-0.5467, -0.5960]], requires_grad=True)\n",
      "Parameter containing:\n",
      "tensor([-0.4967, -0.5521,  0.1468, -0.1301,  0.6784], requires_grad=True)\n"
     ]
    }
   ],
   "source": [
    "# 2-> 5\n",
    "print(u_net.fc[0].weight)\n",
    "print(u_net.fc[0].bias)"
   ]
  },
  {
   "cell_type": "code",
   "execution_count": 5,
   "id": "9f9d897e-0155-4e36-942d-b3cfe6c99c8d",
   "metadata": {},
   "outputs": [
    {
     "data": {
      "text/plain": [
       "tensor([[0.3831],\n",
       "        [0.3344],\n",
       "        [0.5311],\n",
       "        [0.4938],\n",
       "        [0.6235]], grad_fn=<SigmoidBackward0>)"
      ]
     },
     "execution_count": 5,
     "metadata": {},
     "output_type": "execute_result"
    }
   ],
   "source": [
    "# h = Sigmoid( W(1)x+b(1) )\n",
    "h = torch.sigmoid( u_net.fc[0].weight @ xt + u_net.fc[0].bias.view(-1,1) )\n",
    "h"
   ]
  },
  {
   "cell_type": "markdown",
   "id": "b016ae05-5944-438b-805a-86e530446006",
   "metadata": {},
   "source": [
    "### 1.2.2 5 нейронов (1-ый внутр.слой) -> 5 нейронов (2-ый внутр.слой)\n",
    "$$\n",
    "g_i = Sigmoid(\\sum_{j=1}^5 w_{ij}h_j + b_i), i = 1,2,3,4,5\n",
    "$$\n",
    "\n",
    "или в матричном кратком виде: $ g = Sigmoid(W*h+b) $, или в матричном полном виде:\n",
    "$$\n",
    "\\begin{vmatrix}\n",
    "g_1 \\\\\n",
    "g_2 \\\\\n",
    "g_3 \\\\\n",
    "g_4 \\\\\n",
    "g_5\n",
    "\\end{vmatrix} \\quad = \\quad\n",
    "Sigmoid\n",
    "\\begin{pmatrix}\n",
    "\\begin{vmatrix}\n",
    "w_{11} & w_{12} & w_{13} & w_{14} & w_{15} \\\\\n",
    "w_{21} & w_{22} & w_{23} & w_{24} & w_{25} \\\\\n",
    "w_{31} & w_{32} & w_{33} & w_{34} & w_{35} \\\\\n",
    "w_{41} & w_{42} & w_{43} & w_{44} & w_{45} \\\\\n",
    "w_{51} & w_{52} & w_{53} & w_{54} & w_{55} \n",
    "\\end{vmatrix} *\n",
    "\\begin{vmatrix}\n",
    "h_1 \\\\\n",
    "h_2 \\\\\n",
    "h_3 \\\\\n",
    "h_4 \\\\\n",
    "h_5\n",
    "\\end{vmatrix} \\quad + \\quad\n",
    "\\begin{vmatrix}\n",
    "b_1 \\\\\n",
    "b_2 \\\\\n",
    "b_3 \\\\\n",
    "b_4 \\\\\n",
    "b_5\n",
    "\\end{vmatrix}\n",
    "\\end{pmatrix}\n",
    "$$"
   ]
  },
  {
   "cell_type": "code",
   "execution_count": 6,
   "id": "531df2ed-c8ea-4cf6-9e2c-ba50ed65f3ce",
   "metadata": {},
   "outputs": [
    {
     "name": "stdout",
     "output_type": "stream",
     "text": [
      "Parameter containing:\n",
      "tensor([[ 0.4354, -0.0724,  0.1701, -0.0844,  0.2248],\n",
      "        [ 0.0143,  0.1305, -0.2089, -0.2649, -0.0050],\n",
      "        [ 0.2011,  0.2949, -0.1751, -0.1172,  0.1893],\n",
      "        [-0.3732, -0.1191,  0.0537, -0.1866,  0.3873],\n",
      "        [-0.1094, -0.2626, -0.1889, -0.1121, -0.0229]], requires_grad=True)\n",
      "Parameter containing:\n",
      "tensor([-0.1107,  0.1485, -0.2241, -0.0726, -0.2749], requires_grad=True)\n"
     ]
    }
   ],
   "source": [
    "# 5-> 5\n",
    "print(u_net.fc[2].weight)\n",
    "print(u_net.fc[2].bias)"
   ]
  },
  {
   "cell_type": "code",
   "execution_count": 7,
   "id": "064fbc0d-b338-426d-a6b8-c35ea635bc40",
   "metadata": {},
   "outputs": [
    {
     "data": {
      "text/plain": [
       "tensor([[0.5549],\n",
       "        [0.4882],\n",
       "        [0.4797],\n",
       "        [0.4806],\n",
       "        [0.3602]], grad_fn=<SigmoidBackward0>)"
      ]
     },
     "execution_count": 7,
     "metadata": {},
     "output_type": "execute_result"
    }
   ],
   "source": [
    "# g = Sigmoid( W(2)h+b(2) )\n",
    "g = torch.sigmoid( u_net.fc[2].weight @ h + u_net.fc[2].bias.view(-1,1) )\n",
    "g"
   ]
  },
  {
   "cell_type": "markdown",
   "id": "1a1a980c-b802-43f4-9565-60cd23f43467",
   "metadata": {},
   "source": [
    "### 1.2.3 5 нейронов (2-ый внутр.слой) -> 1 нейрон (выход)\n",
    "$$\n",
    "y_i = \\sum_{j=1}^5 w_{ij}g_j + b_i, i = 1\n",
    "$$\n",
    "\n",
    "или в матричном кратком виде: $ y = W*g+b $, или в матричном полном виде:\n",
    "$$\n",
    "\\begin{vmatrix}\n",
    "y_1\n",
    "\\end{vmatrix} \\quad = \\quad\n",
    "\\begin{vmatrix}\n",
    "w_{11} & w_{12} & w_{13} & w_{14} & w_{15} \\\\\n",
    "\\end{vmatrix} *\n",
    "\\begin{vmatrix}\n",
    "g_1 \\\\\n",
    "g_2 \\\\\n",
    "g_3 \\\\\n",
    "g_4 \\\\\n",
    "g_5\n",
    "\\end{vmatrix} \\quad + \\quad\n",
    "\\begin{vmatrix}\n",
    "b_1\n",
    "\\end{vmatrix}\n",
    "$$\n",
    "\n",
    "Обратите внимание, что функции активации нет, но могла бы быть. "
   ]
  },
  {
   "cell_type": "code",
   "execution_count": 8,
   "id": "8f2edd52-981f-454a-9946-a696514d0ba3",
   "metadata": {},
   "outputs": [
    {
     "name": "stdout",
     "output_type": "stream",
     "text": [
      "Parameter containing:\n",
      "tensor([[-0.3696, -0.1404,  0.4456,  0.3393, -0.0386]], requires_grad=True)\n",
      "Parameter containing:\n",
      "tensor([-0.3989], requires_grad=True)\n"
     ]
    }
   ],
   "source": [
    "# 5 -> 1\n",
    "print(u_net.fc[4].weight)\n",
    "print(u_net.fc[4].bias)"
   ]
  },
  {
   "cell_type": "code",
   "execution_count": 9,
   "id": "a9f51531-2720-4965-a351-2960919620f4",
   "metadata": {},
   "outputs": [
    {
     "data": {
      "text/plain": [
       "tensor([[-0.3097]], grad_fn=<AddBackward0>)"
      ]
     },
     "execution_count": 9,
     "metadata": {},
     "output_type": "execute_result"
    }
   ],
   "source": [
    "# y = W(3)g+b(3)\n",
    "y = u_net.fc[4].weight @ g + u_net.fc[4].bias.view(-1,1)\n",
    "y"
   ]
  },
  {
   "cell_type": "markdown",
   "id": "ce94d001-7036-42db-8e5a-950c88e9539c",
   "metadata": {},
   "source": [
    "# 1.3 Проверка ручных вычислений с автоматическим (передачей параметров в нейроную сеть)"
   ]
  },
  {
   "cell_type": "code",
   "execution_count": 10,
   "id": "e9236b81-59f9-4edb-8fdb-717b29ea9bb9",
   "metadata": {
    "editable": true,
    "slideshow": {
     "slide_type": ""
    },
    "tags": []
   },
   "outputs": [
    {
     "name": "stdout",
     "output_type": "stream",
     "text": [
      "tensor([[0.1000, 0.2000]])\n"
     ]
    },
    {
     "data": {
      "text/plain": [
       "tensor([[-0.3097]], grad_fn=<AddmmBackward0>)"
      ]
     },
     "execution_count": 10,
     "metadata": {},
     "output_type": "execute_result"
    }
   ],
   "source": [
    "# придется входные данные представить немного в ином виде, т.к. в модели нейронки Nu параметры передаются\n",
    "# в пакетном batch режиме\n",
    "x_batch = xt[0].view(-1,1)\n",
    "t_batch = xt[1].view(-1,1)\n",
    "print(torch.cat([x_batch,t_batch], dim=1))\n",
    "# предсказания, на данном этапе нейронка инициализируется каким-то начальными значениями, \n",
    "# соответсвенно предсказание носит некий случайный характер в начале\n",
    "u_pred = u_net(x_batch,t_batch)\n",
    "u_pred"
   ]
  },
  {
   "cell_type": "code",
   "execution_count": 11,
   "id": "a6996b80-5642-444f-9231-93856d75fd1e",
   "metadata": {},
   "outputs": [
    {
     "name": "stdout",
     "output_type": "stream",
     "text": [
      "OK\n"
     ]
    }
   ],
   "source": [
    "if y == u_pred:\n",
    "    print(\"OK\")\n",
    "else:\n",
    "    print(\"FAILED\")"
   ]
  },
  {
   "cell_type": "markdown",
   "id": "955a077f-4f7e-4e66-a1f5-e06f7e83575d",
   "metadata": {},
   "source": [
    "# 1.4 Задаем области определения"
   ]
  },
  {
   "cell_type": "markdown",
   "id": "23ec53b7-c5cd-4a11-a9cb-c6995eb28a08",
   "metadata": {},
   "source": [
    "Пусть вся область будет 10х10, из них:\n",
    "1. внутрення область - 8х9 = 72\n",
    "2. начальные условия - 10х1 = 10\n",
    "3. граничные условия - 9х1х2 = 18"
   ]
  },
  {
   "cell_type": "markdown",
   "id": "9c1785e5-d230-461b-b2c6-e472adbd2b74",
   "metadata": {},
   "source": [
    "### $ x \\in (0,1) \\, , t \\in (0,1] $"
   ]
  },
  {
   "cell_type": "code",
   "execution_count": 158,
   "id": "6898a1c5-5635-4d73-bb3c-8898cc3fcf49",
   "metadata": {},
   "outputs": [
    {
     "data": {
      "text/plain": [
       "tensor([0.1111, 0.2222, 0.3333, 0.4444, 0.5556, 0.6667, 0.7778, 0.8889])"
      ]
     },
     "execution_count": 158,
     "metadata": {},
     "output_type": "execute_result"
    }
   ],
   "source": [
    "temp = torch.linspace(0,1,10)[1:9]\n",
    "temp"
   ]
  },
  {
   "cell_type": "code",
   "execution_count": 159,
   "id": "f12af9f8-23b7-49bd-9836-92aea5c6fc91",
   "metadata": {},
   "outputs": [
    {
     "data": {
      "text/plain": [
       "torch.Size([72, 1])"
      ]
     },
     "execution_count": 159,
     "metadata": {},
     "output_type": "execute_result"
    }
   ],
   "source": [
    "temp = torch.linspace(0,1,10)[1:9]\n",
    "x_batch_pde = torch.empty(0)\n",
    "\n",
    "for x in temp:\n",
    "    x_batch_pde = torch.cat( [x_batch_pde, x * torch.ones(9) ])\n",
    "x_batch_pde = x_batch_pde.view(-1,1)\n",
    "x_batch_pde.requires_grad = True\n",
    "x_batch_pde.size()"
   ]
  },
  {
   "cell_type": "code",
   "execution_count": 160,
   "id": "142f040e-b2e3-45ff-ab63-3833c30905d6",
   "metadata": {},
   "outputs": [
    {
     "data": {
      "text/plain": [
       "torch.Size([72, 1])"
      ]
     },
     "execution_count": 160,
     "metadata": {},
     "output_type": "execute_result"
    }
   ],
   "source": [
    "t_batch_pde = torch.empty(0)\n",
    "\n",
    "for i in temp:\n",
    "    t_batch_pde = torch.cat( [ t_batch_pde, torch.linspace(0,1,10)[1:10] ] )\n",
    "t_batch_pde = t_batch_pde.view(-1,1)\n",
    "t_batch_pde.requires_grad = True\n",
    "t_batch_pde.size()"
   ]
  },
  {
   "cell_type": "code",
   "execution_count": 161,
   "id": "9b26525b-e42e-413d-a973-0968dec87dc0",
   "metadata": {},
   "outputs": [
    {
     "data": {
      "text/plain": [
       "torch.Size([72, 2])"
      ]
     },
     "execution_count": 161,
     "metadata": {},
     "output_type": "execute_result"
    }
   ],
   "source": [
    "torch.cat( [ x_batch_pde, t_batch_pde], dim=1 ).size()"
   ]
  },
  {
   "cell_type": "markdown",
   "id": "9026b1fe-78ad-4dd2-825d-0554d711430b",
   "metadata": {},
   "source": [
    "### $ x \\in [0,1] \\, , t=0 $"
   ]
  },
  {
   "cell_type": "code",
   "execution_count": 162,
   "id": "6bcee84d-36a4-406e-9c99-a385325d77ba",
   "metadata": {},
   "outputs": [
    {
     "data": {
      "text/plain": [
       "torch.Size([10, 2])"
      ]
     },
     "execution_count": 162,
     "metadata": {},
     "output_type": "execute_result"
    }
   ],
   "source": [
    "x_batch_ic = torch.linspace(0,1,10).view(-1,1)\n",
    "t_batch_ic = torch.zeros(10).view(-1,1)\n",
    "\n",
    "x_batch_ic.requires_grad = True\n",
    "t_batch_ic.requires_grad = True\n",
    "\n",
    "torch.cat([x_batch_ic, t_batch_ic], dim=1).size()"
   ]
  },
  {
   "cell_type": "markdown",
   "id": "6726ee59-c60e-4def-b9e5-35895e8ed851",
   "metadata": {},
   "source": [
    "### $ x \\in \\{0,1\\} \\, , t \\in (0,1] $"
   ]
  },
  {
   "cell_type": "code",
   "execution_count": 163,
   "id": "93efde92-c456-423e-9349-025b52eb988b",
   "metadata": {},
   "outputs": [
    {
     "data": {
      "text/plain": [
       "torch.Size([18, 2])"
      ]
     },
     "execution_count": 163,
     "metadata": {},
     "output_type": "execute_result"
    }
   ],
   "source": [
    "x_batch_bc = torch.cat( [torch.zeros(9).view(-1,1), torch.ones(9).view(-1,1)])\n",
    "t_batch_bc = torch.cat( [torch.linspace(0,1,10)[1:10].view(-1,1), torch.linspace(0,1,10)[1:10].view(-1,1)] )\n",
    "\n",
    "x_batch_bc.requires_grad = True\n",
    "t_batch_bc.requires_grad = True\n",
    "\n",
    "torch.cat([x_batch_bc, t_batch_bc], dim=1).size()"
   ]
  },
  {
   "cell_type": "markdown",
   "id": "b41c377a-6b8b-41ff-a51a-0a5852708a4b",
   "metadata": {},
   "source": [
    "### Полная область определения"
   ]
  },
  {
   "cell_type": "code",
   "execution_count": 164,
   "id": "f0bd0de0-5a3f-4862-b613-9caa3a757e9a",
   "metadata": {},
   "outputs": [
    {
     "data": {
      "text/plain": [
       "torch.Size([100, 2])"
      ]
     },
     "execution_count": 164,
     "metadata": {},
     "output_type": "execute_result"
    }
   ],
   "source": [
    "x_batch = torch.cat([x_batch_pde, x_batch_ic, x_batch_bc])\n",
    "t_batch = torch.cat([t_batch_pde, t_batch_ic, t_batch_bc])\n",
    "\n",
    "torch.cat([x_batch, t_batch], dim=1).size()"
   ]
  },
  {
   "cell_type": "code",
   "execution_count": 165,
   "id": "0052955e-17f2-48a2-8655-0289a2bb8e15",
   "metadata": {},
   "outputs": [],
   "source": [
    "u_net = Nu()"
   ]
  },
  {
   "cell_type": "code",
   "execution_count": 166,
   "id": "6a49192b-da82-4586-9c28-8633655bbef8",
   "metadata": {},
   "outputs": [],
   "source": [
    "optimizer = torch.optim.Adam( u_net.parameters(), lr=1e-2 )"
   ]
  },
  {
   "cell_type": "markdown",
   "id": "61f25709-91d1-489f-9c9d-f6ea45a0d88f",
   "metadata": {},
   "source": [
    "# 1.5 Обучение"
   ]
  },
  {
   "cell_type": "code",
   "execution_count": 167,
   "id": "2360e264-e07d-42ee-9ee2-4eacd355045e",
   "metadata": {},
   "outputs": [
    {
     "name": "stdout",
     "output_type": "stream",
     "text": [
      "Epoch [0/10000], Loss: 0.34080, loss pde: 0.00002, loss ic: 0.32642, loss bc: 0.01436\n",
      "Epoch [20/10000], Loss: 0.28727, loss pde: 0.00027, loss ic: 0.22857, loss bc: 0.05843\n",
      "Epoch [40/10000], Loss: 0.27943, loss pde: 0.00159, loss ic: 0.21015, loss bc: 0.06769\n",
      "Epoch [60/10000], Loss: 0.27331, loss pde: 0.00603, loss ic: 0.19866, loss bc: 0.06862\n",
      "Epoch [80/10000], Loss: 0.27073, loss pde: 0.01340, loss ic: 0.19118, loss bc: 0.06615\n",
      "Epoch [100/10000], Loss: 0.26992, loss pde: 0.01537, loss ic: 0.19038, loss bc: 0.06417\n",
      "Epoch [120/10000], Loss: 0.26894, loss pde: 0.01453, loss ic: 0.19038, loss bc: 0.06403\n",
      "Epoch [140/10000], Loss: 0.26751, loss pde: 0.01512, loss ic: 0.18912, loss bc: 0.06327\n",
      "Epoch [160/10000], Loss: 0.26478, loss pde: 0.01562, loss ic: 0.18709, loss bc: 0.06208\n",
      "Epoch [180/10000], Loss: 0.25906, loss pde: 0.01547, loss ic: 0.18305, loss bc: 0.06054\n",
      "Epoch [200/10000], Loss: 0.24840, loss pde: 0.01451, loss ic: 0.17516, loss bc: 0.05872\n",
      "Epoch [220/10000], Loss: 0.23339, loss pde: 0.01210, loss ic: 0.16329, loss bc: 0.05800\n",
      "Epoch [240/10000], Loss: 0.21333, loss pde: 0.00842, loss ic: 0.14963, loss bc: 0.05528\n",
      "Epoch [260/10000], Loss: 0.17065, loss pde: 0.00153, loss ic: 0.12609, loss bc: 0.04303\n",
      "Epoch [280/10000], Loss: 0.11564, loss pde: 0.00000, loss ic: 0.08476, loss bc: 0.03087\n",
      "Epoch [300/10000], Loss: 0.07531, loss pde: 0.00007, loss ic: 0.05104, loss bc: 0.02419\n",
      "Epoch [320/10000], Loss: 0.03663, loss pde: 0.00000, loss ic: 0.02353, loss bc: 0.01309\n",
      "Epoch [340/10000], Loss: 0.01387, loss pde: 0.00002, loss ic: 0.00785, loss bc: 0.00600\n",
      "Epoch [360/10000], Loss: 0.00756, loss pde: 0.00018, loss ic: 0.00430, loss bc: 0.00308\n",
      "Epoch [380/10000], Loss: 0.00616, loss pde: 0.00005, loss ic: 0.00401, loss bc: 0.00210\n",
      "Epoch [400/10000], Loss: 0.00547, loss pde: 0.00001, loss ic: 0.00371, loss bc: 0.00175\n",
      "Epoch [420/10000], Loss: 0.00484, loss pde: 0.00000, loss ic: 0.00333, loss bc: 0.00151\n",
      "Epoch [440/10000], Loss: 0.00423, loss pde: 0.00000, loss ic: 0.00296, loss bc: 0.00128\n",
      "Epoch [460/10000], Loss: 0.00367, loss pde: 0.00000, loss ic: 0.00261, loss bc: 0.00106\n",
      "Epoch [480/10000], Loss: 0.00317, loss pde: 0.00000, loss ic: 0.00229, loss bc: 0.00087\n",
      "Epoch [500/10000], Loss: 0.00273, loss pde: 0.00000, loss ic: 0.00201, loss bc: 0.00072\n",
      "Epoch [520/10000], Loss: 0.00235, loss pde: 0.00000, loss ic: 0.00176, loss bc: 0.00059\n",
      "Epoch [540/10000], Loss: 0.00203, loss pde: 0.00000, loss ic: 0.00154, loss bc: 0.00049\n",
      "Epoch [560/10000], Loss: 0.00177, loss pde: 0.00000, loss ic: 0.00135, loss bc: 0.00042\n",
      "Epoch [580/10000], Loss: 0.00154, loss pde: 0.00000, loss ic: 0.00119, loss bc: 0.00035\n",
      "Epoch [600/10000], Loss: 0.00135, loss pde: 0.00000, loss ic: 0.00105, loss bc: 0.00031\n",
      "Epoch [620/10000], Loss: 0.00120, loss pde: 0.00000, loss ic: 0.00093, loss bc: 0.00027\n",
      "Epoch [640/10000], Loss: 0.00106, loss pde: 0.00000, loss ic: 0.00082, loss bc: 0.00024\n",
      "Epoch [660/10000], Loss: 0.00095, loss pde: 0.00000, loss ic: 0.00073, loss bc: 0.00021\n",
      "Epoch [680/10000], Loss: 0.00085, loss pde: 0.00000, loss ic: 0.00066, loss bc: 0.00019\n",
      "Epoch [700/10000], Loss: 0.00076, loss pde: 0.00000, loss ic: 0.00059, loss bc: 0.00017\n",
      "Epoch [720/10000], Loss: 0.00068, loss pde: 0.00000, loss ic: 0.00053, loss bc: 0.00015\n",
      "Epoch [740/10000], Loss: 0.00062, loss pde: 0.00000, loss ic: 0.00048, loss bc: 0.00014\n",
      "Epoch [760/10000], Loss: 0.00057, loss pde: 0.00001, loss ic: 0.00044, loss bc: 0.00012\n",
      "Epoch [780/10000], Loss: 0.00051, loss pde: 0.00000, loss ic: 0.00040, loss bc: 0.00011\n",
      "Epoch [800/10000], Loss: 0.00046, loss pde: 0.00000, loss ic: 0.00036, loss bc: 0.00010\n",
      "Epoch [820/10000], Loss: 0.00042, loss pde: 0.00000, loss ic: 0.00033, loss bc: 0.00009\n",
      "Epoch [840/10000], Loss: 0.00038, loss pde: 0.00000, loss ic: 0.00030, loss bc: 0.00008\n",
      "Epoch [860/10000], Loss: 0.00034, loss pde: 0.00000, loss ic: 0.00027, loss bc: 0.00007\n",
      "Epoch [880/10000], Loss: 0.00031, loss pde: 0.00000, loss ic: 0.00025, loss bc: 0.00006\n",
      "Epoch [900/10000], Loss: 0.00028, loss pde: 0.00000, loss ic: 0.00023, loss bc: 0.00006\n",
      "Epoch [920/10000], Loss: 0.00026, loss pde: 0.00000, loss ic: 0.00021, loss bc: 0.00005\n",
      "Epoch [940/10000], Loss: 0.00025, loss pde: 0.00001, loss ic: 0.00019, loss bc: 0.00005\n",
      "Epoch [960/10000], Loss: 0.00022, loss pde: 0.00000, loss ic: 0.00018, loss bc: 0.00004\n",
      "Epoch [980/10000], Loss: 0.00020, loss pde: 0.00000, loss ic: 0.00016, loss bc: 0.00004\n",
      "Epoch [1000/10000], Loss: 0.00019, loss pde: 0.00000, loss ic: 0.00015, loss bc: 0.00004\n",
      "Epoch [1020/10000], Loss: 0.00017, loss pde: 0.00000, loss ic: 0.00014, loss bc: 0.00003\n",
      "Epoch [1040/10000], Loss: 0.00016, loss pde: 0.00000, loss ic: 0.00013, loss bc: 0.00003\n",
      "Epoch [1060/10000], Loss: 0.00015, loss pde: 0.00000, loss ic: 0.00012, loss bc: 0.00003\n",
      "Epoch [1080/10000], Loss: 0.00014, loss pde: 0.00000, loss ic: 0.00011, loss bc: 0.00002\n",
      "Epoch [1100/10000], Loss: 0.00024, loss pde: 0.00010, loss ic: 0.00011, loss bc: 0.00003\n",
      "Epoch [1120/10000], Loss: 0.00013, loss pde: 0.00001, loss ic: 0.00010, loss bc: 0.00002\n",
      "Epoch [1140/10000], Loss: 0.00011, loss pde: 0.00000, loss ic: 0.00009, loss bc: 0.00002\n",
      "Epoch [1160/10000], Loss: 0.00011, loss pde: 0.00000, loss ic: 0.00009, loss bc: 0.00002\n",
      "stop optimization\n"
     ]
    }
   ],
   "source": [
    "# параметры для расчета loss_pde\n",
    "#ka, kb = 0.02, 0.1\n",
    "ka, kb = 0.00, 0.3\n",
    "# весовые коэффициенты для общего loss\n",
    "alpha_pde, alpha_ic, alpha_bc = 1.,1.,1.\n",
    "# обучение\n",
    "MAX = 10000\n",
    "for epoch in range(MAX):\n",
    "    # ---------------------------------- ПРЕДИКТИВНЫЕ ДАННЫЕ ПО ВСЕЙ ОБЛАСТИ ОПРЕДЕЛЕНИЯ ----------------\n",
    "    u_pred = u_net(x_batch,t_batch)\n",
    "    # ---------------------------------- LOSS PDE ----------------\n",
    "    u_pred_pde = u_pred[0:72]\n",
    "    # du/dx, du/dt\n",
    "    [du_dx, du_dt] = torch.autograd.grad(u_pred_pde, inputs=[x_batch_pde, t_batch_pde], grad_outputs=torch.ones_like(x_batch_pde), create_graph=True, retain_graph=True)\n",
    "    # d2u/dx2\n",
    "    [d2u_dx2, du_dxdt] = torch.autograd.grad(du_dx, inputs=[x_batch_pde, t_batch_pde], grad_outputs=torch.ones_like(x_batch_pde), create_graph=True, retain_graph=True)\n",
    "    # loss pde\n",
    "    loss_pde = torch.mean((du_dt[0] + ka*2*torch.pi*torch.sin(2*torch.pi*x_batch_pde)*du_dx[0] - (ka*torch.cos(2*torch.pi*x_batch_pde) +kb)*d2u_dx2[0])**2)\n",
    "    # ---------------------------------- LOSS IC -----------------\n",
    "    u_pred_ic = u_pred[72:82]\n",
    "    loss_ic = torch.mean( (u_pred_ic - torch.sin(torch.pi*x_batch_ic))**2 )\n",
    "    # ---------------------------------- LOSS BC -----------------\n",
    "    u_pred_bc = u_pred[82:100]\n",
    "    loss_bc = torch.mean( (u_pred_bc)**2 )\n",
    "    # ---------------------------------- LOSS COMMON -------------\n",
    "    loss = alpha_pde * loss_pde + alpha_ic * loss_ic + alpha_bc * loss_bc\n",
    "    # стираем предыдущий граф градиента\n",
    "    optimizer.zero_grad()\n",
    "    # обратное распространение ошибки\n",
    "    loss.backward()\n",
    "    # записываем новые коэфициента\n",
    "    optimizer.step()\n",
    "    if epoch % 20 == 0:\n",
    "        print(f'Epoch [{epoch}/{MAX}], Loss: {loss.item():.5f}, loss pde: {loss_pde.item():.5f}, loss ic: {loss_ic.item():.5f}, loss bc: {loss_bc.item():.5f}')\n",
    "    if loss < 0.0001:\n",
    "        print('stop optimization')\n",
    "        break"
   ]
  },
  {
   "cell_type": "markdown",
   "id": "bf17c82c-24db-4aea-8edf-3fd3607d429b",
   "metadata": {},
   "source": [
    "# 1.7 Проверка"
   ]
  },
  {
   "cell_type": "code",
   "execution_count": 168,
   "id": "acfe54f2-6f69-4757-9f62-41a215f14890",
   "metadata": {},
   "outputs": [],
   "source": [
    "u_res = u_net(x_batch,t_batch)"
   ]
  },
  {
   "cell_type": "code",
   "execution_count": 169,
   "id": "a08f8483-b43c-40f9-bd4f-156ca936ea15",
   "metadata": {},
   "outputs": [
    {
     "data": {
      "text/plain": [
       "tensor([[0.0085],\n",
       "        [0.3271],\n",
       "        [0.6375],\n",
       "        [0.8682],\n",
       "        [0.9865],\n",
       "        [0.9878],\n",
       "        [0.8726],\n",
       "        [0.6424],\n",
       "        [0.3284],\n",
       "        [0.0157]], grad_fn=<SliceBackward0>)"
      ]
     },
     "execution_count": 169,
     "metadata": {},
     "output_type": "execute_result"
    }
   ],
   "source": [
    "# Initial condition\n",
    "u_res[72:82]"
   ]
  },
  {
   "cell_type": "code",
   "execution_count": 170,
   "id": "8ce63d9d-a0e0-4b1d-915d-0100a98dc40a",
   "metadata": {},
   "outputs": [
    {
     "data": {
      "text/plain": [
       "tensor([[ 2.9820e-03],\n",
       "        [ 4.2717e-04],\n",
       "        [ 3.7041e-04],\n",
       "        [ 1.9187e-03],\n",
       "        [ 3.8484e-03],\n",
       "        [ 4.7753e-03],\n",
       "        [ 3.3801e-03],\n",
       "        [-1.3770e-03],\n",
       "        [-1.0132e-02],\n",
       "        [ 1.7371e-03],\n",
       "        [-5.5192e-03],\n",
       "        [-7.3167e-03],\n",
       "        [-5.3944e-03],\n",
       "        [-1.7130e-03],\n",
       "        [ 1.8685e-03],\n",
       "        [ 3.8783e-03],\n",
       "        [ 3.3889e-03],\n",
       "        [ 2.1130e-05]], grad_fn=<SliceBackward0>)"
      ]
     },
     "execution_count": 170,
     "metadata": {},
     "output_type": "execute_result"
    }
   ],
   "source": [
    "# Boundary condition\n",
    "u_res[82:100]"
   ]
  },
  {
   "cell_type": "code",
   "execution_count": 171,
   "id": "794ebe82-045e-4152-9932-c112837d5466",
   "metadata": {},
   "outputs": [
    {
     "data": {
      "text/plain": [
       "tensor([[0.3189, 0.3131, 0.3091, 0.3058, 0.3018, 0.2953, 0.2850, 0.2699, 0.2493],\n",
       "        [0.6316, 0.6276, 0.6245, 0.6209, 0.6150, 0.6050, 0.5893, 0.5668, 0.5371],\n",
       "        [0.8653, 0.8640, 0.8631, 0.8608, 0.8552, 0.8442, 0.8263, 0.8003, 0.7660],\n",
       "        [0.9831, 0.9811, 0.9791, 0.9754, 0.9678, 0.9544, 0.9337, 0.9048, 0.8674],\n",
       "        [0.9792, 0.9720, 0.9646, 0.9555, 0.9427, 0.9243, 0.8991, 0.8664, 0.8262],\n",
       "        [0.8550, 0.8390, 0.8236, 0.8071, 0.7879, 0.7643, 0.7354, 0.7008, 0.6604],\n",
       "        [0.6158, 0.5924, 0.5714, 0.5513, 0.5307, 0.5081, 0.4824, 0.4532, 0.4204],\n",
       "        [0.3018, 0.2810, 0.2649, 0.2521, 0.2407, 0.2291, 0.2160, 0.2006, 0.1825]],\n",
       "       grad_fn=<ViewBackward0>)"
      ]
     },
     "execution_count": 171,
     "metadata": {},
     "output_type": "execute_result"
    }
   ],
   "source": [
    "# PDE\n",
    "u_res[0:72].view(8,9)"
   ]
  },
  {
   "cell_type": "markdown",
   "id": "68d6246b-66bc-40ea-8993-dcd257874dca",
   "metadata": {},
   "source": [
    "## Создаем массивы для вывода на печать"
   ]
  },
  {
   "cell_type": "code",
   "execution_count": 172,
   "id": "e025c099-aa42-4ead-9627-a046c6149285",
   "metadata": {},
   "outputs": [
    {
     "data": {
      "text/plain": [
       "tensor([[0.0000, 0.1111, 0.2222, 0.3333, 0.4444, 0.5556, 0.6667, 0.7778, 0.8889,\n",
       "         1.0000],\n",
       "        [0.0000, 0.1111, 0.2222, 0.3333, 0.4444, 0.5556, 0.6667, 0.7778, 0.8889,\n",
       "         1.0000],\n",
       "        [0.0000, 0.1111, 0.2222, 0.3333, 0.4444, 0.5556, 0.6667, 0.7778, 0.8889,\n",
       "         1.0000],\n",
       "        [0.0000, 0.1111, 0.2222, 0.3333, 0.4444, 0.5556, 0.6667, 0.7778, 0.8889,\n",
       "         1.0000],\n",
       "        [0.0000, 0.1111, 0.2222, 0.3333, 0.4444, 0.5556, 0.6667, 0.7778, 0.8889,\n",
       "         1.0000],\n",
       "        [0.0000, 0.1111, 0.2222, 0.3333, 0.4444, 0.5556, 0.6667, 0.7778, 0.8889,\n",
       "         1.0000],\n",
       "        [0.0000, 0.1111, 0.2222, 0.3333, 0.4444, 0.5556, 0.6667, 0.7778, 0.8889,\n",
       "         1.0000],\n",
       "        [0.0000, 0.1111, 0.2222, 0.3333, 0.4444, 0.5556, 0.6667, 0.7778, 0.8889,\n",
       "         1.0000],\n",
       "        [0.0000, 0.1111, 0.2222, 0.3333, 0.4444, 0.5556, 0.6667, 0.7778, 0.8889,\n",
       "         1.0000],\n",
       "        [0.0000, 0.1111, 0.2222, 0.3333, 0.4444, 0.5556, 0.6667, 0.7778, 0.8889,\n",
       "         1.0000]])"
      ]
     },
     "execution_count": 172,
     "metadata": {},
     "output_type": "execute_result"
    }
   ],
   "source": [
    "x_plot = torch.ones(10,10) * torch.linspace(0,1,10)\n",
    "x_plot"
   ]
  },
  {
   "cell_type": "code",
   "execution_count": 173,
   "id": "1dc0119e-c6fd-4f95-bc43-469238ae86d8",
   "metadata": {},
   "outputs": [
    {
     "data": {
      "text/plain": [
       "tensor([[0.0000, 0.0000, 0.0000, 0.0000, 0.0000, 0.0000, 0.0000, 0.0000, 0.0000,\n",
       "         0.0000],\n",
       "        [0.1111, 0.1111, 0.1111, 0.1111, 0.1111, 0.1111, 0.1111, 0.1111, 0.1111,\n",
       "         0.1111],\n",
       "        [0.2222, 0.2222, 0.2222, 0.2222, 0.2222, 0.2222, 0.2222, 0.2222, 0.2222,\n",
       "         0.2222],\n",
       "        [0.3333, 0.3333, 0.3333, 0.3333, 0.3333, 0.3333, 0.3333, 0.3333, 0.3333,\n",
       "         0.3333],\n",
       "        [0.4444, 0.4444, 0.4444, 0.4444, 0.4444, 0.4444, 0.4444, 0.4444, 0.4444,\n",
       "         0.4444],\n",
       "        [0.5556, 0.5556, 0.5556, 0.5556, 0.5556, 0.5556, 0.5556, 0.5556, 0.5556,\n",
       "         0.5556],\n",
       "        [0.6667, 0.6667, 0.6667, 0.6667, 0.6667, 0.6667, 0.6667, 0.6667, 0.6667,\n",
       "         0.6667],\n",
       "        [0.7778, 0.7778, 0.7778, 0.7778, 0.7778, 0.7778, 0.7778, 0.7778, 0.7778,\n",
       "         0.7778],\n",
       "        [0.8889, 0.8889, 0.8889, 0.8889, 0.8889, 0.8889, 0.8889, 0.8889, 0.8889,\n",
       "         0.8889],\n",
       "        [1.0000, 1.0000, 1.0000, 1.0000, 1.0000, 1.0000, 1.0000, 1.0000, 1.0000,\n",
       "         1.0000]])"
      ]
     },
     "execution_count": 173,
     "metadata": {},
     "output_type": "execute_result"
    }
   ],
   "source": [
    "t_plot = torch.ones(10,10) * torch.linspace(0,1,10).view(-1,1)\n",
    "t_plot"
   ]
  },
  {
   "cell_type": "code",
   "execution_count": 174,
   "id": "e28101d7-9bcc-4717-8e07-5250858fef5b",
   "metadata": {},
   "outputs": [
    {
     "data": {
      "text/plain": [
       "tensor([[0., 0., 0., 0., 0., 0., 0., 0., 0., 0.],\n",
       "        [0., 0., 0., 0., 0., 0., 0., 0., 0., 0.],\n",
       "        [0., 0., 0., 0., 0., 0., 0., 0., 0., 0.],\n",
       "        [0., 0., 0., 0., 0., 0., 0., 0., 0., 0.],\n",
       "        [0., 0., 0., 0., 0., 0., 0., 0., 0., 0.],\n",
       "        [0., 0., 0., 0., 0., 0., 0., 0., 0., 0.],\n",
       "        [0., 0., 0., 0., 0., 0., 0., 0., 0., 0.],\n",
       "        [0., 0., 0., 0., 0., 0., 0., 0., 0., 0.],\n",
       "        [0., 0., 0., 0., 0., 0., 0., 0., 0., 0.],\n",
       "        [0., 0., 0., 0., 0., 0., 0., 0., 0., 0.]])"
      ]
     },
     "execution_count": 174,
     "metadata": {},
     "output_type": "execute_result"
    }
   ],
   "source": [
    "u_plot = torch.zeros(10,10)\n",
    "u_plot"
   ]
  },
  {
   "cell_type": "code",
   "execution_count": 175,
   "id": "8d3e5063-4023-4184-8065-ee6d0456eb63",
   "metadata": {},
   "outputs": [
    {
     "data": {
      "text/plain": [
       "tensor([[0.0085, 0.3271, 0.6375, 0.8682, 0.9865, 0.9878, 0.8726, 0.6424, 0.3284,\n",
       "         0.0157],\n",
       "        [0.0000, 0.0000, 0.0000, 0.0000, 0.0000, 0.0000, 0.0000, 0.0000, 0.0000,\n",
       "         0.0000],\n",
       "        [0.0000, 0.0000, 0.0000, 0.0000, 0.0000, 0.0000, 0.0000, 0.0000, 0.0000,\n",
       "         0.0000],\n",
       "        [0.0000, 0.0000, 0.0000, 0.0000, 0.0000, 0.0000, 0.0000, 0.0000, 0.0000,\n",
       "         0.0000],\n",
       "        [0.0000, 0.0000, 0.0000, 0.0000, 0.0000, 0.0000, 0.0000, 0.0000, 0.0000,\n",
       "         0.0000],\n",
       "        [0.0000, 0.0000, 0.0000, 0.0000, 0.0000, 0.0000, 0.0000, 0.0000, 0.0000,\n",
       "         0.0000],\n",
       "        [0.0000, 0.0000, 0.0000, 0.0000, 0.0000, 0.0000, 0.0000, 0.0000, 0.0000,\n",
       "         0.0000],\n",
       "        [0.0000, 0.0000, 0.0000, 0.0000, 0.0000, 0.0000, 0.0000, 0.0000, 0.0000,\n",
       "         0.0000],\n",
       "        [0.0000, 0.0000, 0.0000, 0.0000, 0.0000, 0.0000, 0.0000, 0.0000, 0.0000,\n",
       "         0.0000],\n",
       "        [0.0000, 0.0000, 0.0000, 0.0000, 0.0000, 0.0000, 0.0000, 0.0000, 0.0000,\n",
       "         0.0000]], grad_fn=<CopySlices>)"
      ]
     },
     "execution_count": 175,
     "metadata": {},
     "output_type": "execute_result"
    }
   ],
   "source": [
    "# initial condition\n",
    "u_plot[0,:] = u_res[72:82].view(1,-1)\n",
    "u_plot"
   ]
  },
  {
   "cell_type": "code",
   "execution_count": 176,
   "id": "82a43ce7-1575-4863-97d5-3fc1cb970919",
   "metadata": {},
   "outputs": [
    {
     "data": {
      "text/plain": [
       "tensor([[ 8.5313e-03,  3.2708e-01,  6.3751e-01,  8.6819e-01,  9.8648e-01,\n",
       "          9.8782e-01,  8.7258e-01,  6.4236e-01,  3.2838e-01,  1.5722e-02],\n",
       "        [ 2.9820e-03,  0.0000e+00,  0.0000e+00,  0.0000e+00,  0.0000e+00,\n",
       "          0.0000e+00,  0.0000e+00,  0.0000e+00,  0.0000e+00,  1.7371e-03],\n",
       "        [ 4.2717e-04,  0.0000e+00,  0.0000e+00,  0.0000e+00,  0.0000e+00,\n",
       "          0.0000e+00,  0.0000e+00,  0.0000e+00,  0.0000e+00, -5.5192e-03],\n",
       "        [ 3.7041e-04,  0.0000e+00,  0.0000e+00,  0.0000e+00,  0.0000e+00,\n",
       "          0.0000e+00,  0.0000e+00,  0.0000e+00,  0.0000e+00, -7.3167e-03],\n",
       "        [ 1.9187e-03,  0.0000e+00,  0.0000e+00,  0.0000e+00,  0.0000e+00,\n",
       "          0.0000e+00,  0.0000e+00,  0.0000e+00,  0.0000e+00, -5.3944e-03],\n",
       "        [ 3.8484e-03,  0.0000e+00,  0.0000e+00,  0.0000e+00,  0.0000e+00,\n",
       "          0.0000e+00,  0.0000e+00,  0.0000e+00,  0.0000e+00, -1.7130e-03],\n",
       "        [ 4.7753e-03,  0.0000e+00,  0.0000e+00,  0.0000e+00,  0.0000e+00,\n",
       "          0.0000e+00,  0.0000e+00,  0.0000e+00,  0.0000e+00,  1.8685e-03],\n",
       "        [ 3.3801e-03,  0.0000e+00,  0.0000e+00,  0.0000e+00,  0.0000e+00,\n",
       "          0.0000e+00,  0.0000e+00,  0.0000e+00,  0.0000e+00,  3.8783e-03],\n",
       "        [-1.3770e-03,  0.0000e+00,  0.0000e+00,  0.0000e+00,  0.0000e+00,\n",
       "          0.0000e+00,  0.0000e+00,  0.0000e+00,  0.0000e+00,  3.3889e-03],\n",
       "        [-1.0132e-02,  0.0000e+00,  0.0000e+00,  0.0000e+00,  0.0000e+00,\n",
       "          0.0000e+00,  0.0000e+00,  0.0000e+00,  0.0000e+00,  2.1130e-05]],\n",
       "       grad_fn=<CopySlices>)"
      ]
     },
     "execution_count": 176,
     "metadata": {},
     "output_type": "execute_result"
    }
   ],
   "source": [
    "# left boundary condition\n",
    "u_plot[1:10,0] = u_res[82:91].view(1,-1)\n",
    "# right boundary condition\n",
    "u_plot[1:10,9] = u_res[91:100].view(1,-1)\n",
    "u_plot"
   ]
  },
  {
   "cell_type": "code",
   "execution_count": 177,
   "id": "44a58800-751e-4188-b5d0-9b2b1c1b3c08",
   "metadata": {},
   "outputs": [
    {
     "data": {
      "text/plain": [
       "tensor([[ 8.5313e-03,  3.2708e-01,  6.3751e-01,  8.6819e-01,  9.8648e-01,\n",
       "          9.8782e-01,  8.7258e-01,  6.4236e-01,  3.2838e-01,  1.5722e-02],\n",
       "        [ 2.9820e-03,  3.1886e-01,  6.3158e-01,  8.6530e-01,  9.8308e-01,\n",
       "          9.7924e-01,  8.5497e-01,  6.1579e-01,  3.0184e-01,  1.7371e-03],\n",
       "        [ 4.2717e-04,  3.1311e-01,  6.2756e-01,  8.6402e-01,  9.8107e-01,\n",
       "          9.7196e-01,  8.3901e-01,  5.9241e-01,  2.8101e-01, -5.5192e-03],\n",
       "        [ 3.7041e-04,  3.0914e-01,  6.2447e-01,  8.6310e-01,  9.7910e-01,\n",
       "          9.6464e-01,  8.2357e-01,  5.7137e-01,  2.6492e-01, -7.3167e-03],\n",
       "        [ 1.9187e-03,  3.0585e-01,  6.2088e-01,  8.6084e-01,  9.7536e-01,\n",
       "          9.5554e-01,  8.0709e-01,  5.5132e-01,  2.5207e-01, -5.3944e-03],\n",
       "        [ 3.8484e-03,  3.0176e-01,  6.1499e-01,  8.5521e-01,  9.6778e-01,\n",
       "          9.4270e-01,  7.8786e-01,  5.3071e-01,  2.4071e-01, -1.7130e-03],\n",
       "        [ 4.7753e-03,  2.9530e-01,  6.0497e-01,  8.4422e-01,  9.5441e-01,\n",
       "          9.2434e-01,  7.6433e-01,  5.0809e-01,  2.2914e-01,  1.8685e-03],\n",
       "        [ 3.3801e-03,  2.8503e-01,  5.8926e-01,  8.2626e-01,  9.3370e-01,\n",
       "          8.9913e-01,  7.3545e-01,  4.8241e-01,  2.1603e-01,  3.8783e-03],\n",
       "        [-1.3770e-03,  2.6988e-01,  5.6680e-01,  8.0028e-01,  9.0478e-01,\n",
       "          8.6641e-01,  7.0076e-01,  4.5318e-01,  2.0058e-01,  3.3889e-03],\n",
       "        [-1.0132e-02,  2.4931e-01,  5.3713e-01,  7.6595e-01,  8.6744e-01,\n",
       "          8.2620e-01,  6.6043e-01,  4.2043e-01,  1.8252e-01,  2.1130e-05]],\n",
       "       grad_fn=<CopySlices>)"
      ]
     },
     "execution_count": 177,
     "metadata": {},
     "output_type": "execute_result"
    }
   ],
   "source": [
    "# pde area\n",
    "u_plot[1:10,1:9] = u_res[0:72].view(8,9).T\n",
    "u_plot"
   ]
  },
  {
   "cell_type": "code",
   "execution_count": 178,
   "id": "5516e719-8f4f-44f4-9178-3bb2948e06a6",
   "metadata": {},
   "outputs": [
    {
     "data": {
      "image/png": "[encoded data removed]",
      "text/plain": [
       "<Figure size 1000x700 with 1 Axes>"
      ]
     },
     "metadata": {},
     "output_type": "display_data"
    }
   ],
   "source": [
    "# Визуализация\n",
    "import matplotlib.pyplot as plt\n",
    "from mpl_toolkits.mplot3d import Axes3D\n",
    "\n",
    "fig = plt.figure(figsize=(10, 7))\n",
    "ax = fig.add_subplot(111, projection='3d')\n",
    "ax.plot_surface(x_plot.detach().numpy() , t_plot.detach().numpy() , u_plot.detach().numpy() , cmap='viridis')\n",
    "ax.set_xlabel('x')\n",
    "ax.set_ylabel('t')\n",
    "ax.set_zlabel('u(x,t)')\n",
    "ax.set_title('Решение 1D уравнения теплопроводности')\n",
    "plt.show()"
   ]
  },
  {
   "cell_type": "code",
   "execution_count": null,
   "id": "76a10cde-73c7-4247-9475-d8dbd70fb727",
   "metadata": {},
   "outputs": [],
   "source": []
  }
 ],
 "metadata": {
  "kernelspec": {
   "display_name": "Python 3 (ipykernel)",
   "language": "python",
   "name": "python3"
  },
  "language_info": {
   "codemirror_mode": {
    "name": "ipython",
    "version": 3
   },
   "file_extension": ".py",
   "mimetype": "text/x-python",
   "name": "python",
   "nbconvert_exporter": "python",
   "pygments_lexer": "ipython3",
   "version": "3.10.12"
  }
 },
 "nbformat": 4,
 "nbformat_minor": 5
}
