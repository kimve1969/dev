{
 "cells": [
  {
   "cell_type": "markdown",
   "id": "b5c1157c-e280-4bb6-8070-f0379dc6c5a8",
   "metadata": {},
   "source": [
    "# Пример использования языка LaTeX"
   ]
  },
  {
   "cell_type": "markdown",
   "id": "6514f989-e4bf-487b-bc1a-8bc3c13204ef",
   "metadata": {},
   "source": [
    "## Греческие буквы\n",
    "$$\n",
    "\\alpha, \\beta, \\gamma, \\Gamma, \\delta, \\Delta, \\omega, \\Omega, \\pi, \\Pi, \\sigma, \\Sigma\n",
    "$$"
   ]
  },
  {
   "cell_type": "markdown",
   "id": "b3ebacc3-02ff-4ef0-8d59-e905a6b96bcb",
   "metadata": {},
   "source": [
    "## Верхние и нижние индексы\n",
    "$$\n",
    "x^2, a_n, x^{n+1}, C_{i,j}, y_{i+1}^2\n",
    "$$"
   ]
  },
  {
   "cell_type": "markdown",
   "id": "a7400581-71e3-4c74-b102-39200de53725",
   "metadata": {},
   "source": [
    "## Дроби и корни\n",
    "$$\n",
    "\\frac{a}{b}, \\sqrt{x}, \\sqrt[n]{x}\n",
    "$$"
   ]
  },
  {
   "cell_type": "markdown",
   "id": "373236c7-a2f9-4f19-804b-6c0d9c32dbc0",
   "metadata": {},
   "source": [
    "## Скобки\n",
    "$$\n",
    "( \\frac{a}{b}), [\\int f(x) \\, dx]\n",
    "$$"
   ]
  },
  {
   "cell_type": "markdown",
   "id": "cda331e8-aad8-4a24-ae92-674b71b20851",
   "metadata": {},
   "source": [
    "## Интегралы, суммы и пределы\n",
    "$$\n",
    "\\int_a^b f(x) \\, dx, \\sum_{i=1}^n i, \\lim_{x \\to \\infty} f{x}\n",
    "$$"
   ]
  },
  {
   "cell_type": "markdown",
   "id": "0b87fff4-807c-4e35-872c-33381986d908",
   "metadata": {},
   "source": [
    "## Частные дифференциалы\n",
    "$$\n",
    "\\frac{\\partial u}{\\partial t}\n",
    "$$"
   ]
  },
  {
   "cell_type": "markdown",
   "id": "e4ab077d-6a09-47ae-b804-db1dfcfd7310",
   "metadata": {},
   "source": [
    "## Матрицы и определители\n",
    "$$\n",
    "\\begin{pmatrix}\n",
    "a & b \\\\\n",
    "c & d\n",
    "\\end{pmatrix},\n",
    "\\quad\n",
    "\\begin{bmatrix}\n",
    "1 & 0 \\\\\n",
    "0 & 1\n",
    "\\end{bmatrix},\n",
    "\\quad\n",
    "\\begin{vmatrix}\n",
    "1 & 0 \\\\\n",
    "0 & 1\n",
    "\\end{vmatrix}\n",
    "$$"
   ]
  },
  {
   "cell_type": "markdown",
   "id": "b061c63d-cf16-490d-914a-56402a04ad1c",
   "metadata": {},
   "source": [
    "## Разные символы\n",
    "$$\n",
    "\\forall, \\exists, \\in, \\subset, \\cup, \\cap, \\neq, \\approx, \\leq, \\geq, \\Rightarrow, \\Leftrightarrow\n",
    "$$"
   ]
  },
  {
   "cell_type": "code",
   "execution_count": null,
   "id": "c1ded5dd-1ad4-4e9a-a772-2833f51ab58d",
   "metadata": {},
   "outputs": [],
   "source": []
  },
  {
   "cell_type": "code",
   "execution_count": null,
   "id": "f062f524-db7b-4c4a-ad22-3c8e098f1890",
   "metadata": {},
   "outputs": [],
   "source": []
  },
  {
   "cell_type": "code",
   "execution_count": null,
   "id": "62bc0239-4b43-4f03-884b-597e2c484bc8",
   "metadata": {},
   "outputs": [],
   "source": []
  }
 ],
 "metadata": {
  "kernelspec": {
   "display_name": "Python 3 (ipykernel)",
   "language": "python",
   "name": "python3"
  },
  "language_info": {
   "codemirror_mode": {
    "name": "ipython",
    "version": 3
   },
   "file_extension": ".py",
   "mimetype": "text/x-python",
   "name": "python",
   "nbconvert_exporter": "python",
   "pygments_lexer": "ipython3",
   "version": "3.10.12"
  }
 },
 "nbformat": 4,
 "nbformat_minor": 5
}
